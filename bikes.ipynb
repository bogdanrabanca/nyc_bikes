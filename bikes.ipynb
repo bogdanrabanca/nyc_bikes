{
 "cells": [
  {
   "cell_type": "code",
   "execution_count": 22,
   "metadata": {
    "scrolled": true
   },
   "outputs": [
    {
     "data": {
      "text/html": [
       "<div>\n",
       "<style scoped>\n",
       "    .dataframe tbody tr th:only-of-type {\n",
       "        vertical-align: middle;\n",
       "    }\n",
       "\n",
       "    .dataframe tbody tr th {\n",
       "        vertical-align: top;\n",
       "    }\n",
       "\n",
       "    .dataframe thead th {\n",
       "        text-align: right;\n",
       "    }\n",
       "</style>\n",
       "<table border=\"1\" class=\"dataframe\">\n",
       "  <thead>\n",
       "    <tr style=\"text-align: right;\">\n",
       "      <th></th>\n",
       "      <th>tripduration</th>\n",
       "      <th>starttime</th>\n",
       "      <th>stoptime</th>\n",
       "      <th>start station id</th>\n",
       "      <th>start station name</th>\n",
       "      <th>start station latitude</th>\n",
       "      <th>start station longitude</th>\n",
       "      <th>end station id</th>\n",
       "      <th>end station name</th>\n",
       "      <th>end station latitude</th>\n",
       "      <th>end station longitude</th>\n",
       "      <th>bikeid</th>\n",
       "      <th>usertype</th>\n",
       "      <th>birth year</th>\n",
       "      <th>gender</th>\n",
       "    </tr>\n",
       "  </thead>\n",
       "  <tbody>\n",
       "    <tr>\n",
       "      <th>0</th>\n",
       "      <td>897</td>\n",
       "      <td>2019-07-01 00:00:00.1320</td>\n",
       "      <td>2019-07-01 00:14:58.0040</td>\n",
       "      <td>493.0</td>\n",
       "      <td>W 45 St &amp; 6 Ave</td>\n",
       "      <td>40.756800</td>\n",
       "      <td>-73.982912</td>\n",
       "      <td>454.0</td>\n",
       "      <td>E 51 St &amp; 1 Ave</td>\n",
       "      <td>40.754557</td>\n",
       "      <td>-73.965930</td>\n",
       "      <td>18340</td>\n",
       "      <td>Subscriber</td>\n",
       "      <td>1966</td>\n",
       "      <td>1</td>\n",
       "    </tr>\n",
       "    <tr>\n",
       "      <th>1</th>\n",
       "      <td>267</td>\n",
       "      <td>2019-07-01 00:00:05.1780</td>\n",
       "      <td>2019-07-01 00:04:32.4500</td>\n",
       "      <td>3143.0</td>\n",
       "      <td>5 Ave &amp; E 78 St</td>\n",
       "      <td>40.776321</td>\n",
       "      <td>-73.964274</td>\n",
       "      <td>3226.0</td>\n",
       "      <td>W 82 St &amp; Central Park West</td>\n",
       "      <td>40.782750</td>\n",
       "      <td>-73.971370</td>\n",
       "      <td>21458</td>\n",
       "      <td>Customer</td>\n",
       "      <td>1996</td>\n",
       "      <td>1</td>\n",
       "    </tr>\n",
       "    <tr>\n",
       "      <th>2</th>\n",
       "      <td>2201</td>\n",
       "      <td>2019-07-01 00:00:05.2130</td>\n",
       "      <td>2019-07-01 00:36:46.7490</td>\n",
       "      <td>317.0</td>\n",
       "      <td>E 6 St &amp; Avenue B</td>\n",
       "      <td>40.724537</td>\n",
       "      <td>-73.981854</td>\n",
       "      <td>3469.0</td>\n",
       "      <td>India St &amp; West St</td>\n",
       "      <td>40.731814</td>\n",
       "      <td>-73.959950</td>\n",
       "      <td>39874</td>\n",
       "      <td>Subscriber</td>\n",
       "      <td>1986</td>\n",
       "      <td>1</td>\n",
       "    </tr>\n",
       "    <tr>\n",
       "      <th>3</th>\n",
       "      <td>1660</td>\n",
       "      <td>2019-07-01 00:00:08.6010</td>\n",
       "      <td>2019-07-01 00:27:48.8050</td>\n",
       "      <td>249.0</td>\n",
       "      <td>Harrison St &amp; Hudson St</td>\n",
       "      <td>40.718710</td>\n",
       "      <td>-74.009001</td>\n",
       "      <td>369.0</td>\n",
       "      <td>Washington Pl &amp; 6 Ave</td>\n",
       "      <td>40.732241</td>\n",
       "      <td>-74.000264</td>\n",
       "      <td>38865</td>\n",
       "      <td>Subscriber</td>\n",
       "      <td>1988</td>\n",
       "      <td>1</td>\n",
       "    </tr>\n",
       "    <tr>\n",
       "      <th>4</th>\n",
       "      <td>109</td>\n",
       "      <td>2019-07-01 00:00:12.1580</td>\n",
       "      <td>2019-07-01 00:02:01.5670</td>\n",
       "      <td>3552.0</td>\n",
       "      <td>W 113 St &amp; Broadway</td>\n",
       "      <td>40.805973</td>\n",
       "      <td>-73.964928</td>\n",
       "      <td>3538.0</td>\n",
       "      <td>W 110 St &amp; Amsterdam Ave</td>\n",
       "      <td>40.802692</td>\n",
       "      <td>-73.962950</td>\n",
       "      <td>30256</td>\n",
       "      <td>Subscriber</td>\n",
       "      <td>1997</td>\n",
       "      <td>1</td>\n",
       "    </tr>\n",
       "  </tbody>\n",
       "</table>\n",
       "</div>"
      ],
      "text/plain": [
       "   tripduration                 starttime                  stoptime  \\\n",
       "0           897  2019-07-01 00:00:00.1320  2019-07-01 00:14:58.0040   \n",
       "1           267  2019-07-01 00:00:05.1780  2019-07-01 00:04:32.4500   \n",
       "2          2201  2019-07-01 00:00:05.2130  2019-07-01 00:36:46.7490   \n",
       "3          1660  2019-07-01 00:00:08.6010  2019-07-01 00:27:48.8050   \n",
       "4           109  2019-07-01 00:00:12.1580  2019-07-01 00:02:01.5670   \n",
       "\n",
       "   start station id       start station name  start station latitude  \\\n",
       "0             493.0          W 45 St & 6 Ave               40.756800   \n",
       "1            3143.0          5 Ave & E 78 St               40.776321   \n",
       "2             317.0        E 6 St & Avenue B               40.724537   \n",
       "3             249.0  Harrison St & Hudson St               40.718710   \n",
       "4            3552.0      W 113 St & Broadway               40.805973   \n",
       "\n",
       "   start station longitude  end station id             end station name  \\\n",
       "0               -73.982912           454.0              E 51 St & 1 Ave   \n",
       "1               -73.964274          3226.0  W 82 St & Central Park West   \n",
       "2               -73.981854          3469.0           India St & West St   \n",
       "3               -74.009001           369.0        Washington Pl & 6 Ave   \n",
       "4               -73.964928          3538.0     W 110 St & Amsterdam Ave   \n",
       "\n",
       "   end station latitude  end station longitude  bikeid    usertype  \\\n",
       "0             40.754557             -73.965930   18340  Subscriber   \n",
       "1             40.782750             -73.971370   21458    Customer   \n",
       "2             40.731814             -73.959950   39874  Subscriber   \n",
       "3             40.732241             -74.000264   38865  Subscriber   \n",
       "4             40.802692             -73.962950   30256  Subscriber   \n",
       "\n",
       "   birth year  gender  \n",
       "0        1966       1  \n",
       "1        1996       1  \n",
       "2        1986       1  \n",
       "3        1988       1  \n",
       "4        1997       1  "
      ]
     },
     "execution_count": 22,
     "metadata": {},
     "output_type": "execute_result"
    }
   ],
   "source": [
    "import pandas as pd\n",
    "import numpy as np\n",
    "\n",
    "#read one month of data\n",
    "bike_df=pd.read_csv('201907-citibike-tripdata.csv')"
   ]
  },
  {
   "cell_type": "code",
   "execution_count": 132,
   "metadata": {},
   "outputs": [],
   "source": [
    "#change column names\n",
    "bike_df.rename(columns={'tripduration':'duration','starttime':'start','stoptime':'stop','start station name':'start_station',\n",
    "               'start station id':'start_id','start station latitude':'start_lat',\n",
    "                'start station longitude':'start_long','end station id':'end_id',\n",
    "               'end station name':'end_station','end station latitude':'end_lat','end station longitude':'end_long',\n",
    "               'bikeid':'bike','usertype':'user','birth year':'birth_year'},inplace=True)"
   ]
  },
  {
   "cell_type": "code",
   "execution_count": 30,
   "metadata": {},
   "outputs": [
    {
     "name": "stdout",
     "output_type": "stream",
     "text": [
      "<class 'pandas.core.frame.DataFrame'>\n",
      "RangeIndex: 2181064 entries, 0 to 2181063\n",
      "Data columns (total 15 columns):\n",
      "duration         int64\n",
      "start            datetime64[ns]\n",
      "stop             datetime64[ns]\n",
      "start_id         float64\n",
      "start_station    object\n",
      "start_lat        float64\n",
      "start_long       float64\n",
      "end_id           float64\n",
      "end_station      object\n",
      "end_lat          float64\n",
      "end_long         float64\n",
      "bike             int64\n",
      "user             object\n",
      "birth year       int64\n",
      "gender           int64\n",
      "dtypes: datetime64[ns](2), float64(6), int64(4), object(3)\n",
      "memory usage: 249.6+ MB\n"
     ]
    }
   ],
   "source": [
    "bike_df.info()"
   ]
  },
  {
   "cell_type": "code",
   "execution_count": 38,
   "metadata": {},
   "outputs": [
    {
     "name": "stdout",
     "output_type": "stream",
     "text": [
      "<class 'pandas.core.frame.DataFrame'>\n",
      "RangeIndex: 2181064 entries, 0 to 2181063\n",
      "Data columns (total 15 columns):\n",
      "duration         int64\n",
      "start            datetime64[ns]\n",
      "stop             datetime64[ns]\n",
      "start_id         float64\n",
      "start_station    object\n",
      "start_lat        float64\n",
      "start_long       float64\n",
      "end_id           float64\n",
      "end_station      object\n",
      "end_lat          float64\n",
      "end_long         float64\n",
      "bike             int64\n",
      "user             object\n",
      "birth year       int64\n",
      "gender           int64\n",
      "dtypes: datetime64[ns](2), float64(6), int64(4), object(3)\n",
      "memory usage: 249.6+ MB\n"
     ]
    }
   ],
   "source": [
    "#change column types\n",
    "bike_df['start']=pd.to_datetime(bike_df['start'])\n",
    "bike_df['stop']=pd.to_datetime(bike_df['stop'])\n",
    "bike_df['start_id'].apply(lambda x: str(int(x)) if not pd.isna(x) else x)\n",
    "bike_df['end_id'].apply(lambda x: str(int(x)) if not pd.isna(x) else x)\n",
    "bike_df['bike'].apply(lambda x: str(x) if not pd.isna(x) else x)\n",
    "bike_df.info()"
   ]
  },
  {
   "cell_type": "code",
   "execution_count": 187,
   "metadata": {},
   "outputs": [],
   "source": [
    "#add day_of_week and hour colummns\n",
    "bike_df['start_day']=bike_df['start'].dt.weekday\n",
    "bike_df['end_day']=bike_df['stop'].dt.weekday\n",
    "\n",
    "bike_df['start_hour']=bike_df['start'].dt.hour\n",
    "bike_df['end_hour']=bike_df['stop'].dt.hour\n",
    "\n",
    "#change start_day and end_day to weekday names\n",
    "weekdays=['Monday','Tuesday','Wednesday','Thursday','Friday','Saturday','Sunday']\n",
    "bike_df['start_day']=bike_df['start_day'].apply(lambda x: weekdays[x])\n",
    "bike_df['end_day']=bike_df['end_day'].apply(lambda x: weekdays[x])"
   ]
  },
  {
   "cell_type": "markdown",
   "metadata": {},
   "source": [
    "I start creating some quick plots. Eventually I will keep only the ones that illustrate some insights about the data. \n",
    "\n",
    "At this point I also sometimes choose to do things the long way. So for example I'll avoid using pivot_table() function for some data manipulation even if this function would considerably simplify the code. This is because I like to practice a little more the basic pandas functions. Eventually I will replace the longer code with the shorter versions, so that it's easier to read. "
   ]
  },
  {
   "cell_type": "code",
   "execution_count": 151,
   "metadata": {},
   "outputs": [
    {
     "data": {
      "text/html": [
       "\n",
       "    <div class=\"bk-root\">\n",
       "        <a href=\"https://bokeh.pydata.org\" target=\"_blank\" class=\"bk-logo bk-logo-small bk-logo-notebook\"></a>\n",
       "        <span id=\"21258\">Loading BokehJS ...</span>\n",
       "    </div>"
      ]
     },
     "metadata": {},
     "output_type": "display_data"
    },
    {
     "data": {
      "application/javascript": [
       "\n",
       "(function(root) {\n",
       "  function now() {\n",
       "    return new Date();\n",
       "  }\n",
       "\n",
       "  var force = true;\n",
       "\n",
       "  if (typeof (root._bokeh_onload_callbacks) === \"undefined\" || force === true) {\n",
       "    root._bokeh_onload_callbacks = [];\n",
       "    root._bokeh_is_loading = undefined;\n",
       "  }\n",
       "\n",
       "  var JS_MIME_TYPE = 'application/javascript';\n",
       "  var HTML_MIME_TYPE = 'text/html';\n",
       "  var EXEC_MIME_TYPE = 'application/vnd.bokehjs_exec.v0+json';\n",
       "  var CLASS_NAME = 'output_bokeh rendered_html';\n",
       "\n",
       "  /**\n",
       "   * Render data to the DOM node\n",
       "   */\n",
       "  function render(props, node) {\n",
       "    var script = document.createElement(\"script\");\n",
       "    node.appendChild(script);\n",
       "  }\n",
       "\n",
       "  /**\n",
       "   * Handle when an output is cleared or removed\n",
       "   */\n",
       "  function handleClearOutput(event, handle) {\n",
       "    var cell = handle.cell;\n",
       "\n",
       "    var id = cell.output_area._bokeh_element_id;\n",
       "    var server_id = cell.output_area._bokeh_server_id;\n",
       "    // Clean up Bokeh references\n",
       "    if (id != null && id in Bokeh.index) {\n",
       "      Bokeh.index[id].model.document.clear();\n",
       "      delete Bokeh.index[id];\n",
       "    }\n",
       "\n",
       "    if (server_id !== undefined) {\n",
       "      // Clean up Bokeh references\n",
       "      var cmd = \"from bokeh.io.state import curstate; print(curstate().uuid_to_server['\" + server_id + \"'].get_sessions()[0].document.roots[0]._id)\";\n",
       "      cell.notebook.kernel.execute(cmd, {\n",
       "        iopub: {\n",
       "          output: function(msg) {\n",
       "            var id = msg.content.text.trim();\n",
       "            if (id in Bokeh.index) {\n",
       "              Bokeh.index[id].model.document.clear();\n",
       "              delete Bokeh.index[id];\n",
       "            }\n",
       "          }\n",
       "        }\n",
       "      });\n",
       "      // Destroy server and session\n",
       "      var cmd = \"import bokeh.io.notebook as ion; ion.destroy_server('\" + server_id + \"')\";\n",
       "      cell.notebook.kernel.execute(cmd);\n",
       "    }\n",
       "  }\n",
       "\n",
       "  /**\n",
       "   * Handle when a new output is added\n",
       "   */\n",
       "  function handleAddOutput(event, handle) {\n",
       "    var output_area = handle.output_area;\n",
       "    var output = handle.output;\n",
       "\n",
       "    // limit handleAddOutput to display_data with EXEC_MIME_TYPE content only\n",
       "    if ((output.output_type != \"display_data\") || (!output.data.hasOwnProperty(EXEC_MIME_TYPE))) {\n",
       "      return\n",
       "    }\n",
       "\n",
       "    var toinsert = output_area.element.find(\".\" + CLASS_NAME.split(' ')[0]);\n",
       "\n",
       "    if (output.metadata[EXEC_MIME_TYPE][\"id\"] !== undefined) {\n",
       "      toinsert[toinsert.length - 1].firstChild.textContent = output.data[JS_MIME_TYPE];\n",
       "      // store reference to embed id on output_area\n",
       "      output_area._bokeh_element_id = output.metadata[EXEC_MIME_TYPE][\"id\"];\n",
       "    }\n",
       "    if (output.metadata[EXEC_MIME_TYPE][\"server_id\"] !== undefined) {\n",
       "      var bk_div = document.createElement(\"div\");\n",
       "      bk_div.innerHTML = output.data[HTML_MIME_TYPE];\n",
       "      var script_attrs = bk_div.children[0].attributes;\n",
       "      for (var i = 0; i < script_attrs.length; i++) {\n",
       "        toinsert[toinsert.length - 1].firstChild.setAttribute(script_attrs[i].name, script_attrs[i].value);\n",
       "      }\n",
       "      // store reference to server id on output_area\n",
       "      output_area._bokeh_server_id = output.metadata[EXEC_MIME_TYPE][\"server_id\"];\n",
       "    }\n",
       "  }\n",
       "\n",
       "  function register_renderer(events, OutputArea) {\n",
       "\n",
       "    function append_mime(data, metadata, element) {\n",
       "      // create a DOM node to render to\n",
       "      var toinsert = this.create_output_subarea(\n",
       "        metadata,\n",
       "        CLASS_NAME,\n",
       "        EXEC_MIME_TYPE\n",
       "      );\n",
       "      this.keyboard_manager.register_events(toinsert);\n",
       "      // Render to node\n",
       "      var props = {data: data, metadata: metadata[EXEC_MIME_TYPE]};\n",
       "      render(props, toinsert[toinsert.length - 1]);\n",
       "      element.append(toinsert);\n",
       "      return toinsert\n",
       "    }\n",
       "\n",
       "    /* Handle when an output is cleared or removed */\n",
       "    events.on('clear_output.CodeCell', handleClearOutput);\n",
       "    events.on('delete.Cell', handleClearOutput);\n",
       "\n",
       "    /* Handle when a new output is added */\n",
       "    events.on('output_added.OutputArea', handleAddOutput);\n",
       "\n",
       "    /**\n",
       "     * Register the mime type and append_mime function with output_area\n",
       "     */\n",
       "    OutputArea.prototype.register_mime_type(EXEC_MIME_TYPE, append_mime, {\n",
       "      /* Is output safe? */\n",
       "      safe: true,\n",
       "      /* Index of renderer in `output_area.display_order` */\n",
       "      index: 0\n",
       "    });\n",
       "  }\n",
       "\n",
       "  // register the mime type if in Jupyter Notebook environment and previously unregistered\n",
       "  if (root.Jupyter !== undefined) {\n",
       "    var events = require('base/js/events');\n",
       "    var OutputArea = require('notebook/js/outputarea').OutputArea;\n",
       "\n",
       "    if (OutputArea.prototype.mime_types().indexOf(EXEC_MIME_TYPE) == -1) {\n",
       "      register_renderer(events, OutputArea);\n",
       "    }\n",
       "  }\n",
       "\n",
       "  \n",
       "  if (typeof (root._bokeh_timeout) === \"undefined\" || force === true) {\n",
       "    root._bokeh_timeout = Date.now() + 5000;\n",
       "    root._bokeh_failed_load = false;\n",
       "  }\n",
       "\n",
       "  var NB_LOAD_WARNING = {'data': {'text/html':\n",
       "     \"<div style='background-color: #fdd'>\\n\"+\n",
       "     \"<p>\\n\"+\n",
       "     \"BokehJS does not appear to have successfully loaded. If loading BokehJS from CDN, this \\n\"+\n",
       "     \"may be due to a slow or bad network connection. Possible fixes:\\n\"+\n",
       "     \"</p>\\n\"+\n",
       "     \"<ul>\\n\"+\n",
       "     \"<li>re-rerun `output_notebook()` to attempt to load from CDN again, or</li>\\n\"+\n",
       "     \"<li>use INLINE resources instead, as so:</li>\\n\"+\n",
       "     \"</ul>\\n\"+\n",
       "     \"<code>\\n\"+\n",
       "     \"from bokeh.resources import INLINE\\n\"+\n",
       "     \"output_notebook(resources=INLINE)\\n\"+\n",
       "     \"</code>\\n\"+\n",
       "     \"</div>\"}};\n",
       "\n",
       "  function display_loaded() {\n",
       "    var el = document.getElementById(\"21258\");\n",
       "    if (el != null) {\n",
       "      el.textContent = \"BokehJS is loading...\";\n",
       "    }\n",
       "    if (root.Bokeh !== undefined) {\n",
       "      if (el != null) {\n",
       "        el.textContent = \"BokehJS \" + root.Bokeh.version + \" successfully loaded.\";\n",
       "      }\n",
       "    } else if (Date.now() < root._bokeh_timeout) {\n",
       "      setTimeout(display_loaded, 100)\n",
       "    }\n",
       "  }\n",
       "\n",
       "\n",
       "  function run_callbacks() {\n",
       "    try {\n",
       "      root._bokeh_onload_callbacks.forEach(function(callback) { callback() });\n",
       "    }\n",
       "    finally {\n",
       "      delete root._bokeh_onload_callbacks\n",
       "    }\n",
       "    console.info(\"Bokeh: all callbacks have finished\");\n",
       "  }\n",
       "\n",
       "  function load_libs(js_urls, callback) {\n",
       "    root._bokeh_onload_callbacks.push(callback);\n",
       "    if (root._bokeh_is_loading > 0) {\n",
       "      console.log(\"Bokeh: BokehJS is being loaded, scheduling callback at\", now());\n",
       "      return null;\n",
       "    }\n",
       "    if (js_urls == null || js_urls.length === 0) {\n",
       "      run_callbacks();\n",
       "      return null;\n",
       "    }\n",
       "    console.log(\"Bokeh: BokehJS not loaded, scheduling load and callback at\", now());\n",
       "    root._bokeh_is_loading = js_urls.length;\n",
       "    for (var i = 0; i < js_urls.length; i++) {\n",
       "      var url = js_urls[i];\n",
       "      var s = document.createElement('script');\n",
       "      s.src = url;\n",
       "      s.async = false;\n",
       "      s.onreadystatechange = s.onload = function() {\n",
       "        root._bokeh_is_loading--;\n",
       "        if (root._bokeh_is_loading === 0) {\n",
       "          console.log(\"Bokeh: all BokehJS libraries loaded\");\n",
       "          run_callbacks()\n",
       "        }\n",
       "      };\n",
       "      s.onerror = function() {\n",
       "        console.warn(\"failed to load library \" + url);\n",
       "      };\n",
       "      console.log(\"Bokeh: injecting script tag for BokehJS library: \", url);\n",
       "      document.getElementsByTagName(\"head\")[0].appendChild(s);\n",
       "    }\n",
       "  };var element = document.getElementById(\"21258\");\n",
       "  if (element == null) {\n",
       "    console.log(\"Bokeh: ERROR: autoload.js configured with elementid '21258' but no matching script tag was found. \")\n",
       "    return false;\n",
       "  }\n",
       "\n",
       "  var js_urls = [\"https://cdn.pydata.org/bokeh/release/bokeh-1.0.2.min.js\", \"https://cdn.pydata.org/bokeh/release/bokeh-widgets-1.0.2.min.js\", \"https://cdn.pydata.org/bokeh/release/bokeh-tables-1.0.2.min.js\", \"https://cdn.pydata.org/bokeh/release/bokeh-gl-1.0.2.min.js\"];\n",
       "\n",
       "  var inline_js = [\n",
       "    function(Bokeh) {\n",
       "      Bokeh.set_log_level(\"info\");\n",
       "    },\n",
       "    \n",
       "    function(Bokeh) {\n",
       "      \n",
       "    },\n",
       "    function(Bokeh) {\n",
       "      console.log(\"Bokeh: injecting CSS: https://cdn.pydata.org/bokeh/release/bokeh-1.0.2.min.css\");\n",
       "      Bokeh.embed.inject_css(\"https://cdn.pydata.org/bokeh/release/bokeh-1.0.2.min.css\");\n",
       "      console.log(\"Bokeh: injecting CSS: https://cdn.pydata.org/bokeh/release/bokeh-widgets-1.0.2.min.css\");\n",
       "      Bokeh.embed.inject_css(\"https://cdn.pydata.org/bokeh/release/bokeh-widgets-1.0.2.min.css\");\n",
       "      console.log(\"Bokeh: injecting CSS: https://cdn.pydata.org/bokeh/release/bokeh-tables-1.0.2.min.css\");\n",
       "      Bokeh.embed.inject_css(\"https://cdn.pydata.org/bokeh/release/bokeh-tables-1.0.2.min.css\");\n",
       "    }\n",
       "  ];\n",
       "\n",
       "  function run_inline_js() {\n",
       "    \n",
       "    if ((root.Bokeh !== undefined) || (force === true)) {\n",
       "      for (var i = 0; i < inline_js.length; i++) {\n",
       "        inline_js[i].call(root, root.Bokeh);\n",
       "      }if (force === true) {\n",
       "        display_loaded();\n",
       "      }} else if (Date.now() < root._bokeh_timeout) {\n",
       "      setTimeout(run_inline_js, 100);\n",
       "    } else if (!root._bokeh_failed_load) {\n",
       "      console.log(\"Bokeh: BokehJS failed to load within specified timeout.\");\n",
       "      root._bokeh_failed_load = true;\n",
       "    } else if (force !== true) {\n",
       "      var cell = $(document.getElementById(\"21258\")).parents('.cell').data().cell;\n",
       "      cell.output_area.append_execute_result(NB_LOAD_WARNING)\n",
       "    }\n",
       "\n",
       "  }\n",
       "\n",
       "  if (root._bokeh_is_loading === 0) {\n",
       "    console.log(\"Bokeh: BokehJS loaded, going straight to plotting\");\n",
       "    run_inline_js();\n",
       "  } else {\n",
       "    load_libs(js_urls, function() {\n",
       "      console.log(\"Bokeh: BokehJS plotting callback run at\", now());\n",
       "      run_inline_js();\n",
       "    });\n",
       "  }\n",
       "}(window));"
      ],
      "application/vnd.bokehjs_load.v0+json": "\n(function(root) {\n  function now() {\n    return new Date();\n  }\n\n  var force = true;\n\n  if (typeof (root._bokeh_onload_callbacks) === \"undefined\" || force === true) {\n    root._bokeh_onload_callbacks = [];\n    root._bokeh_is_loading = undefined;\n  }\n\n  \n\n  \n  if (typeof (root._bokeh_timeout) === \"undefined\" || force === true) {\n    root._bokeh_timeout = Date.now() + 5000;\n    root._bokeh_failed_load = false;\n  }\n\n  var NB_LOAD_WARNING = {'data': {'text/html':\n     \"<div style='background-color: #fdd'>\\n\"+\n     \"<p>\\n\"+\n     \"BokehJS does not appear to have successfully loaded. If loading BokehJS from CDN, this \\n\"+\n     \"may be due to a slow or bad network connection. Possible fixes:\\n\"+\n     \"</p>\\n\"+\n     \"<ul>\\n\"+\n     \"<li>re-rerun `output_notebook()` to attempt to load from CDN again, or</li>\\n\"+\n     \"<li>use INLINE resources instead, as so:</li>\\n\"+\n     \"</ul>\\n\"+\n     \"<code>\\n\"+\n     \"from bokeh.resources import INLINE\\n\"+\n     \"output_notebook(resources=INLINE)\\n\"+\n     \"</code>\\n\"+\n     \"</div>\"}};\n\n  function display_loaded() {\n    var el = document.getElementById(\"21258\");\n    if (el != null) {\n      el.textContent = \"BokehJS is loading...\";\n    }\n    if (root.Bokeh !== undefined) {\n      if (el != null) {\n        el.textContent = \"BokehJS \" + root.Bokeh.version + \" successfully loaded.\";\n      }\n    } else if (Date.now() < root._bokeh_timeout) {\n      setTimeout(display_loaded, 100)\n    }\n  }\n\n\n  function run_callbacks() {\n    try {\n      root._bokeh_onload_callbacks.forEach(function(callback) { callback() });\n    }\n    finally {\n      delete root._bokeh_onload_callbacks\n    }\n    console.info(\"Bokeh: all callbacks have finished\");\n  }\n\n  function load_libs(js_urls, callback) {\n    root._bokeh_onload_callbacks.push(callback);\n    if (root._bokeh_is_loading > 0) {\n      console.log(\"Bokeh: BokehJS is being loaded, scheduling callback at\", now());\n      return null;\n    }\n    if (js_urls == null || js_urls.length === 0) {\n      run_callbacks();\n      return null;\n    }\n    console.log(\"Bokeh: BokehJS not loaded, scheduling load and callback at\", now());\n    root._bokeh_is_loading = js_urls.length;\n    for (var i = 0; i < js_urls.length; i++) {\n      var url = js_urls[i];\n      var s = document.createElement('script');\n      s.src = url;\n      s.async = false;\n      s.onreadystatechange = s.onload = function() {\n        root._bokeh_is_loading--;\n        if (root._bokeh_is_loading === 0) {\n          console.log(\"Bokeh: all BokehJS libraries loaded\");\n          run_callbacks()\n        }\n      };\n      s.onerror = function() {\n        console.warn(\"failed to load library \" + url);\n      };\n      console.log(\"Bokeh: injecting script tag for BokehJS library: \", url);\n      document.getElementsByTagName(\"head\")[0].appendChild(s);\n    }\n  };var element = document.getElementById(\"21258\");\n  if (element == null) {\n    console.log(\"Bokeh: ERROR: autoload.js configured with elementid '21258' but no matching script tag was found. \")\n    return false;\n  }\n\n  var js_urls = [\"https://cdn.pydata.org/bokeh/release/bokeh-1.0.2.min.js\", \"https://cdn.pydata.org/bokeh/release/bokeh-widgets-1.0.2.min.js\", \"https://cdn.pydata.org/bokeh/release/bokeh-tables-1.0.2.min.js\", \"https://cdn.pydata.org/bokeh/release/bokeh-gl-1.0.2.min.js\"];\n\n  var inline_js = [\n    function(Bokeh) {\n      Bokeh.set_log_level(\"info\");\n    },\n    \n    function(Bokeh) {\n      \n    },\n    function(Bokeh) {\n      console.log(\"Bokeh: injecting CSS: https://cdn.pydata.org/bokeh/release/bokeh-1.0.2.min.css\");\n      Bokeh.embed.inject_css(\"https://cdn.pydata.org/bokeh/release/bokeh-1.0.2.min.css\");\n      console.log(\"Bokeh: injecting CSS: https://cdn.pydata.org/bokeh/release/bokeh-widgets-1.0.2.min.css\");\n      Bokeh.embed.inject_css(\"https://cdn.pydata.org/bokeh/release/bokeh-widgets-1.0.2.min.css\");\n      console.log(\"Bokeh: injecting CSS: https://cdn.pydata.org/bokeh/release/bokeh-tables-1.0.2.min.css\");\n      Bokeh.embed.inject_css(\"https://cdn.pydata.org/bokeh/release/bokeh-tables-1.0.2.min.css\");\n    }\n  ];\n\n  function run_inline_js() {\n    \n    if ((root.Bokeh !== undefined) || (force === true)) {\n      for (var i = 0; i < inline_js.length; i++) {\n        inline_js[i].call(root, root.Bokeh);\n      }if (force === true) {\n        display_loaded();\n      }} else if (Date.now() < root._bokeh_timeout) {\n      setTimeout(run_inline_js, 100);\n    } else if (!root._bokeh_failed_load) {\n      console.log(\"Bokeh: BokehJS failed to load within specified timeout.\");\n      root._bokeh_failed_load = true;\n    } else if (force !== true) {\n      var cell = $(document.getElementById(\"21258\")).parents('.cell').data().cell;\n      cell.output_area.append_execute_result(NB_LOAD_WARNING)\n    }\n\n  }\n\n  if (root._bokeh_is_loading === 0) {\n    console.log(\"Bokeh: BokehJS loaded, going straight to plotting\");\n    run_inline_js();\n  } else {\n    load_libs(js_urls, function() {\n      console.log(\"Bokeh: BokehJS plotting callback run at\", now());\n      run_inline_js();\n    });\n  }\n}(window));"
     },
     "metadata": {},
     "output_type": "display_data"
    }
   ],
   "source": [
    "from bokeh.io import show, output_notebook\n",
    "from bokeh.plotting import figure\n",
    "from bokeh.models import ColumnDataSource, FactorRange,HoverTool,Legend,LegendItem\n",
    "from math import pi\n",
    "from bokeh.palettes import small_palettes\n",
    "\n",
    "output_notebook()"
   ]
  },
  {
   "cell_type": "code",
   "execution_count": 152,
   "metadata": {},
   "outputs": [],
   "source": [
    "def make_hist_df(series,rnge,bins=50,normalized=False):\n",
    "    #takes a series and range and returns a dataframe that is ready to be loaded in ColumnDataSource and used for histogram plot\n",
    "    hist,edges=np.histogram(series,bins,rnge)\n",
    "    #if normalized, return percentage of group total instead of group count\n",
    "    if normalized:\n",
    "            return pd.DataFrame({'top':hist/series.count(),'left':edges[:-1],'right':edges[1:]})\n",
    "    return pd.DataFrame({'top':hist,'left':edges[:-1],'right':edges[1:]})\n",
    "\n",
    "def plot_histogram(data_df,legend=None,color='blue',bottom=0,alpha=.3):\n",
    "    #takes a dataframe with tops, left, right and plots it in a histogram\n",
    "    p.quad(left=data_df['left'], right=data_df['right'], top=data_df['top'], bottom=bottom,\n",
    "           fill_color=color, line_color=None, alpha=.3, legend=legend)"
   ]
  },
  {
   "cell_type": "code",
   "execution_count": 165,
   "metadata": {},
   "outputs": [
    {
     "data": {
      "text/html": [
       "\n",
       "\n",
       "\n",
       "\n",
       "\n",
       "\n",
       "  <div class=\"bk-root\" id=\"d5c3b935-e514-41c0-bc0b-73d5166da378\"></div>\n"
      ]
     },
     "metadata": {},
     "output_type": "display_data"
    },
    {
     "data": {
      "application/javascript": [
       "(function(root) {\n",
       "  function embed_document(root) {\n",
       "    \n",
       "  var docs_json = {\"f2fbb8f7-65b5-4c2d-8c71-85200684bfb1\":{\"roots\":{\"references\":[{\"attributes\":{\"below\":[{\"id\":\"23091\",\"type\":\"LinearAxis\"}],\"left\":[{\"id\":\"23096\",\"type\":\"LinearAxis\"}],\"plot_height\":400,\"plot_width\":800,\"renderers\":[{\"id\":\"23091\",\"type\":\"LinearAxis\"},{\"id\":\"23095\",\"type\":\"Grid\"},{\"id\":\"23096\",\"type\":\"LinearAxis\"},{\"id\":\"23100\",\"type\":\"Grid\"},{\"id\":\"23109\",\"type\":\"BoxAnnotation\"},{\"id\":\"23127\",\"type\":\"Legend\"},{\"id\":\"23119\",\"type\":\"GlyphRenderer\"},{\"id\":\"23132\",\"type\":\"GlyphRenderer\"}],\"title\":{\"id\":\"23080\",\"type\":\"Title\"},\"toolbar\":{\"id\":\"23107\",\"type\":\"Toolbar\"},\"x_range\":{\"id\":\"23083\",\"type\":\"DataRange1d\"},\"x_scale\":{\"id\":\"23087\",\"type\":\"LinearScale\"},\"y_range\":{\"id\":\"23085\",\"type\":\"DataRange1d\"},\"y_scale\":{\"id\":\"23089\",\"type\":\"LinearScale\"}},\"id\":\"23081\",\"subtype\":\"Figure\",\"type\":\"Plot\"},{\"attributes\":{\"bottom\":{\"value\":0},\"fill_alpha\":{\"value\":0.3},\"fill_color\":{\"value\":\"orange\"},\"left\":{\"field\":\"left\"},\"line_alpha\":{\"value\":0.3},\"line_color\":{\"value\":null},\"right\":{\"field\":\"right\"},\"top\":{\"field\":\"top\"}},\"id\":\"23117\",\"type\":\"Quad\"},{\"attributes\":{\"callback\":null},\"id\":\"23085\",\"type\":\"DataRange1d\"},{\"attributes\":{},\"id\":\"23636\",\"type\":\"UnionRenderers\"},{\"attributes\":{\"bottom_units\":\"screen\",\"fill_alpha\":{\"value\":0.5},\"fill_color\":{\"value\":\"lightgrey\"},\"left_units\":\"screen\",\"level\":\"overlay\",\"line_alpha\":{\"value\":1.0},\"line_color\":{\"value\":\"black\"},\"line_dash\":[4,4],\"line_width\":{\"value\":2},\"plot\":null,\"render_mode\":\"css\",\"right_units\":\"screen\",\"top_units\":\"screen\"},\"id\":\"23109\",\"type\":\"BoxAnnotation\"},{\"attributes\":{},\"id\":\"23087\",\"type\":\"LinearScale\"},{\"attributes\":{\"callback\":null},\"id\":\"23083\",\"type\":\"DataRange1d\"},{\"attributes\":{},\"id\":\"23637\",\"type\":\"Selection\"},{\"attributes\":{\"bottom\":{\"value\":0},\"fill_alpha\":{\"value\":0.1},\"fill_color\":{\"value\":\"#1f77b4\"},\"left\":{\"field\":\"left\"},\"line_alpha\":{\"value\":0.1},\"line_color\":{\"value\":\"#1f77b4\"},\"right\":{\"field\":\"right\"},\"top\":{\"field\":\"top\"}},\"id\":\"23118\",\"type\":\"Quad\"},{\"attributes\":{},\"id\":\"23089\",\"type\":\"LinearScale\"},{\"attributes\":{\"data_source\":{\"id\":\"23116\",\"type\":\"ColumnDataSource\"},\"glyph\":{\"id\":\"23117\",\"type\":\"Quad\"},\"hover_glyph\":null,\"muted_glyph\":null,\"nonselection_glyph\":{\"id\":\"23118\",\"type\":\"Quad\"},\"selection_glyph\":null,\"view\":{\"id\":\"23120\",\"type\":\"CDSView\"}},\"id\":\"23119\",\"type\":\"GlyphRenderer\"},{\"attributes\":{\"formatter\":{\"id\":\"23125\",\"type\":\"BasicTickFormatter\"},\"plot\":{\"id\":\"23081\",\"subtype\":\"Figure\",\"type\":\"Plot\"},\"ticker\":{\"id\":\"23092\",\"type\":\"BasicTicker\"}},\"id\":\"23091\",\"type\":\"LinearAxis\"},{\"attributes\":{\"source\":{\"id\":\"23116\",\"type\":\"ColumnDataSource\"}},\"id\":\"23120\",\"type\":\"CDSView\"},{\"attributes\":{},\"id\":\"23092\",\"type\":\"BasicTicker\"},{\"attributes\":{},\"id\":\"23123\",\"type\":\"BasicTickFormatter\"},{\"attributes\":{\"plot\":{\"id\":\"23081\",\"subtype\":\"Figure\",\"type\":\"Plot\"},\"ticker\":{\"id\":\"23092\",\"type\":\"BasicTicker\"}},\"id\":\"23095\",\"type\":\"Grid\"},{\"attributes\":{},\"id\":\"23125\",\"type\":\"BasicTickFormatter\"},{\"attributes\":{\"formatter\":{\"id\":\"23123\",\"type\":\"BasicTickFormatter\"},\"plot\":{\"id\":\"23081\",\"subtype\":\"Figure\",\"type\":\"Plot\"},\"ticker\":{\"id\":\"23097\",\"type\":\"BasicTicker\"}},\"id\":\"23096\",\"type\":\"LinearAxis\"},{\"attributes\":{\"items\":[{\"id\":\"23128\",\"type\":\"LegendItem\"},{\"id\":\"23142\",\"type\":\"LegendItem\"}],\"plot\":{\"id\":\"23081\",\"subtype\":\"Figure\",\"type\":\"Plot\"}},\"id\":\"23127\",\"type\":\"Legend\"},{\"attributes\":{},\"id\":\"23097\",\"type\":\"BasicTicker\"},{\"attributes\":{\"label\":{\"value\":\"Male\"},\"renderers\":[{\"id\":\"23119\",\"type\":\"GlyphRenderer\"}]},\"id\":\"23128\",\"type\":\"LegendItem\"},{\"attributes\":{\"dimension\":1,\"plot\":{\"id\":\"23081\",\"subtype\":\"Figure\",\"type\":\"Plot\"},\"ticker\":{\"id\":\"23097\",\"type\":\"BasicTicker\"}},\"id\":\"23100\",\"type\":\"Grid\"},{\"attributes\":{\"plot\":null,\"text\":\"Trip Length by Gender\"},\"id\":\"23080\",\"type\":\"Title\"},{\"attributes\":{\"callback\":null,\"data\":{\"left\":{\"__ndarray__\":\"AAAAAAAAAAAAAAAAAADwPwAAAAAAAABAAAAAAAAACEAAAAAAAAAQQAAAAAAAABRAAAAAAAAAGEAAAAAAAAAcQAAAAAAAACBAAAAAAAAAIkAAAAAAAAAkQAAAAAAAACZAAAAAAAAAKEAAAAAAAAAqQAAAAAAAACxAAAAAAAAALkAAAAAAAAAwQAAAAAAAADFAAAAAAAAAMkAAAAAAAAAzQAAAAAAAADRAAAAAAAAANUAAAAAAAAA2QAAAAAAAADdAAAAAAAAAOEAAAAAAAAA5QAAAAAAAADpAAAAAAAAAO0AAAAAAAAA8QAAAAAAAAD1AAAAAAAAAPkAAAAAAAAA/QAAAAAAAAEBAAAAAAACAQEAAAAAAAABBQAAAAAAAgEFAAAAAAAAAQkAAAAAAAIBCQAAAAAAAAENAAAAAAACAQ0AAAAAAAABEQAAAAAAAgERAAAAAAAAARUAAAAAAAIBFQAAAAAAAAEZAAAAAAACARkAAAAAAAABHQAAAAAAAgEdAAAAAAAAASEAAAAAAAIBIQAAAAAAAAElAAAAAAACASUAAAAAAAABKQAAAAAAAgEpAAAAAAAAAS0AAAAAAAIBLQAAAAAAAAExAAAAAAACATEAAAAAAAABNQAAAAAAAgE1A\",\"dtype\":\"float64\",\"shape\":[60]},\"right\":{\"__ndarray__\":\"AAAAAAAA8D8AAAAAAAAAQAAAAAAAAAhAAAAAAAAAEEAAAAAAAAAUQAAAAAAAABhAAAAAAAAAHEAAAAAAAAAgQAAAAAAAACJAAAAAAAAAJEAAAAAAAAAmQAAAAAAAAChAAAAAAAAAKkAAAAAAAAAsQAAAAAAAAC5AAAAAAAAAMEAAAAAAAAAxQAAAAAAAADJAAAAAAAAAM0AAAAAAAAA0QAAAAAAAADVAAAAAAAAANkAAAAAAAAA3QAAAAAAAADhAAAAAAAAAOUAAAAAAAAA6QAAAAAAAADtAAAAAAAAAPEAAAAAAAAA9QAAAAAAAAD5AAAAAAAAAP0AAAAAAAABAQAAAAAAAgEBAAAAAAAAAQUAAAAAAAIBBQAAAAAAAAEJAAAAAAACAQkAAAAAAAABDQAAAAAAAgENAAAAAAAAAREAAAAAAAIBEQAAAAAAAAEVAAAAAAACARUAAAAAAAABGQAAAAAAAgEZAAAAAAAAAR0AAAAAAAIBHQAAAAAAAAEhAAAAAAACASEAAAAAAAABJQAAAAAAAgElAAAAAAAAASkAAAAAAAIBKQAAAAAAAAEtAAAAAAACAS0AAAAAAAABMQAAAAAAAgExAAAAAAAAATUAAAAAAAIBNQAAAAAAAAE5A\",\"dtype\":\"float64\",\"shape\":[60]},\"top\":{\"__ndarray__\":\"AAAAAAAAAAA6AiLuC5ORP4cdiniM9KQ/qzB+8dozrj+Q3+GCl5KxP9Xz6DlSVrI/+c4bWzD/sT9B9v3KBJmwP7edmrBVaK4/YhwMkM2Hqz/owK0vC0eoP98koezgbKU/bP0j45gcoz+Ajc1vWyOhP8zazrTPlp4/k9R0vJpkmz+kzUFsXrWYP4rWZCo9JZY/+ugr0B1klD9hS6iYFqqSPx2IUKdcLZE/u8ki/bhajz8ud72velqNP6nP3YNLF4s/T6crHOlsiT8fteUSFyqHP4tMphMuqYU/VPn+Ly0jhD9mpuHVyGiCP9B9PKYO6oA/5Sus/VnMfT+im/ws0SZ6P08fM8ghgnc/1Ewwncp0dT9qz9XT7ZhzP/2RFdo/v3E/WtPKlzjEcD/t1jEfaYltP1bbDHNjXWo/JAmU0agbaD9GDIK6YttlP0dkvP6D72M/8ZF+GPvHYT8PgB8BuqNePyCHAq6+jlk/O5BC308CUz81fh6DQPhPP8gwbeEDSUo/uYyc6W+IRT87N6W5iqVFP7WQKG//qkI/ED6Vnje8QD8t1PtC1YM/P1QqNQl97D4/ijHd+k+9OT+liOLgVnc4P9bh2wwvsTU/hjVpgN/fNj+u5D9sTKUzP8TmM7IdJTI/\",\"dtype\":\"float64\",\"shape\":[60]}},\"selected\":{\"id\":\"23140\",\"type\":\"Selection\"},\"selection_policy\":{\"id\":\"23139\",\"type\":\"UnionRenderers\"}},\"id\":\"23116\",\"type\":\"ColumnDataSource\"},{\"attributes\":{\"callback\":null,\"data\":{\"left\":{\"__ndarray__\":\"AAAAAAAAAAAAAAAAAADwPwAAAAAAAABAAAAAAAAACEAAAAAAAAAQQAAAAAAAABRAAAAAAAAAGEAAAAAAAAAcQAAAAAAAACBAAAAAAAAAIkAAAAAAAAAkQAAAAAAAACZAAAAAAAAAKEAAAAAAAAAqQAAAAAAAACxAAAAAAAAALkAAAAAAAAAwQAAAAAAAADFAAAAAAAAAMkAAAAAAAAAzQAAAAAAAADRAAAAAAAAANUAAAAAAAAA2QAAAAAAAADdAAAAAAAAAOEAAAAAAAAA5QAAAAAAAADpAAAAAAAAAO0AAAAAAAAA8QAAAAAAAAD1AAAAAAAAAPkAAAAAAAAA/QAAAAAAAAEBAAAAAAACAQEAAAAAAAABBQAAAAAAAgEFAAAAAAAAAQkAAAAAAAIBCQAAAAAAAAENAAAAAAACAQ0AAAAAAAABEQAAAAAAAgERAAAAAAAAARUAAAAAAAIBFQAAAAAAAAEZAAAAAAACARkAAAAAAAABHQAAAAAAAgEdAAAAAAAAASEAAAAAAAIBIQAAAAAAAAElAAAAAAACASUAAAAAAAABKQAAAAAAAgEpAAAAAAAAAS0AAAAAAAIBLQAAAAAAAAExAAAAAAACATEAAAAAAAABNQAAAAAAAgE1A\",\"dtype\":\"float64\",\"shape\":[60]},\"right\":{\"__ndarray__\":\"AAAAAAAA8D8AAAAAAAAAQAAAAAAAAAhAAAAAAAAAEEAAAAAAAAAUQAAAAAAAABhAAAAAAAAAHEAAAAAAAAAgQAAAAAAAACJAAAAAAAAAJEAAAAAAAAAmQAAAAAAAAChAAAAAAAAAKkAAAAAAAAAsQAAAAAAAAC5AAAAAAAAAMEAAAAAAAAAxQAAAAAAAADJAAAAAAAAAM0AAAAAAAAA0QAAAAAAAADVAAAAAAAAANkAAAAAAAAA3QAAAAAAAADhAAAAAAAAAOUAAAAAAAAA6QAAAAAAAADtAAAAAAAAAPEAAAAAAAAA9QAAAAAAAAD5AAAAAAAAAP0AAAAAAAABAQAAAAAAAgEBAAAAAAAAAQUAAAAAAAIBBQAAAAAAAAEJAAAAAAACAQkAAAAAAAABDQAAAAAAAgENAAAAAAAAAREAAAAAAAIBEQAAAAAAAAEVAAAAAAACARUAAAAAAAABGQAAAAAAAgEZAAAAAAAAAR0AAAAAAAIBHQAAAAAAAAEhAAAAAAACASEAAAAAAAABJQAAAAAAAgElAAAAAAAAASkAAAAAAAIBKQAAAAAAAAEtAAAAAAACAS0AAAAAAAABMQAAAAAAAgExAAAAAAAAATUAAAAAAAIBNQAAAAAAAAE5A\",\"dtype\":\"float64\",\"shape\":[60]},\"top\":{\"__ndarray__\":\"AAAAAAAAAAAlsYhQhfeDPwydvplZrZg/512zpiL7oz+gDDFr7dCpP8r5Xacruq0/xU9y2F52rj96rotacBCuP4Ae3U+jPqw//5aPOH77qj8DJ5H/hMOoPznRt5S6wqY/gWMD5F6ipD+ZxxsCsIqiP6fOnfi+IKE/MDSE6Crknz8GWIIqCqycP1dkMY69aJo/bfG4B4u1mD+rGXkrCoWWP/0qsZ4rGZU/uA59DsiFkz+m+F/pbmmSPwN94hFe2JE/5SAgDe44kD9W35R7xjOPP1xbiN+oO40/4HW6ottViz84CG+JTcmIPwuD1JGTMYc/lhYX1KFEhD+zJBvBv3CBP1BJtw8esH8/vn1UaLUUfD91fEeat0N5PwqgoX5gvHc/1mo/EzgldT/v34Kvpr5zP5qV7RyLW3E/Jc4uN0DHbz9XfhuWg+RrP07EQQM5Nmk/p2Pr7Y1nZz+RY2x7LDZkP7MkG8G/cGE/dNDLexfVWz8o1YR3JyJXP4+dBlXGS1U/IsRDHnbTUj96gLr1l49RP8RX3szTXE4/kgWvdN46Sz/LqQ9ABhxLP5d0rdTdhEg/0ftAszjbRz+5NVwacb9FPyqb6p2NDEY/Lwrp/YxWQz+G4yzCe51CP25+mgjlFT8/\",\"dtype\":\"float64\",\"shape\":[60]}},\"selected\":{\"id\":\"23637\",\"type\":\"Selection\"},\"selection_policy\":{\"id\":\"23636\",\"type\":\"UnionRenderers\"}},\"id\":\"23129\",\"type\":\"ColumnDataSource\"},{\"attributes\":{\"bottom\":{\"value\":0},\"fill_alpha\":{\"value\":0.3},\"fill_color\":{\"value\":\"blue\"},\"left\":{\"field\":\"left\"},\"line_alpha\":{\"value\":0.3},\"line_color\":{\"value\":null},\"right\":{\"field\":\"right\"},\"top\":{\"field\":\"top\"}},\"id\":\"23130\",\"type\":\"Quad\"},{\"attributes\":{},\"id\":\"23101\",\"type\":\"PanTool\"},{\"attributes\":{\"bottom\":{\"value\":0},\"fill_alpha\":{\"value\":0.1},\"fill_color\":{\"value\":\"#1f77b4\"},\"left\":{\"field\":\"left\"},\"line_alpha\":{\"value\":0.1},\"line_color\":{\"value\":\"#1f77b4\"},\"right\":{\"field\":\"right\"},\"top\":{\"field\":\"top\"}},\"id\":\"23131\",\"type\":\"Quad\"},{\"attributes\":{},\"id\":\"23102\",\"type\":\"WheelZoomTool\"},{\"attributes\":{\"data_source\":{\"id\":\"23129\",\"type\":\"ColumnDataSource\"},\"glyph\":{\"id\":\"23130\",\"type\":\"Quad\"},\"hover_glyph\":null,\"muted_glyph\":null,\"nonselection_glyph\":{\"id\":\"23131\",\"type\":\"Quad\"},\"selection_glyph\":null,\"view\":{\"id\":\"23133\",\"type\":\"CDSView\"}},\"id\":\"23132\",\"type\":\"GlyphRenderer\"},{\"attributes\":{\"overlay\":{\"id\":\"23109\",\"type\":\"BoxAnnotation\"}},\"id\":\"23103\",\"type\":\"BoxZoomTool\"},{\"attributes\":{\"source\":{\"id\":\"23129\",\"type\":\"ColumnDataSource\"}},\"id\":\"23133\",\"type\":\"CDSView\"},{\"attributes\":{},\"id\":\"23104\",\"type\":\"SaveTool\"},{\"attributes\":{},\"id\":\"23139\",\"type\":\"UnionRenderers\"},{\"attributes\":{},\"id\":\"23105\",\"type\":\"ResetTool\"},{\"attributes\":{},\"id\":\"23140\",\"type\":\"Selection\"},{\"attributes\":{},\"id\":\"23106\",\"type\":\"HelpTool\"},{\"attributes\":{\"label\":{\"value\":\"Female\"},\"renderers\":[{\"id\":\"23132\",\"type\":\"GlyphRenderer\"}]},\"id\":\"23142\",\"type\":\"LegendItem\"},{\"attributes\":{\"active_drag\":\"auto\",\"active_inspect\":\"auto\",\"active_multi\":null,\"active_scroll\":\"auto\",\"active_tap\":\"auto\",\"tools\":[{\"id\":\"23101\",\"type\":\"PanTool\"},{\"id\":\"23102\",\"type\":\"WheelZoomTool\"},{\"id\":\"23103\",\"type\":\"BoxZoomTool\"},{\"id\":\"23104\",\"type\":\"SaveTool\"},{\"id\":\"23105\",\"type\":\"ResetTool\"},{\"id\":\"23106\",\"type\":\"HelpTool\"}]},\"id\":\"23107\",\"type\":\"Toolbar\"}],\"root_ids\":[\"23081\"]},\"title\":\"Bokeh Application\",\"version\":\"1.0.2\"}};\n",
       "  var render_items = [{\"docid\":\"f2fbb8f7-65b5-4c2d-8c71-85200684bfb1\",\"roots\":{\"23081\":\"d5c3b935-e514-41c0-bc0b-73d5166da378\"}}];\n",
       "  root.Bokeh.embed.embed_items_notebook(docs_json, render_items);\n",
       "\n",
       "  }\n",
       "  if (root.Bokeh !== undefined) {\n",
       "    embed_document(root);\n",
       "  } else {\n",
       "    var attempts = 0;\n",
       "    var timer = setInterval(function(root) {\n",
       "      if (root.Bokeh !== undefined) {\n",
       "        embed_document(root);\n",
       "        clearInterval(timer);\n",
       "      }\n",
       "      attempts++;\n",
       "      if (attempts > 100) {\n",
       "        console.log(\"Bokeh: ERROR: Unable to run BokehJS code because BokehJS library is missing\");\n",
       "        clearInterval(timer);\n",
       "      }\n",
       "    }, 10, root)\n",
       "  }\n",
       "})(window);"
      ],
      "application/vnd.bokehjs_exec.v0+json": ""
     },
     "metadata": {
      "application/vnd.bokehjs_exec.v0+json": {
       "id": "23081"
      }
     },
     "output_type": "display_data"
    }
   ],
   "source": [
    "#filter bike_df by gender\n",
    "bike_male=bike_df[bike_df['gender']==1]\n",
    "bike_female=bike_df[bike_df['gender']==2]\n",
    "\n",
    "#use make_hist_df to prepare dataframes for histogram plotting \n",
    "hist_df_1=make_hist_df(bike_male['duration']/60,[0,60],60,True)\n",
    "hist_df_2=make_hist_df(bike_female['duration']/60,[0,60],60,True)\n",
    "\n",
    "p=figure(title='Trip Length by Gender',plot_height=400,plot_width=800)\n",
    "\n",
    "#plot histrograms \n",
    "plot_histogram(hist_df_1,'Male','orange')\n",
    "plot_histogram(hist_df_2,'Female')\n",
    "\n",
    "show(p)"
   ]
  },
  {
   "cell_type": "code",
   "execution_count": 154,
   "metadata": {},
   "outputs": [
    {
     "data": {
      "text/html": [
       "\n",
       "\n",
       "\n",
       "\n",
       "\n",
       "\n",
       "  <div class=\"bk-root\" id=\"189b3fda-610e-4cd3-b045-904ac10331d5\"></div>\n"
      ]
     },
     "metadata": {},
     "output_type": "display_data"
    },
    {
     "data": {
      "application/javascript": [
       "(function(root) {\n",
       "  function embed_document(root) {\n",
       "    \n",
       "  var docs_json = {\"5a4393f6-2848-4d7d-9149-5067828dc3b8\":{\"roots\":{\"references\":[{\"attributes\":{\"below\":[{\"id\":\"21857\",\"type\":\"LinearAxis\"}],\"left\":[{\"id\":\"21862\",\"type\":\"LinearAxis\"}],\"plot_height\":400,\"plot_width\":800,\"renderers\":[{\"id\":\"21857\",\"type\":\"LinearAxis\"},{\"id\":\"21861\",\"type\":\"Grid\"},{\"id\":\"21862\",\"type\":\"LinearAxis\"},{\"id\":\"21866\",\"type\":\"Grid\"},{\"id\":\"21875\",\"type\":\"BoxAnnotation\"},{\"id\":\"21893\",\"type\":\"Legend\"},{\"id\":\"21885\",\"type\":\"GlyphRenderer\"},{\"id\":\"21898\",\"type\":\"GlyphRenderer\"}],\"title\":{\"id\":\"21846\",\"type\":\"Title\"},\"toolbar\":{\"id\":\"21873\",\"type\":\"Toolbar\"},\"x_range\":{\"id\":\"21849\",\"type\":\"DataRange1d\"},\"x_scale\":{\"id\":\"21853\",\"type\":\"LinearScale\"},\"y_range\":{\"id\":\"21851\",\"type\":\"DataRange1d\"},\"y_scale\":{\"id\":\"21855\",\"type\":\"LinearScale\"}},\"id\":\"21847\",\"subtype\":\"Figure\",\"type\":\"Plot\"},{\"attributes\":{},\"id\":\"21855\",\"type\":\"LinearScale\"},{\"attributes\":{\"data_source\":{\"id\":\"21882\",\"type\":\"ColumnDataSource\"},\"glyph\":{\"id\":\"21883\",\"type\":\"Quad\"},\"hover_glyph\":null,\"muted_glyph\":null,\"nonselection_glyph\":{\"id\":\"21884\",\"type\":\"Quad\"},\"selection_glyph\":null,\"view\":{\"id\":\"21886\",\"type\":\"CDSView\"}},\"id\":\"21885\",\"type\":\"GlyphRenderer\"},{\"attributes\":{\"formatter\":{\"id\":\"21891\",\"type\":\"BasicTickFormatter\"},\"plot\":{\"id\":\"21847\",\"subtype\":\"Figure\",\"type\":\"Plot\"},\"ticker\":{\"id\":\"21858\",\"type\":\"BasicTicker\"}},\"id\":\"21857\",\"type\":\"LinearAxis\"},{\"attributes\":{\"source\":{\"id\":\"21882\",\"type\":\"ColumnDataSource\"}},\"id\":\"21886\",\"type\":\"CDSView\"},{\"attributes\":{\"plot\":null,\"text\":\"Trip Length by User Type\"},\"id\":\"21846\",\"type\":\"Title\"},{\"attributes\":{},\"id\":\"21858\",\"type\":\"BasicTicker\"},{\"attributes\":{},\"id\":\"21889\",\"type\":\"BasicTickFormatter\"},{\"attributes\":{\"plot\":{\"id\":\"21847\",\"subtype\":\"Figure\",\"type\":\"Plot\"},\"ticker\":{\"id\":\"21858\",\"type\":\"BasicTicker\"}},\"id\":\"21861\",\"type\":\"Grid\"},{\"attributes\":{},\"id\":\"21891\",\"type\":\"BasicTickFormatter\"},{\"attributes\":{\"formatter\":{\"id\":\"21889\",\"type\":\"BasicTickFormatter\"},\"plot\":{\"id\":\"21847\",\"subtype\":\"Figure\",\"type\":\"Plot\"},\"ticker\":{\"id\":\"21863\",\"type\":\"BasicTicker\"}},\"id\":\"21862\",\"type\":\"LinearAxis\"},{\"attributes\":{\"items\":[{\"id\":\"21894\",\"type\":\"LegendItem\"},{\"id\":\"21908\",\"type\":\"LegendItem\"}],\"plot\":{\"id\":\"21847\",\"subtype\":\"Figure\",\"type\":\"Plot\"}},\"id\":\"21893\",\"type\":\"Legend\"},{\"attributes\":{},\"id\":\"21863\",\"type\":\"BasicTicker\"},{\"attributes\":{\"label\":{\"value\":\"Tourist\"},\"renderers\":[{\"id\":\"21885\",\"type\":\"GlyphRenderer\"}]},\"id\":\"21894\",\"type\":\"LegendItem\"},{\"attributes\":{\"dimension\":1,\"plot\":{\"id\":\"21847\",\"subtype\":\"Figure\",\"type\":\"Plot\"},\"ticker\":{\"id\":\"21863\",\"type\":\"BasicTicker\"}},\"id\":\"21866\",\"type\":\"Grid\"},{\"attributes\":{},\"id\":\"22380\",\"type\":\"UnionRenderers\"},{\"attributes\":{\"bottom\":{\"value\":0},\"fill_alpha\":{\"value\":0.3},\"fill_color\":{\"value\":\"blue\"},\"left\":{\"field\":\"left\"},\"line_alpha\":{\"value\":0.3},\"line_color\":{\"value\":null},\"right\":{\"field\":\"right\"},\"top\":{\"field\":\"top\"}},\"id\":\"21883\",\"type\":\"Quad\"},{\"attributes\":{\"data_source\":{\"id\":\"21895\",\"type\":\"ColumnDataSource\"},\"glyph\":{\"id\":\"21896\",\"type\":\"Quad\"},\"hover_glyph\":null,\"muted_glyph\":null,\"nonselection_glyph\":{\"id\":\"21897\",\"type\":\"Quad\"},\"selection_glyph\":null,\"view\":{\"id\":\"21899\",\"type\":\"CDSView\"}},\"id\":\"21898\",\"type\":\"GlyphRenderer\"},{\"attributes\":{\"callback\":null,\"data\":{\"left\":{\"__ndarray__\":\"AAAAAAAAAAAAAAAAAADwPwAAAAAAAABAAAAAAAAACEAAAAAAAAAQQAAAAAAAABRAAAAAAAAAGEAAAAAAAAAcQAAAAAAAACBAAAAAAAAAIkAAAAAAAAAkQAAAAAAAACZAAAAAAAAAKEAAAAAAAAAqQAAAAAAAACxAAAAAAAAALkAAAAAAAAAwQAAAAAAAADFAAAAAAAAAMkAAAAAAAAAzQAAAAAAAADRAAAAAAAAANUAAAAAAAAA2QAAAAAAAADdAAAAAAAAAOEAAAAAAAAA5QAAAAAAAADpAAAAAAAAAO0AAAAAAAAA8QAAAAAAAAD1AAAAAAAAAPkAAAAAAAAA/QAAAAAAAAEBAAAAAAACAQEAAAAAAAABBQAAAAAAAgEFAAAAAAAAAQkAAAAAAAIBCQAAAAAAAAENAAAAAAACAQ0AAAAAAAABEQAAAAAAAgERAAAAAAAAARUAAAAAAAIBFQAAAAAAAAEZAAAAAAACARkAAAAAAAABHQAAAAAAAgEdAAAAAAAAASEAAAAAAAIBIQAAAAAAAAElAAAAAAACASUAAAAAAAABKQAAAAAAAgEpAAAAAAAAAS0AAAAAAAIBLQAAAAAAAAExAAAAAAACATEAAAAAAAABNQAAAAAAAgE1A\",\"dtype\":\"float64\",\"shape\":[60]},\"right\":{\"__ndarray__\":\"AAAAAAAA8D8AAAAAAAAAQAAAAAAAAAhAAAAAAAAAEEAAAAAAAAAUQAAAAAAAABhAAAAAAAAAHEAAAAAAAAAgQAAAAAAAACJAAAAAAAAAJEAAAAAAAAAmQAAAAAAAAChAAAAAAAAAKkAAAAAAAAAsQAAAAAAAAC5AAAAAAAAAMEAAAAAAAAAxQAAAAAAAADJAAAAAAAAAM0AAAAAAAAA0QAAAAAAAADVAAAAAAAAANkAAAAAAAAA3QAAAAAAAADhAAAAAAAAAOUAAAAAAAAA6QAAAAAAAADtAAAAAAAAAPEAAAAAAAAA9QAAAAAAAAD5AAAAAAAAAP0AAAAAAAABAQAAAAAAAgEBAAAAAAAAAQUAAAAAAAIBBQAAAAAAAAEJAAAAAAACAQkAAAAAAAABDQAAAAAAAgENAAAAAAAAAREAAAAAAAIBEQAAAAAAAAEVAAAAAAACARUAAAAAAAABGQAAAAAAAgEZAAAAAAAAAR0AAAAAAAIBHQAAAAAAAAEhAAAAAAACASEAAAAAAAABJQAAAAAAAgElAAAAAAAAASkAAAAAAAIBKQAAAAAAAAEtAAAAAAACAS0AAAAAAAABMQAAAAAAAgExAAAAAAAAATUAAAAAAAIBNQAAAAAAAAE5A\",\"dtype\":\"float64\",\"shape\":[60]},\"top\":{\"__ndarray__\":\"AAAAAAAAAADmwA5/G/91P05WWX2uFXk/cw8y6XAchD+hCtklgtCNPyexsEEq5JQ/AQVyb7B0mT8DRRmXOK+dPzqxu1bKI6A/YVepl6EZoT9YdHUfbGqhPyreucwWLqE/MncuBSU4oT8tCn5SsLOgP9lp4UvLraA/AAwIBqayoD9UrKQMi7igP3fhGhTxOKA/3JWl0WQzoD+Fe75+whGgP+QuGgpzPaA/I+6eLEnHnz/TvwvzdxugP1ZIZAuDxJ8/QGylQRMenz+35pfv8XaePy1uJDcZZ50/SkOEJVP6mz/gY3rnmD6ZP2lF7Z5515Y/nebvOzFNkj9Nvc5xEBaMP8KgwB7394c/iygWWb/QhD/9jLEtmeGCP/v9PjqaTIE/vUauCB5kfz/0s0g/s3x8P/99jYmqwXk/eryJw23beD/dj1RAwrl1P4C6NnSHfXQ/mIHNlrWqcz8RMVfdeS9xPzWj8oq+vXA/qacU5YzLbj8nDg4e7XlsP4XOA0PmPGw/fTbUDyv3aD80rgIaYcxmP9tSL5rjq2U/obKH1Q7wYz9C8pGwFS1kPxq0Xmnz+2I/gVPBfyV9YT9v8UwCc/JgP9yZbFhhJGE/xr2tjvF9YD/E6PVTeBReP4JUufYoIVw/\",\"dtype\":\"float64\",\"shape\":[60]}},\"selected\":{\"id\":\"21906\",\"type\":\"Selection\"},\"selection_policy\":{\"id\":\"21905\",\"type\":\"UnionRenderers\"}},\"id\":\"21882\",\"type\":\"ColumnDataSource\"},{\"attributes\":{\"callback\":null,\"data\":{\"left\":{\"__ndarray__\":\"AAAAAAAAAAAAAAAAAADwPwAAAAAAAABAAAAAAAAACEAAAAAAAAAQQAAAAAAAABRAAAAAAAAAGEAAAAAAAAAcQAAAAAAAACBAAAAAAAAAIkAAAAAAAAAkQAAAAAAAACZAAAAAAAAAKEAAAAAAAAAqQAAAAAAAACxAAAAAAAAALkAAAAAAAAAwQAAAAAAAADFAAAAAAAAAMkAAAAAAAAAzQAAAAAAAADRAAAAAAAAANUAAAAAAAAA2QAAAAAAAADdAAAAAAAAAOEAAAAAAAAA5QAAAAAAAADpAAAAAAAAAO0AAAAAAAAA8QAAAAAAAAD1AAAAAAAAAPkAAAAAAAAA/QAAAAAAAAEBAAAAAAACAQEAAAAAAAABBQAAAAAAAgEFAAAAAAAAAQkAAAAAAAIBCQAAAAAAAAENAAAAAAACAQ0AAAAAAAABEQAAAAAAAgERAAAAAAAAARUAAAAAAAIBFQAAAAAAAAEZAAAAAAACARkAAAAAAAABHQAAAAAAAgEdAAAAAAAAASEAAAAAAAIBIQAAAAAAAAElAAAAAAACASUAAAAAAAABKQAAAAAAAgEpAAAAAAAAAS0AAAAAAAIBLQAAAAAAAAExAAAAAAACATEAAAAAAAABNQAAAAAAAgE1A\",\"dtype\":\"float64\",\"shape\":[60]},\"right\":{\"__ndarray__\":\"AAAAAAAA8D8AAAAAAAAAQAAAAAAAAAhAAAAAAAAAEEAAAAAAAAAUQAAAAAAAABhAAAAAAAAAHEAAAAAAAAAgQAAAAAAAACJAAAAAAAAAJEAAAAAAAAAmQAAAAAAAAChAAAAAAAAAKkAAAAAAAAAsQAAAAAAAAC5AAAAAAAAAMEAAAAAAAAAxQAAAAAAAADJAAAAAAAAAM0AAAAAAAAA0QAAAAAAAADVAAAAAAAAANkAAAAAAAAA3QAAAAAAAADhAAAAAAAAAOUAAAAAAAAA6QAAAAAAAADtAAAAAAAAAPEAAAAAAAAA9QAAAAAAAAD5AAAAAAAAAP0AAAAAAAABAQAAAAAAAgEBAAAAAAAAAQUAAAAAAAIBBQAAAAAAAAEJAAAAAAACAQkAAAAAAAABDQAAAAAAAgENAAAAAAAAAREAAAAAAAIBEQAAAAAAAAEVAAAAAAACARUAAAAAAAABGQAAAAAAAgEZAAAAAAAAAR0AAAAAAAIBHQAAAAAAAAEhAAAAAAACASEAAAAAAAABJQAAAAAAAgElAAAAAAAAASkAAAAAAAIBKQAAAAAAAAEtAAAAAAACAS0AAAAAAAABMQAAAAAAAgExAAAAAAAAATUAAAAAAAIBNQAAAAAAAAE5A\",\"dtype\":\"float64\",\"shape\":[60]},\"top\":{\"__ndarray__\":\"AAAAAAAAAABMz1YJIcqQPwSwKEpbeqQ/cLEiHvoJrj9QJ8xTKcSxP+ozH8cUxrI/KNcOjHZ1sj/NWxJn8SOxP1CpD0KxPa8/HLhFFXFhrD+/31jk8xCpPxVrjVPLMaY/t2rEaLe5oz/hQCFCVYqhP/rWpjsKOZ8/H8MqHnj8mz/CqfgUqeuYP8X9xekdPJY/gsfw3SBAlD/yEbvxek+SP6P0q/v6qJA/lVCp07IWjj//QDCFp6SLP/ut0Qx/ZYk/99ktvARmhz+f2fk8SRaFP+zMUhv8coM/4ppWB9XwgT/OFVLNr16AP67kLkaZUn4/Iii+HYzwez+hI+kakZJ5PwykjC/DuXc/eHccMCi7dT+Jrhwrvs9zP8dyn9BpGnI/oyqTmbjbcD+XdPf6dEpuPzvv9rUq1Go/4twbI45qaD910UNYwgZmP/TMblXHqGM/A+AgKZuJYT/nKU0WwYxeP8jGCwAErlg/GKp/nFndUT+Kz9U0oLtLP41FkAQuEEU/eeGX3N8LQj8UM0WJZM9BP/mvJJxCej0/PsiCs0gwOT9a5ryYYe82Pz4u6f64fzY/bkk1fUg6Mz9ur5vIuIkwP27kTnU/pCw/plT2qJCDLT8wueVAvFAqP+vSugsHiSY/\",\"dtype\":\"float64\",\"shape\":[60]}},\"selected\":{\"id\":\"22381\",\"type\":\"Selection\"},\"selection_policy\":{\"id\":\"22380\",\"type\":\"UnionRenderers\"}},\"id\":\"21895\",\"type\":\"ColumnDataSource\"},{\"attributes\":{\"callback\":null},\"id\":\"21849\",\"type\":\"DataRange1d\"},{\"attributes\":{\"bottom\":{\"value\":0},\"fill_alpha\":{\"value\":0.1},\"fill_color\":{\"value\":\"#1f77b4\"},\"left\":{\"field\":\"left\"},\"line_alpha\":{\"value\":0.1},\"line_color\":{\"value\":\"#1f77b4\"},\"right\":{\"field\":\"right\"},\"top\":{\"field\":\"top\"}},\"id\":\"21884\",\"type\":\"Quad\"},{\"attributes\":{\"bottom\":{\"value\":0},\"fill_alpha\":{\"value\":0.3},\"fill_color\":{\"value\":\"orange\"},\"left\":{\"field\":\"left\"},\"line_alpha\":{\"value\":0.3},\"line_color\":{\"value\":null},\"right\":{\"field\":\"right\"},\"top\":{\"field\":\"top\"}},\"id\":\"21896\",\"type\":\"Quad\"},{\"attributes\":{},\"id\":\"21867\",\"type\":\"PanTool\"},{\"attributes\":{\"bottom\":{\"value\":0},\"fill_alpha\":{\"value\":0.1},\"fill_color\":{\"value\":\"#1f77b4\"},\"left\":{\"field\":\"left\"},\"line_alpha\":{\"value\":0.1},\"line_color\":{\"value\":\"#1f77b4\"},\"right\":{\"field\":\"right\"},\"top\":{\"field\":\"top\"}},\"id\":\"21897\",\"type\":\"Quad\"},{\"attributes\":{},\"id\":\"21868\",\"type\":\"WheelZoomTool\"},{\"attributes\":{\"source\":{\"id\":\"21895\",\"type\":\"ColumnDataSource\"}},\"id\":\"21899\",\"type\":\"CDSView\"},{\"attributes\":{\"overlay\":{\"id\":\"21875\",\"type\":\"BoxAnnotation\"}},\"id\":\"21869\",\"type\":\"BoxZoomTool\"},{\"attributes\":{},\"id\":\"21905\",\"type\":\"UnionRenderers\"},{\"attributes\":{},\"id\":\"21870\",\"type\":\"SaveTool\"},{\"attributes\":{},\"id\":\"21906\",\"type\":\"Selection\"},{\"attributes\":{},\"id\":\"21871\",\"type\":\"ResetTool\"},{\"attributes\":{\"callback\":null},\"id\":\"21851\",\"type\":\"DataRange1d\"},{\"attributes\":{\"label\":{\"value\":\"Local\"},\"renderers\":[{\"id\":\"21898\",\"type\":\"GlyphRenderer\"}]},\"id\":\"21908\",\"type\":\"LegendItem\"},{\"attributes\":{},\"id\":\"21872\",\"type\":\"HelpTool\"},{\"attributes\":{\"active_drag\":\"auto\",\"active_inspect\":\"auto\",\"active_multi\":null,\"active_scroll\":\"auto\",\"active_tap\":\"auto\",\"tools\":[{\"id\":\"21867\",\"type\":\"PanTool\"},{\"id\":\"21868\",\"type\":\"WheelZoomTool\"},{\"id\":\"21869\",\"type\":\"BoxZoomTool\"},{\"id\":\"21870\",\"type\":\"SaveTool\"},{\"id\":\"21871\",\"type\":\"ResetTool\"},{\"id\":\"21872\",\"type\":\"HelpTool\"}]},\"id\":\"21873\",\"type\":\"Toolbar\"},{\"attributes\":{},\"id\":\"22381\",\"type\":\"Selection\"},{\"attributes\":{},\"id\":\"21853\",\"type\":\"LinearScale\"},{\"attributes\":{\"bottom_units\":\"screen\",\"fill_alpha\":{\"value\":0.5},\"fill_color\":{\"value\":\"lightgrey\"},\"left_units\":\"screen\",\"level\":\"overlay\",\"line_alpha\":{\"value\":1.0},\"line_color\":{\"value\":\"black\"},\"line_dash\":[4,4],\"line_width\":{\"value\":2},\"plot\":null,\"render_mode\":\"css\",\"right_units\":\"screen\",\"top_units\":\"screen\"},\"id\":\"21875\",\"type\":\"BoxAnnotation\"}],\"root_ids\":[\"21847\"]},\"title\":\"Bokeh Application\",\"version\":\"1.0.2\"}};\n",
       "  var render_items = [{\"docid\":\"5a4393f6-2848-4d7d-9149-5067828dc3b8\",\"roots\":{\"21847\":\"189b3fda-610e-4cd3-b045-904ac10331d5\"}}];\n",
       "  root.Bokeh.embed.embed_items_notebook(docs_json, render_items);\n",
       "\n",
       "  }\n",
       "  if (root.Bokeh !== undefined) {\n",
       "    embed_document(root);\n",
       "  } else {\n",
       "    var attempts = 0;\n",
       "    var timer = setInterval(function(root) {\n",
       "      if (root.Bokeh !== undefined) {\n",
       "        embed_document(root);\n",
       "        clearInterval(timer);\n",
       "      }\n",
       "      attempts++;\n",
       "      if (attempts > 100) {\n",
       "        console.log(\"Bokeh: ERROR: Unable to run BokehJS code because BokehJS library is missing\");\n",
       "        clearInterval(timer);\n",
       "      }\n",
       "    }, 10, root)\n",
       "  }\n",
       "})(window);"
      ],
      "application/vnd.bokehjs_exec.v0+json": ""
     },
     "metadata": {
      "application/vnd.bokehjs_exec.v0+json": {
       "id": "21847"
      }
     },
     "output_type": "display_data"
    }
   ],
   "source": [
    "#same as above, but with user types\n",
    "#i first filter the data by user type, then i create dataframes and finally i plot them\n",
    "tourist_df=bike_df[bike_df['user']=='Customer']\n",
    "local_df=bike_df[bike_df['user']=='Subscriber']\n",
    "\n",
    "hist_df_1=make_hist_df(tourist_df['duration']/60,[0,60],60,True)\n",
    "hist_df_2=make_hist_df(local_df['duration']/60,[0,60],60,True)\n",
    "\n",
    "p=figure(title='Trip Length by User Type',plot_height=400,plot_width=800)\n",
    "\n",
    "plot_histogram(hist_df_1,'Tourist')\n",
    "plot_histogram(hist_df_2,'Local','orange')\n",
    "\n",
    "show(p)    "
   ]
  },
  {
   "cell_type": "code",
   "execution_count": 398,
   "metadata": {},
   "outputs": [],
   "source": [
    "#create column with age groups\n",
    "bike_df['age_group']=pd.cut(bike_df['birth_year'],bins=[0,1969,1989,2019],labels=['Old','Middle-Aged','Young'])"
   ]
  },
  {
   "cell_type": "code",
   "execution_count": 229,
   "metadata": {},
   "outputs": [
    {
     "data": {
      "text/html": [
       "\n",
       "\n",
       "\n",
       "\n",
       "\n",
       "\n",
       "  <div class=\"bk-root\" id=\"3ef4d397-9d3c-4426-a2fb-1d42db7a18fe\"></div>\n"
      ]
     },
     "metadata": {},
     "output_type": "display_data"
    },
    {
     "data": {
      "application/javascript": [
       "(function(root) {\n",
       "  function embed_document(root) {\n",
       "    \n",
       "  var docs_json = {\"11fb9677-98e1-45ef-8871-43755c0fb7d5\":{\"roots\":{\"references\":[{\"attributes\":{\"below\":[{\"id\":\"44584\",\"type\":\"LinearAxis\"}],\"left\":[{\"id\":\"44589\",\"type\":\"LinearAxis\"}],\"plot_height\":400,\"plot_width\":800,\"renderers\":[{\"id\":\"44584\",\"type\":\"LinearAxis\"},{\"id\":\"44588\",\"type\":\"Grid\"},{\"id\":\"44589\",\"type\":\"LinearAxis\"},{\"id\":\"44593\",\"type\":\"Grid\"},{\"id\":\"44602\",\"type\":\"BoxAnnotation\"},{\"id\":\"44620\",\"type\":\"Legend\"},{\"id\":\"44612\",\"type\":\"GlyphRenderer\"},{\"id\":\"44625\",\"type\":\"GlyphRenderer\"},{\"id\":\"44639\",\"type\":\"GlyphRenderer\"}],\"title\":{\"id\":\"44573\",\"type\":\"Title\"},\"toolbar\":{\"id\":\"44600\",\"type\":\"Toolbar\"},\"x_range\":{\"id\":\"44576\",\"type\":\"DataRange1d\"},\"x_scale\":{\"id\":\"44580\",\"type\":\"LinearScale\"},\"y_range\":{\"id\":\"44578\",\"type\":\"DataRange1d\"},\"y_scale\":{\"id\":\"44582\",\"type\":\"LinearScale\"}},\"id\":\"44574\",\"subtype\":\"Figure\",\"type\":\"Plot\"},{\"attributes\":{\"callback\":null,\"data\":{\"left\":{\"__ndarray__\":\"AAAAAAAAAAAAAAAAAADwPwAAAAAAAABAAAAAAAAACEAAAAAAAAAQQAAAAAAAABRAAAAAAAAAGEAAAAAAAAAcQAAAAAAAACBAAAAAAAAAIkAAAAAAAAAkQAAAAAAAACZAAAAAAAAAKEAAAAAAAAAqQAAAAAAAACxAAAAAAAAALkAAAAAAAAAwQAAAAAAAADFAAAAAAAAAMkAAAAAAAAAzQAAAAAAAADRAAAAAAAAANUAAAAAAAAA2QAAAAAAAADdAAAAAAAAAOEAAAAAAAAA5QAAAAAAAADpAAAAAAAAAO0AAAAAAAAA8QAAAAAAAAD1AAAAAAAAAPkAAAAAAAAA/QAAAAAAAAEBAAAAAAACAQEAAAAAAAABBQAAAAAAAgEFAAAAAAAAAQkAAAAAAAIBCQAAAAAAAAENAAAAAAACAQ0AAAAAAAABEQAAAAAAAgERAAAAAAAAARUAAAAAAAIBFQAAAAAAAAEZAAAAAAACARkAAAAAAAABHQAAAAAAAgEdAAAAAAAAASEAAAAAAAIBIQAAAAAAAAElAAAAAAACASUAAAAAAAABKQAAAAAAAgEpAAAAAAAAAS0AAAAAAAIBLQAAAAAAAAExAAAAAAACATEAAAAAAAABNQAAAAAAAgE1A\",\"dtype\":\"float64\",\"shape\":[60]},\"right\":{\"__ndarray__\":\"AAAAAAAA8D8AAAAAAAAAQAAAAAAAAAhAAAAAAAAAEEAAAAAAAAAUQAAAAAAAABhAAAAAAAAAHEAAAAAAAAAgQAAAAAAAACJAAAAAAAAAJEAAAAAAAAAmQAAAAAAAAChAAAAAAAAAKkAAAAAAAAAsQAAAAAAAAC5AAAAAAAAAMEAAAAAAAAAxQAAAAAAAADJAAAAAAAAAM0AAAAAAAAA0QAAAAAAAADVAAAAAAAAANkAAAAAAAAA3QAAAAAAAADhAAAAAAAAAOUAAAAAAAAA6QAAAAAAAADtAAAAAAAAAPEAAAAAAAAA9QAAAAAAAAD5AAAAAAAAAP0AAAAAAAABAQAAAAAAAgEBAAAAAAAAAQUAAAAAAAIBBQAAAAAAAAEJAAAAAAACAQkAAAAAAAABDQAAAAAAAgENAAAAAAAAAREAAAAAAAIBEQAAAAAAAAEVAAAAAAACARUAAAAAAAABGQAAAAAAAgEZAAAAAAAAAR0AAAAAAAIBHQAAAAAAAAEhAAAAAAACASEAAAAAAAABJQAAAAAAAgElAAAAAAAAASkAAAAAAAIBKQAAAAAAAAEtAAAAAAACAS0AAAAAAAABMQAAAAAAAgExAAAAAAAAATUAAAAAAAIBNQAAAAAAAAE5A\",\"dtype\":\"float64\",\"shape\":[60]},\"top\":{\"__ndarray__\":\"AAAAAAAAAABY8jqsCmKVP0kwJwsIzaU/1RIqjrKerT/wkNlChtiwP3nCD2Muh7E/0dP2XPE0sT/MnN4w6w+wPzMwYkY5xK0/bDB79mvIqz8M6V6B+IKnP6egimBWMaU/oTZ18jUPoz+KiD7uHEShP8pYTMGHWZ4/SCIQ65g6nD+lg79DZguZP7JlAUAW4pY/k1Qz9oU4lT87OLPpLR+TP5t9T9E51pE/jzbL/IMRkD/X52IgcPGMPxPwsaR6RYs/5JrCxPHyiT+370QJ5EWHP3XQC7SADoY/4M+FaLcKhD/hddyiRoiCP64Yt+7l5YA/qE78n6Dzfj9uh8F9Hy97P+4BdfRU+Xk/XAUKk3cdeD85bhNqBTh2PzCtt3Qxr3Q/ud0tzqWWcj8xSHWcK8FwP1W8v1wWPm0/MMPpmVuGaT/m5m85EO5mP1I5FYsOKWQ/iog+7hxEYT+CeNJFbaRgP8RaEiMzdFc//gCCDfX1Uz9f7HQvkCpRP13BkvIwcks/GJOloEynRz9SORWLDilEPyidS8yBD0Q/IcTcgLuJPz+KiD7uHERBP3hTtoWIIz8/f1iJG6NXPT/zpGjwJls2P6LDG/rAjjU/8U0iaXP0Nj+kGmKBdPU0PwhdmyrDkDE/\",\"dtype\":\"float64\",\"shape\":[60]}},\"selected\":{\"id\":\"45410\",\"type\":\"Selection\"},\"selection_policy\":{\"id\":\"45409\",\"type\":\"UnionRenderers\"}},\"id\":\"44636\",\"type\":\"ColumnDataSource\"},{\"attributes\":{},\"id\":\"44580\",\"type\":\"LinearScale\"},{\"attributes\":{\"bottom_units\":\"screen\",\"fill_alpha\":{\"value\":0.5},\"fill_color\":{\"value\":\"lightgrey\"},\"left_units\":\"screen\",\"level\":\"overlay\",\"line_alpha\":{\"value\":1.0},\"line_color\":{\"value\":\"black\"},\"line_dash\":[4,4],\"line_width\":{\"value\":2},\"plot\":null,\"render_mode\":\"css\",\"right_units\":\"screen\",\"top_units\":\"screen\"},\"id\":\"44602\",\"type\":\"BoxAnnotation\"},{\"attributes\":{\"bottom\":{\"value\":0},\"fill_alpha\":{\"value\":0.3},\"fill_color\":{\"value\":\"green\"},\"left\":{\"field\":\"left\"},\"line_alpha\":{\"value\":0.3},\"line_color\":{\"value\":null},\"right\":{\"field\":\"right\"},\"top\":{\"field\":\"top\"}},\"id\":\"44637\",\"type\":\"Quad\"},{\"attributes\":{},\"id\":\"44582\",\"type\":\"LinearScale\"},{\"attributes\":{\"bottom\":{\"value\":0},\"fill_alpha\":{\"value\":0.1},\"fill_color\":{\"value\":\"#1f77b4\"},\"left\":{\"field\":\"left\"},\"line_alpha\":{\"value\":0.1},\"line_color\":{\"value\":\"#1f77b4\"},\"right\":{\"field\":\"right\"},\"top\":{\"field\":\"top\"}},\"id\":\"44638\",\"type\":\"Quad\"},{\"attributes\":{\"data_source\":{\"id\":\"44609\",\"type\":\"ColumnDataSource\"},\"glyph\":{\"id\":\"44610\",\"type\":\"Quad\"},\"hover_glyph\":null,\"muted_glyph\":null,\"nonselection_glyph\":{\"id\":\"44611\",\"type\":\"Quad\"},\"selection_glyph\":null,\"view\":{\"id\":\"44613\",\"type\":\"CDSView\"}},\"id\":\"44612\",\"type\":\"GlyphRenderer\"},{\"attributes\":{\"callback\":null},\"id\":\"44578\",\"type\":\"DataRange1d\"},{\"attributes\":{\"data_source\":{\"id\":\"44636\",\"type\":\"ColumnDataSource\"},\"glyph\":{\"id\":\"44637\",\"type\":\"Quad\"},\"hover_glyph\":null,\"muted_glyph\":null,\"nonselection_glyph\":{\"id\":\"44638\",\"type\":\"Quad\"},\"selection_glyph\":null,\"view\":{\"id\":\"44640\",\"type\":\"CDSView\"}},\"id\":\"44639\",\"type\":\"GlyphRenderer\"},{\"attributes\":{\"source\":{\"id\":\"44609\",\"type\":\"ColumnDataSource\"}},\"id\":\"44613\",\"type\":\"CDSView\"},{\"attributes\":{\"formatter\":{\"id\":\"44618\",\"type\":\"BasicTickFormatter\"},\"plot\":{\"id\":\"44574\",\"subtype\":\"Figure\",\"type\":\"Plot\"},\"ticker\":{\"id\":\"44585\",\"type\":\"BasicTicker\"}},\"id\":\"44584\",\"type\":\"LinearAxis\"},{\"attributes\":{},\"id\":\"44585\",\"type\":\"BasicTicker\"},{\"attributes\":{\"source\":{\"id\":\"44636\",\"type\":\"ColumnDataSource\"}},\"id\":\"44640\",\"type\":\"CDSView\"},{\"attributes\":{},\"id\":\"44616\",\"type\":\"BasicTickFormatter\"},{\"attributes\":{\"plot\":{\"id\":\"44574\",\"subtype\":\"Figure\",\"type\":\"Plot\"},\"ticker\":{\"id\":\"44585\",\"type\":\"BasicTicker\"}},\"id\":\"44588\",\"type\":\"Grid\"},{\"attributes\":{\"items\":[{\"id\":\"44621\",\"type\":\"LegendItem\"},{\"id\":\"44635\",\"type\":\"LegendItem\"},{\"id\":\"44651\",\"type\":\"LegendItem\"}],\"plot\":{\"id\":\"44574\",\"subtype\":\"Figure\",\"type\":\"Plot\"}},\"id\":\"44620\",\"type\":\"Legend\"},{\"attributes\":{},\"id\":\"44618\",\"type\":\"BasicTickFormatter\"},{\"attributes\":{},\"id\":\"44648\",\"type\":\"UnionRenderers\"},{\"attributes\":{\"formatter\":{\"id\":\"44616\",\"type\":\"BasicTickFormatter\"},\"plot\":{\"id\":\"44574\",\"subtype\":\"Figure\",\"type\":\"Plot\"},\"ticker\":{\"id\":\"44590\",\"type\":\"BasicTicker\"}},\"id\":\"44589\",\"type\":\"LinearAxis\"},{\"attributes\":{},\"id\":\"44649\",\"type\":\"Selection\"},{\"attributes\":{},\"id\":\"44590\",\"type\":\"BasicTicker\"},{\"attributes\":{\"label\":{\"value\":\"Old\"},\"renderers\":[{\"id\":\"44639\",\"type\":\"GlyphRenderer\"}]},\"id\":\"44651\",\"type\":\"LegendItem\"},{\"attributes\":{\"dimension\":1,\"plot\":{\"id\":\"44574\",\"subtype\":\"Figure\",\"type\":\"Plot\"},\"ticker\":{\"id\":\"44590\",\"type\":\"BasicTicker\"}},\"id\":\"44593\",\"type\":\"Grid\"},{\"attributes\":{\"callback\":null,\"data\":{\"left\":{\"__ndarray__\":\"AAAAAAAAAAAAAAAAAADwPwAAAAAAAABAAAAAAAAACEAAAAAAAAAQQAAAAAAAABRAAAAAAAAAGEAAAAAAAAAcQAAAAAAAACBAAAAAAAAAIkAAAAAAAAAkQAAAAAAAACZAAAAAAAAAKEAAAAAAAAAqQAAAAAAAACxAAAAAAAAALkAAAAAAAAAwQAAAAAAAADFAAAAAAAAAMkAAAAAAAAAzQAAAAAAAADRAAAAAAAAANUAAAAAAAAA2QAAAAAAAADdAAAAAAAAAOEAAAAAAAAA5QAAAAAAAADpAAAAAAAAAO0AAAAAAAAA8QAAAAAAAAD1AAAAAAAAAPkAAAAAAAAA/QAAAAAAAAEBAAAAAAACAQEAAAAAAAABBQAAAAAAAgEFAAAAAAAAAQkAAAAAAAIBCQAAAAAAAAENAAAAAAACAQ0AAAAAAAABEQAAAAAAAgERAAAAAAAAARUAAAAAAAIBFQAAAAAAAAEZAAAAAAACARkAAAAAAAABHQAAAAAAAgEdAAAAAAAAASEAAAAAAAIBIQAAAAAAAAElAAAAAAACASUAAAAAAAABKQAAAAAAAgEpAAAAAAAAAS0AAAAAAAIBLQAAAAAAAAExAAAAAAACATEAAAAAAAABNQAAAAAAAgE1A\",\"dtype\":\"float64\",\"shape\":[60]},\"right\":{\"__ndarray__\":\"AAAAAAAA8D8AAAAAAAAAQAAAAAAAAAhAAAAAAAAAEEAAAAAAAAAUQAAAAAAAABhAAAAAAAAAHEAAAAAAAAAgQAAAAAAAACJAAAAAAAAAJEAAAAAAAAAmQAAAAAAAAChAAAAAAAAAKkAAAAAAAAAsQAAAAAAAAC5AAAAAAAAAMEAAAAAAAAAxQAAAAAAAADJAAAAAAAAAM0AAAAAAAAA0QAAAAAAAADVAAAAAAAAANkAAAAAAAAA3QAAAAAAAADhAAAAAAAAAOUAAAAAAAAA6QAAAAAAAADtAAAAAAAAAPEAAAAAAAAA9QAAAAAAAAD5AAAAAAAAAP0AAAAAAAABAQAAAAAAAgEBAAAAAAAAAQUAAAAAAAIBBQAAAAAAAAEJAAAAAAACAQkAAAAAAAABDQAAAAAAAgENAAAAAAAAAREAAAAAAAIBEQAAAAAAAAEVAAAAAAACARUAAAAAAAABGQAAAAAAAgEZAAAAAAAAAR0AAAAAAAIBHQAAAAAAAAEhAAAAAAACASEAAAAAAAABJQAAAAAAAgElAAAAAAAAASkAAAAAAAIBKQAAAAAAAAEtAAAAAAACAS0AAAAAAAABMQAAAAAAAgExAAAAAAAAATUAAAAAAAIBNQAAAAAAAAE5A\",\"dtype\":\"float64\",\"shape\":[60]},\"top\":{\"__ndarray__\":\"AAAAAAAAAABRFe0nIB6MPwo9+wOJ96A/s9WdzXU3qT+DHrJ7Z1quPxLDGE6sPLA/cYr/5d8wsD9nF/DoJ52uP+JqRrGG8Ks/dJ0uRt7IqT9G0X21nSKnP0txG2Ygy6Q/2Rf9Ahbuoj9XpBYUduqgP891h005R58/N6AaO4GGnD96lvqoBUCaP0sWNsK05Jc/Qpi6bJx5lj9tOqGuVxKVP12eL7s8zJM/sKGXAad6kj+8NrCaS62RP21N6yLZmpA/b+6Xm9+Ejz/czvl6CTWNP0MgT9dlW4s/lYjYPoWfiT+ZHIEr8i6HP9YAYL+JJoU/GFxhTsN1gj+XnI61MyeAP2Q6X4gxRX0/NSuxhquYej/L3apPTw14P02n2CO2n3U/NNWGCm1MdD8b5WG7uVZyP7G1LrrHbXA/nk88CCfTbj+70rz/p+1rPxcpi10L4Wg/5rqk6A4PZz87ZJONOtZjPwxzuMEezGE/pNEGgz/ZWz/X49nNvu5WP+MShAEPIVQ/r/HUJZyyUT+sPgy/JRZRP1AzwF2KwEw/tGwrMru0Sj8yWhXqyllJP/j96X6K2Eg/mdTl+wfRRT8uw4UwgIpEP6MJed2Wc0M/f64D774GQz8n65A5KThBP0AK/9d4/j8/\",\"dtype\":\"float64\",\"shape\":[60]}},\"selected\":{\"id\":\"44649\",\"type\":\"Selection\"},\"selection_policy\":{\"id\":\"44648\",\"type\":\"UnionRenderers\"}},\"id\":\"44622\",\"type\":\"ColumnDataSource\"},{\"attributes\":{\"bottom\":{\"value\":0},\"fill_alpha\":{\"value\":0.3},\"fill_color\":{\"value\":\"blue\"},\"left\":{\"field\":\"left\"},\"line_alpha\":{\"value\":0.3},\"line_color\":{\"value\":null},\"right\":{\"field\":\"right\"},\"top\":{\"field\":\"top\"}},\"id\":\"44610\",\"type\":\"Quad\"},{\"attributes\":{},\"id\":\"45410\",\"type\":\"Selection\"},{\"attributes\":{\"bottom\":{\"value\":0},\"fill_alpha\":{\"value\":0.3},\"fill_color\":{\"value\":\"red\"},\"left\":{\"field\":\"left\"},\"line_alpha\":{\"value\":0.3},\"line_color\":{\"value\":null},\"right\":{\"field\":\"right\"},\"top\":{\"field\":\"top\"}},\"id\":\"44623\",\"type\":\"Quad\"},{\"attributes\":{\"callback\":null},\"id\":\"44576\",\"type\":\"DataRange1d\"},{\"attributes\":{\"label\":{\"value\":\"Young\"},\"renderers\":[{\"id\":\"44612\",\"type\":\"GlyphRenderer\"}]},\"id\":\"44621\",\"type\":\"LegendItem\"},{\"attributes\":{\"callback\":null,\"data\":{\"left\":{\"__ndarray__\":\"AAAAAAAAAAAAAAAAAADwPwAAAAAAAABAAAAAAAAACEAAAAAAAAAQQAAAAAAAABRAAAAAAAAAGEAAAAAAAAAcQAAAAAAAACBAAAAAAAAAIkAAAAAAAAAkQAAAAAAAACZAAAAAAAAAKEAAAAAAAAAqQAAAAAAAACxAAAAAAAAALkAAAAAAAAAwQAAAAAAAADFAAAAAAAAAMkAAAAAAAAAzQAAAAAAAADRAAAAAAAAANUAAAAAAAAA2QAAAAAAAADdAAAAAAAAAOEAAAAAAAAA5QAAAAAAAADpAAAAAAAAAO0AAAAAAAAA8QAAAAAAAAD1AAAAAAAAAPkAAAAAAAAA/QAAAAAAAAEBAAAAAAACAQEAAAAAAAABBQAAAAAAAgEFAAAAAAAAAQkAAAAAAAIBCQAAAAAAAAENAAAAAAACAQ0AAAAAAAABEQAAAAAAAgERAAAAAAAAARUAAAAAAAIBFQAAAAAAAAEZAAAAAAACARkAAAAAAAABHQAAAAAAAgEdAAAAAAAAASEAAAAAAAIBIQAAAAAAAAElAAAAAAACASUAAAAAAAABKQAAAAAAAgEpAAAAAAAAAS0AAAAAAAIBLQAAAAAAAAExAAAAAAACATEAAAAAAAABNQAAAAAAAgE1A\",\"dtype\":\"float64\",\"shape\":[60]},\"right\":{\"__ndarray__\":\"AAAAAAAA8D8AAAAAAAAAQAAAAAAAAAhAAAAAAAAAEEAAAAAAAAAUQAAAAAAAABhAAAAAAAAAHEAAAAAAAAAgQAAAAAAAACJAAAAAAAAAJEAAAAAAAAAmQAAAAAAAAChAAAAAAAAAKkAAAAAAAAAsQAAAAAAAAC5AAAAAAAAAMEAAAAAAAAAxQAAAAAAAADJAAAAAAAAAM0AAAAAAAAA0QAAAAAAAADVAAAAAAAAANkAAAAAAAAA3QAAAAAAAADhAAAAAAAAAOUAAAAAAAAA6QAAAAAAAADtAAAAAAAAAPEAAAAAAAAA9QAAAAAAAAD5AAAAAAAAAP0AAAAAAAABAQAAAAAAAgEBAAAAAAAAAQUAAAAAAAIBBQAAAAAAAAEJAAAAAAACAQkAAAAAAAABDQAAAAAAAgENAAAAAAAAAREAAAAAAAIBEQAAAAAAAAEVAAAAAAACARUAAAAAAAABGQAAAAAAAgEZAAAAAAAAAR0AAAAAAAIBHQAAAAAAAAEhAAAAAAACASEAAAAAAAABJQAAAAAAAgElAAAAAAAAASkAAAAAAAIBKQAAAAAAAAEtAAAAAAACAS0AAAAAAAABMQAAAAAAAgExAAAAAAAAATUAAAAAAAIBNQAAAAAAAAE5A\",\"dtype\":\"float64\",\"shape\":[60]},\"top\":{\"__ndarray__\":\"AAAAAAAAAAAK05XT6c2JP9uRsawvL6A/w9d4on2ZqD939JURgq+tP4mc2nAeN7A/Afa/NM1BsD8MSVAIvdyuP2LPzSw9Ya0/w2it8Vr7qj+fWexbzBCpP2JN0HRWdKY/dk8zX+ohpD/eFPcmw2qiP2Dw4whXcKA/JNqHVq4Vnj/cckciTGibP3yGXonC0Zg/Hb7WRuC4lj+YhAGdVtKUP1QaZSF+cZM/TyoASP7fkT9kmIY1iAaRPyZnDZx0D5A/qCGYOziUjT9nCp1gOBOMP3+0onf9Voo/kwsH7um6iD+G770Rr3qGP8CqMBA58YQ/eBJQpiULgj+TUdHiS/x9P+ZUCY04RXo/ElZzGursdj9sPNG+TAx1P5Z6HgXDynM/qqDiRf71cT/pfVavrxNwP9zrqQRMnGw/qZzy1SSCaj89DSNDYN9mP6ptSlhgA2Y/uIuL7If9Yz9oHMgLEh9hP2MwXqJfZ10/GMA2MmCPVz+Qib3PTFxUP6OYX5nqxFE/GOGjdCR2Tj9dxpqK6cRMPwA5lhVM7Es/2gcge0zMRz9Tw2vdOAFHP2/xssqHXUU/XbNogyV2Qz8AJmQOiJ1CPycoMivDPkI/o5hfmerEQT8TNQbYJQZAP1sRuX6uczw/\",\"dtype\":\"float64\",\"shape\":[60]}},\"selected\":{\"id\":\"44633\",\"type\":\"Selection\"},\"selection_policy\":{\"id\":\"44632\",\"type\":\"UnionRenderers\"}},\"id\":\"44609\",\"type\":\"ColumnDataSource\"},{\"attributes\":{\"bottom\":{\"value\":0},\"fill_alpha\":{\"value\":0.1},\"fill_color\":{\"value\":\"#1f77b4\"},\"left\":{\"field\":\"left\"},\"line_alpha\":{\"value\":0.1},\"line_color\":{\"value\":\"#1f77b4\"},\"right\":{\"field\":\"right\"},\"top\":{\"field\":\"top\"}},\"id\":\"44624\",\"type\":\"Quad\"},{\"attributes\":{\"bottom\":{\"value\":0},\"fill_alpha\":{\"value\":0.1},\"fill_color\":{\"value\":\"#1f77b4\"},\"left\":{\"field\":\"left\"},\"line_alpha\":{\"value\":0.1},\"line_color\":{\"value\":\"#1f77b4\"},\"right\":{\"field\":\"right\"},\"top\":{\"field\":\"top\"}},\"id\":\"44611\",\"type\":\"Quad\"},{\"attributes\":{\"data_source\":{\"id\":\"44622\",\"type\":\"ColumnDataSource\"},\"glyph\":{\"id\":\"44623\",\"type\":\"Quad\"},\"hover_glyph\":null,\"muted_glyph\":null,\"nonselection_glyph\":{\"id\":\"44624\",\"type\":\"Quad\"},\"selection_glyph\":null,\"view\":{\"id\":\"44626\",\"type\":\"CDSView\"}},\"id\":\"44625\",\"type\":\"GlyphRenderer\"},{\"attributes\":{},\"id\":\"44594\",\"type\":\"PanTool\"},{\"attributes\":{\"source\":{\"id\":\"44622\",\"type\":\"ColumnDataSource\"}},\"id\":\"44626\",\"type\":\"CDSView\"},{\"attributes\":{},\"id\":\"44595\",\"type\":\"WheelZoomTool\"},{\"attributes\":{},\"id\":\"44632\",\"type\":\"UnionRenderers\"},{\"attributes\":{\"overlay\":{\"id\":\"44602\",\"type\":\"BoxAnnotation\"}},\"id\":\"44596\",\"type\":\"BoxZoomTool\"},{\"attributes\":{},\"id\":\"44633\",\"type\":\"Selection\"},{\"attributes\":{},\"id\":\"44597\",\"type\":\"SaveTool\"},{\"attributes\":{\"label\":{\"value\":\"Middle-Aged\"},\"renderers\":[{\"id\":\"44625\",\"type\":\"GlyphRenderer\"}]},\"id\":\"44635\",\"type\":\"LegendItem\"},{\"attributes\":{},\"id\":\"44598\",\"type\":\"ResetTool\"},{\"attributes\":{},\"id\":\"45409\",\"type\":\"UnionRenderers\"},{\"attributes\":{},\"id\":\"44599\",\"type\":\"HelpTool\"},{\"attributes\":{\"plot\":null,\"text\":\"Trip Length by Age Group\"},\"id\":\"44573\",\"type\":\"Title\"},{\"attributes\":{\"active_drag\":\"auto\",\"active_inspect\":\"auto\",\"active_multi\":null,\"active_scroll\":\"auto\",\"active_tap\":\"auto\",\"tools\":[{\"id\":\"44594\",\"type\":\"PanTool\"},{\"id\":\"44595\",\"type\":\"WheelZoomTool\"},{\"id\":\"44596\",\"type\":\"BoxZoomTool\"},{\"id\":\"44597\",\"type\":\"SaveTool\"},{\"id\":\"44598\",\"type\":\"ResetTool\"},{\"id\":\"44599\",\"type\":\"HelpTool\"}]},\"id\":\"44600\",\"type\":\"Toolbar\"}],\"root_ids\":[\"44574\"]},\"title\":\"Bokeh Application\",\"version\":\"1.0.2\"}};\n",
       "  var render_items = [{\"docid\":\"11fb9677-98e1-45ef-8871-43755c0fb7d5\",\"roots\":{\"44574\":\"3ef4d397-9d3c-4426-a2fb-1d42db7a18fe\"}}];\n",
       "  root.Bokeh.embed.embed_items_notebook(docs_json, render_items);\n",
       "\n",
       "  }\n",
       "  if (root.Bokeh !== undefined) {\n",
       "    embed_document(root);\n",
       "  } else {\n",
       "    var attempts = 0;\n",
       "    var timer = setInterval(function(root) {\n",
       "      if (root.Bokeh !== undefined) {\n",
       "        embed_document(root);\n",
       "        clearInterval(timer);\n",
       "      }\n",
       "      attempts++;\n",
       "      if (attempts > 100) {\n",
       "        console.log(\"Bokeh: ERROR: Unable to run BokehJS code because BokehJS library is missing\");\n",
       "        clearInterval(timer);\n",
       "      }\n",
       "    }, 10, root)\n",
       "  }\n",
       "})(window);"
      ],
      "application/vnd.bokehjs_exec.v0+json": ""
     },
     "metadata": {
      "application/vnd.bokehjs_exec.v0+json": {
       "id": "44574"
      }
     },
     "output_type": "display_data"
    }
   ],
   "source": [
    "young_df=bike_df[bike_df['age_group']=='Young']\n",
    "middle_df=bike_df[bike_df['age_group']=='Middle-Aged']\n",
    "old_df=bike_df[bike_df['age_group']=='Old']\n",
    "\n",
    "hist_df_1=make_hist_df(young_df['duration']/60,[0,60],60,True)\n",
    "hist_df_2=make_hist_df(middle_df['duration']/60,[0,60],60,True)\n",
    "hist_df_3=make_hist_df(old_df['duration']/60,[0,60],60,True)\n",
    "\n",
    "p=figure(title='Trip Length by Age Group',plot_height=400,plot_width=800)\n",
    "plot_histogram(hist_df_1,'Young')\n",
    "plot_histogram(hist_df_2,'Middle-Aged','red')\n",
    "plot_histogram(hist_df_3,'Old','green')\n",
    "show(p)    "
   ]
  },
  {
   "cell_type": "markdown",
   "metadata": {},
   "source": [
    "Next I look at how trips are distributed by hour of day and by day of week, relative to gender, user type, and age group. The most appropriate chart for this is a stacked or grouped bar chart, but when dealing with hours of day and only two groups (as in the case of gender and user type) I think overlapping bar charts are more suggestive, so I'll use them instead (I think it makes the comparison between subgroups easier)."
   ]
  },
  {
   "cell_type": "code",
   "execution_count": null,
   "metadata": {},
   "outputs": [],
   "source": [
    "#this cell manipulates the data to create a simple dataframe that can be easily used by bokeh to build a chart.\n",
    "#this dataframe can practically be done in a few lines with pivot_table() (see below), but here I do it the long way.\n",
    "\n",
    "#count trips started by men by weekday \n",
    "male_by_day=bike_male.groupby('start_day')['start_id'].count()/bike_male['start_id'].count()\n",
    "male_by_day=male_by_day.to_frame()\n",
    "male_by_day.rename(columns={'start_id':'male_count'},inplace=True)\n",
    "male_by_day.reset_index(inplace=True)\n",
    "\n",
    "#same for women\n",
    "female_by_day=bike_female.groupby('start_day')['start_id'].count()/bike_female['start_id'].count()\n",
    "female_by_day=female_by_day.to_frame()\n",
    "female_by_day.rename(columns={'start_id':'female_count'},inplace=True)\n",
    "female_by_day.reset_index(inplace=True)\n",
    "\n",
    "#join the data\n",
    "weekday_counts_gender_df=pd.merge(male_by_day,female_by_day,on='start_day')"
   ]
  },
  {
   "cell_type": "code",
   "execution_count": 404,
   "metadata": {},
   "outputs": [
    {
     "data": {
      "text/html": [
       "\n",
       "\n",
       "\n",
       "\n",
       "\n",
       "\n",
       "  <div class=\"bk-root\" id=\"da3fff9c-4aad-47b1-81a5-bdc461721442\"></div>\n"
      ]
     },
     "metadata": {},
     "output_type": "display_data"
    },
    {
     "data": {
      "application/javascript": [
       "(function(root) {\n",
       "  function embed_document(root) {\n",
       "    \n",
       "  var docs_json = {\"a3b75c2a-1791-4081-8d55-6aaf3ad52b7c\":{\"roots\":{\"references\":[{\"attributes\":{\"below\":[{\"id\":\"85905\",\"type\":\"CategoricalAxis\"}],\"left\":[{\"id\":\"85909\",\"type\":\"LinearAxis\"}],\"plot_height\":400,\"plot_width\":800,\"renderers\":[{\"id\":\"85905\",\"type\":\"CategoricalAxis\"},{\"id\":\"85908\",\"type\":\"Grid\"},{\"id\":\"85909\",\"type\":\"LinearAxis\"},{\"id\":\"85913\",\"type\":\"Grid\"},{\"id\":\"85922\",\"type\":\"BoxAnnotation\"},{\"id\":\"85942\",\"type\":\"Legend\"},{\"id\":\"85933\",\"type\":\"GlyphRenderer\"},{\"id\":\"85948\",\"type\":\"GlyphRenderer\"}],\"title\":{\"id\":\"85935\",\"type\":\"Title\"},\"toolbar\":{\"id\":\"85920\",\"type\":\"Toolbar\"},\"x_range\":{\"id\":\"85897\",\"type\":\"FactorRange\"},\"x_scale\":{\"id\":\"85901\",\"type\":\"CategoricalScale\"},\"y_range\":{\"id\":\"85899\",\"type\":\"Range1d\"},\"y_scale\":{\"id\":\"85903\",\"type\":\"LinearScale\"}},\"id\":\"85896\",\"subtype\":\"Figure\",\"type\":\"Plot\"},{\"attributes\":{\"fill_alpha\":{\"value\":0.1},\"fill_color\":{\"value\":\"#1f77b4\"},\"line_alpha\":{\"value\":0.1},\"line_color\":{\"value\":\"#1f77b4\"},\"top\":{\"field\":\"male_count\"},\"width\":{\"value\":0.33},\"x\":{\"field\":\"start_day\",\"transform\":{\"id\":\"85929\",\"type\":\"Dodge\"}}},\"id\":\"85932\",\"type\":\"VBar\"},{\"attributes\":{\"range\":{\"id\":\"85897\",\"type\":\"FactorRange\"},\"value\":0.2},\"id\":\"85944\",\"type\":\"Dodge\"},{\"attributes\":{},\"id\":\"85915\",\"type\":\"WheelZoomTool\"},{\"attributes\":{\"label\":{\"value\":\"Female\"},\"renderers\":[{\"id\":\"85948\",\"type\":\"GlyphRenderer\"}]},\"id\":\"85959\",\"type\":\"LegendItem\"},{\"attributes\":{\"overlay\":{\"id\":\"85922\",\"type\":\"BoxAnnotation\"}},\"id\":\"85916\",\"type\":\"BoxZoomTool\"},{\"attributes\":{},\"id\":\"85917\",\"type\":\"SaveTool\"},{\"attributes\":{},\"id\":\"85957\",\"type\":\"Selection\"},{\"attributes\":{},\"id\":\"85918\",\"type\":\"ResetTool\"},{\"attributes\":{},\"id\":\"85956\",\"type\":\"UnionRenderers\"},{\"attributes\":{\"source\":{\"id\":\"85895\",\"type\":\"ColumnDataSource\"}},\"id\":\"85949\",\"type\":\"CDSView\"},{\"attributes\":{\"callback\":null,\"data\":{\"female_count\":{\"__ndarray__\":\"GJEidGAjwT9pIuShKqnEP80ivUUGy74/0S1AzYCFvj/NsnHDjGi9P+YXKctDzcY/5LKYM6cJxj8=\",\"dtype\":\"float64\",\"shape\":[7]},\"index\":[0,1,2,3,4,5,6],\"male_count\":{\"__ndarray__\":\"kWAyAsmIwT/ia6Q5IsfFPyU0klShdbo/6oA/QfMfuj9sRBplcDm+P4WyjD5uDsg/S4QmCCQ6xz8=\",\"dtype\":\"float64\",\"shape\":[7]},\"start_day\":[\"Friday\",\"Monday\",\"Saturday\",\"Sunday\",\"Thursday\",\"Tuesday\",\"Wednesday\"]},\"selected\":{\"id\":\"85957\",\"type\":\"Selection\"},\"selection_policy\":{\"id\":\"85956\",\"type\":\"UnionRenderers\"}},\"id\":\"85895\",\"type\":\"ColumnDataSource\"},{\"attributes\":{},\"id\":\"85919\",\"type\":\"HelpTool\"},{\"attributes\":{\"fill_alpha\":{\"value\":0.3},\"fill_color\":{\"value\":\"blue\"},\"line_alpha\":{\"value\":0.3},\"line_color\":{\"value\":\"blue\"},\"top\":{\"field\":\"male_count\"},\"width\":{\"value\":0.33},\"x\":{\"field\":\"start_day\",\"transform\":{\"id\":\"85929\",\"type\":\"Dodge\"}}},\"id\":\"85931\",\"type\":\"VBar\"},{\"attributes\":{\"grid_line_color\":{\"value\":null},\"plot\":{\"id\":\"85896\",\"subtype\":\"Figure\",\"type\":\"Plot\"},\"ticker\":{\"id\":\"85906\",\"type\":\"CategoricalTicker\"}},\"id\":\"85908\",\"type\":\"Grid\"},{\"attributes\":{\"active_drag\":\"auto\",\"active_inspect\":\"auto\",\"active_multi\":null,\"active_scroll\":\"auto\",\"active_tap\":\"auto\",\"tools\":[{\"id\":\"85914\",\"type\":\"PanTool\"},{\"id\":\"85915\",\"type\":\"WheelZoomTool\"},{\"id\":\"85916\",\"type\":\"BoxZoomTool\"},{\"id\":\"85917\",\"type\":\"SaveTool\"},{\"id\":\"85918\",\"type\":\"ResetTool\"},{\"id\":\"85919\",\"type\":\"HelpTool\"}]},\"id\":\"85920\",\"type\":\"Toolbar\"},{\"attributes\":{},\"id\":\"85906\",\"type\":\"CategoricalTicker\"},{\"attributes\":{\"bottom_units\":\"screen\",\"fill_alpha\":{\"value\":0.5},\"fill_color\":{\"value\":\"lightgrey\"},\"left_units\":\"screen\",\"level\":\"overlay\",\"line_alpha\":{\"value\":1.0},\"line_color\":{\"value\":\"black\"},\"line_dash\":[4,4],\"line_width\":{\"value\":2},\"plot\":null,\"render_mode\":\"css\",\"right_units\":\"screen\",\"top_units\":\"screen\"},\"id\":\"85922\",\"type\":\"BoxAnnotation\"},{\"attributes\":{\"formatter\":{\"id\":\"85938\",\"type\":\"BasicTickFormatter\"},\"plot\":{\"id\":\"85896\",\"subtype\":\"Figure\",\"type\":\"Plot\"},\"ticker\":{\"id\":\"85910\",\"type\":\"BasicTicker\"}},\"id\":\"85909\",\"type\":\"LinearAxis\"},{\"attributes\":{\"data_source\":{\"id\":\"85895\",\"type\":\"ColumnDataSource\"},\"glyph\":{\"id\":\"85931\",\"type\":\"VBar\"},\"hover_glyph\":null,\"muted_glyph\":null,\"nonselection_glyph\":{\"id\":\"85932\",\"type\":\"VBar\"},\"selection_glyph\":null,\"view\":{\"id\":\"85934\",\"type\":\"CDSView\"}},\"id\":\"85933\",\"type\":\"GlyphRenderer\"},{\"attributes\":{\"source\":{\"id\":\"85895\",\"type\":\"ColumnDataSource\"}},\"id\":\"85934\",\"type\":\"CDSView\"},{\"attributes\":{\"fill_alpha\":{\"value\":0.3},\"fill_color\":{\"value\":\"red\"},\"line_alpha\":{\"value\":0.3},\"line_color\":{\"value\":\"red\"},\"top\":{\"field\":\"female_count\"},\"width\":{\"value\":0.33},\"x\":{\"field\":\"start_day\",\"transform\":{\"id\":\"85944\",\"type\":\"Dodge\"}}},\"id\":\"85946\",\"type\":\"VBar\"},{\"attributes\":{},\"id\":\"85910\",\"type\":\"BasicTicker\"},{\"attributes\":{},\"id\":\"85914\",\"type\":\"PanTool\"},{\"attributes\":{\"callback\":null,\"factors\":[\"Monday\",\"Tuesday\",\"Wednesday\",\"Thursday\",\"Friday\",\"Saturday\",\"Sunday\"],\"range_padding\":0.02},\"id\":\"85897\",\"type\":\"FactorRange\"},{\"attributes\":{\"plot\":null,\"text\":\"\"},\"id\":\"85935\",\"type\":\"Title\"},{\"attributes\":{\"dimension\":1,\"grid_line_color\":{\"value\":null},\"plot\":{\"id\":\"85896\",\"subtype\":\"Figure\",\"type\":\"Plot\"},\"ticker\":{\"id\":\"85910\",\"type\":\"BasicTicker\"}},\"id\":\"85913\",\"type\":\"Grid\"},{\"attributes\":{},\"id\":\"85938\",\"type\":\"BasicTickFormatter\"},{\"attributes\":{\"fill_alpha\":{\"value\":0.1},\"fill_color\":{\"value\":\"#1f77b4\"},\"line_alpha\":{\"value\":0.1},\"line_color\":{\"value\":\"#1f77b4\"},\"top\":{\"field\":\"female_count\"},\"width\":{\"value\":0.33},\"x\":{\"field\":\"start_day\",\"transform\":{\"id\":\"85944\",\"type\":\"Dodge\"}}},\"id\":\"85947\",\"type\":\"VBar\"},{\"attributes\":{\"formatter\":{\"id\":\"85940\",\"type\":\"CategoricalTickFormatter\"},\"plot\":{\"id\":\"85896\",\"subtype\":\"Figure\",\"type\":\"Plot\"},\"ticker\":{\"id\":\"85906\",\"type\":\"CategoricalTicker\"}},\"id\":\"85905\",\"type\":\"CategoricalAxis\"},{\"attributes\":{},\"id\":\"85940\",\"type\":\"CategoricalTickFormatter\"},{\"attributes\":{\"data_source\":{\"id\":\"85895\",\"type\":\"ColumnDataSource\"},\"glyph\":{\"id\":\"85946\",\"type\":\"VBar\"},\"hover_glyph\":null,\"muted_glyph\":null,\"nonselection_glyph\":{\"id\":\"85947\",\"type\":\"VBar\"},\"selection_glyph\":null,\"view\":{\"id\":\"85949\",\"type\":\"CDSView\"}},\"id\":\"85948\",\"type\":\"GlyphRenderer\"},{\"attributes\":{},\"id\":\"85903\",\"type\":\"LinearScale\"},{\"attributes\":{\"items\":[{\"id\":\"85943\",\"type\":\"LegendItem\"},{\"id\":\"85959\",\"type\":\"LegendItem\"}],\"plot\":{\"id\":\"85896\",\"subtype\":\"Figure\",\"type\":\"Plot\"}},\"id\":\"85942\",\"type\":\"Legend\"},{\"attributes\":{},\"id\":\"85901\",\"type\":\"CategoricalScale\"},{\"attributes\":{\"label\":{\"value\":\"Male\"},\"renderers\":[{\"id\":\"85933\",\"type\":\"GlyphRenderer\"}]},\"id\":\"85943\",\"type\":\"LegendItem\"},{\"attributes\":{\"callback\":null,\"end\":0.3},\"id\":\"85899\",\"type\":\"Range1d\"},{\"attributes\":{\"range\":{\"id\":\"85897\",\"type\":\"FactorRange\"},\"value\":-0.2},\"id\":\"85929\",\"type\":\"Dodge\"}],\"root_ids\":[\"85896\"]},\"title\":\"Bokeh Application\",\"version\":\"1.0.2\"}};\n",
       "  var render_items = [{\"docid\":\"a3b75c2a-1791-4081-8d55-6aaf3ad52b7c\",\"roots\":{\"85896\":\"da3fff9c-4aad-47b1-81a5-bdc461721442\"}}];\n",
       "  root.Bokeh.embed.embed_items_notebook(docs_json, render_items);\n",
       "\n",
       "  }\n",
       "  if (root.Bokeh !== undefined) {\n",
       "    embed_document(root);\n",
       "  } else {\n",
       "    var attempts = 0;\n",
       "    var timer = setInterval(function(root) {\n",
       "      if (root.Bokeh !== undefined) {\n",
       "        embed_document(root);\n",
       "        clearInterval(timer);\n",
       "      }\n",
       "      attempts++;\n",
       "      if (attempts > 100) {\n",
       "        console.log(\"Bokeh: ERROR: Unable to run BokehJS code because BokehJS library is missing\");\n",
       "        clearInterval(timer);\n",
       "      }\n",
       "    }, 10, root)\n",
       "  }\n",
       "})(window);"
      ],
      "application/vnd.bokehjs_exec.v0+json": ""
     },
     "metadata": {
      "application/vnd.bokehjs_exec.v0+json": {
       "id": "85896"
      }
     },
     "output_type": "display_data"
    }
   ],
   "source": [
    "from bokeh.transform import dodge\n",
    "source=ColumnDataSource(weekday_counts_gender_df)\n",
    "\n",
    "p=figure(x_range=weekdays,y_range=(0,.3),plot_width=800,plot_height=400)\n",
    "\n",
    "p.vbar(x=dodge('start_day',-0.2,range=p.x_range),top='male_count',width=.33,source=source,color='blue',legend='Male',alpha=.3)\n",
    "p.vbar(x=dodge('start_day',0.2,range=p.x_range),top='female_count',width=.33,source=source,color='red',legend='Female',alpha=.3)\n",
    "p.legend.location = \"top_right\"\n",
    "p.xgrid.grid_line_color = None\n",
    "p.ygrid.grid_line_color = None\n",
    "p.x_range.range_padding = 0.02\n",
    "\n",
    "show(p)"
   ]
  },
  {
   "cell_type": "code",
   "execution_count": 226,
   "metadata": {},
   "outputs": [],
   "source": [
    "#count trips started by customers by weekday in a dataframe\n",
    "tourist_by_day=tourist_df.groupby('start_day')['start_id'].count()/tourist_df['start_id'].count()\n",
    "tourist_by_day=tourist_by_day.to_frame()\n",
    "tourist_by_day.rename(columns={'start_id':'tourist_count'},inplace=True)\n",
    "tourist_by_day.reset_index(inplace=True)\n",
    "\n",
    "#same for subscribers\n",
    "local_by_day=local_df.groupby('start_day')['start_id'].count()/local_df['start_id'].count()\n",
    "local_by_day=local_by_day.to_frame()\n",
    "local_by_day.rename(columns={'start_id':'local_count'},inplace=True)\n",
    "local_by_day.reset_index(inplace=True)\n",
    "\n",
    "#join the two dataframes\n",
    "weekday_counts_user_df=pd.merge(tourist_by_day,local_by_day,on='start_day')"
   ]
  },
  {
   "cell_type": "code",
   "execution_count": 405,
   "metadata": {},
   "outputs": [
    {
     "data": {
      "text/html": [
       "\n",
       "\n",
       "\n",
       "\n",
       "\n",
       "\n",
       "  <div class=\"bk-root\" id=\"f548409d-6218-4202-bb01-7e3aa94009a2\"></div>\n"
      ]
     },
     "metadata": {},
     "output_type": "display_data"
    },
    {
     "data": {
      "application/javascript": [
       "(function(root) {\n",
       "  function embed_document(root) {\n",
       "    \n",
       "  var docs_json = {\"f21f4a7e-43fa-4fd0-893b-6b0d514bffe9\":{\"roots\":{\"references\":[{\"attributes\":{\"below\":[{\"id\":\"87135\",\"type\":\"CategoricalAxis\"}],\"left\":[{\"id\":\"87139\",\"type\":\"LinearAxis\"}],\"plot_height\":400,\"plot_width\":800,\"renderers\":[{\"id\":\"87135\",\"type\":\"CategoricalAxis\"},{\"id\":\"87138\",\"type\":\"Grid\"},{\"id\":\"87139\",\"type\":\"LinearAxis\"},{\"id\":\"87143\",\"type\":\"Grid\"},{\"id\":\"87152\",\"type\":\"BoxAnnotation\"},{\"id\":\"87172\",\"type\":\"Legend\"},{\"id\":\"87163\",\"type\":\"GlyphRenderer\"},{\"id\":\"87178\",\"type\":\"GlyphRenderer\"}],\"title\":{\"id\":\"87165\",\"type\":\"Title\"},\"toolbar\":{\"id\":\"87150\",\"type\":\"Toolbar\"},\"x_range\":{\"id\":\"87127\",\"type\":\"FactorRange\"},\"x_scale\":{\"id\":\"87131\",\"type\":\"CategoricalScale\"},\"y_range\":{\"id\":\"87129\",\"type\":\"Range1d\"},\"y_scale\":{\"id\":\"87133\",\"type\":\"LinearScale\"}},\"id\":\"87126\",\"subtype\":\"Figure\",\"type\":\"Plot\"},{\"attributes\":{\"items\":[{\"id\":\"87173\",\"type\":\"LegendItem\"},{\"id\":\"87189\",\"type\":\"LegendItem\"}],\"plot\":{\"id\":\"87126\",\"subtype\":\"Figure\",\"type\":\"Plot\"}},\"id\":\"87172\",\"type\":\"Legend\"},{\"attributes\":{},\"id\":\"87186\",\"type\":\"UnionRenderers\"},{\"attributes\":{},\"id\":\"87168\",\"type\":\"BasicTickFormatter\"},{\"attributes\":{\"fill_alpha\":{\"value\":0.1},\"fill_color\":{\"value\":\"#1f77b4\"},\"line_alpha\":{\"value\":0.1},\"line_color\":{\"value\":\"#1f77b4\"},\"top\":{\"field\":\"local_count\"},\"width\":{\"value\":0.33},\"x\":{\"field\":\"start_day\",\"transform\":{\"id\":\"87174\",\"type\":\"Dodge\"}}},\"id\":\"87177\",\"type\":\"VBar\"},{\"attributes\":{},\"id\":\"87149\",\"type\":\"HelpTool\"},{\"attributes\":{},\"id\":\"87147\",\"type\":\"SaveTool\"},{\"attributes\":{\"source\":{\"id\":\"87125\",\"type\":\"ColumnDataSource\"}},\"id\":\"87179\",\"type\":\"CDSView\"},{\"attributes\":{\"formatter\":{\"id\":\"87170\",\"type\":\"CategoricalTickFormatter\"},\"plot\":{\"id\":\"87126\",\"subtype\":\"Figure\",\"type\":\"Plot\"},\"ticker\":{\"id\":\"87136\",\"type\":\"CategoricalTicker\"}},\"id\":\"87135\",\"type\":\"CategoricalAxis\"},{\"attributes\":{\"bottom_units\":\"screen\",\"fill_alpha\":{\"value\":0.5},\"fill_color\":{\"value\":\"lightgrey\"},\"left_units\":\"screen\",\"level\":\"overlay\",\"line_alpha\":{\"value\":1.0},\"line_color\":{\"value\":\"black\"},\"line_dash\":[4,4],\"line_width\":{\"value\":2},\"plot\":null,\"render_mode\":\"css\",\"right_units\":\"screen\",\"top_units\":\"screen\"},\"id\":\"87152\",\"type\":\"BoxAnnotation\"},{\"attributes\":{\"overlay\":{\"id\":\"87152\",\"type\":\"BoxAnnotation\"}},\"id\":\"87146\",\"type\":\"BoxZoomTool\"},{\"attributes\":{},\"id\":\"87140\",\"type\":\"BasicTicker\"},{\"attributes\":{\"range\":{\"id\":\"87127\",\"type\":\"FactorRange\"},\"value\":-0.2},\"id\":\"87159\",\"type\":\"Dodge\"},{\"attributes\":{\"data_source\":{\"id\":\"87125\",\"type\":\"ColumnDataSource\"},\"glyph\":{\"id\":\"87176\",\"type\":\"VBar\"},\"hover_glyph\":null,\"muted_glyph\":null,\"nonselection_glyph\":{\"id\":\"87177\",\"type\":\"VBar\"},\"selection_glyph\":null,\"view\":{\"id\":\"87179\",\"type\":\"CDSView\"}},\"id\":\"87178\",\"type\":\"GlyphRenderer\"},{\"attributes\":{\"active_drag\":\"auto\",\"active_inspect\":\"auto\",\"active_multi\":null,\"active_scroll\":\"auto\",\"active_tap\":\"auto\",\"tools\":[{\"id\":\"87144\",\"type\":\"PanTool\"},{\"id\":\"87145\",\"type\":\"WheelZoomTool\"},{\"id\":\"87146\",\"type\":\"BoxZoomTool\"},{\"id\":\"87147\",\"type\":\"SaveTool\"},{\"id\":\"87148\",\"type\":\"ResetTool\"},{\"id\":\"87149\",\"type\":\"HelpTool\"}]},\"id\":\"87150\",\"type\":\"Toolbar\"},{\"attributes\":{\"callback\":null,\"factors\":[\"Monday\",\"Tuesday\",\"Wednesday\",\"Thursday\",\"Friday\",\"Saturday\",\"Sunday\"],\"range_padding\":0.02},\"id\":\"87127\",\"type\":\"FactorRange\"},{\"attributes\":{\"fill_alpha\":{\"value\":0.3},\"fill_color\":{\"value\":\"red\"},\"line_alpha\":{\"value\":0.3},\"line_color\":{\"value\":\"red\"},\"top\":{\"field\":\"local_count\"},\"width\":{\"value\":0.33},\"x\":{\"field\":\"start_day\",\"transform\":{\"id\":\"87174\",\"type\":\"Dodge\"}}},\"id\":\"87176\",\"type\":\"VBar\"},{\"attributes\":{},\"id\":\"87131\",\"type\":\"CategoricalScale\"},{\"attributes\":{\"plot\":null,\"text\":\"\"},\"id\":\"87165\",\"type\":\"Title\"},{\"attributes\":{\"callback\":null,\"end\":0.3},\"id\":\"87129\",\"type\":\"Range1d\"},{\"attributes\":{\"fill_alpha\":{\"value\":0.1},\"fill_color\":{\"value\":\"#1f77b4\"},\"line_alpha\":{\"value\":0.1},\"line_color\":{\"value\":\"#1f77b4\"},\"top\":{\"field\":\"tourist_count\"},\"width\":{\"value\":0.33},\"x\":{\"field\":\"start_day\",\"transform\":{\"id\":\"87159\",\"type\":\"Dodge\"}}},\"id\":\"87162\",\"type\":\"VBar\"},{\"attributes\":{},\"id\":\"87144\",\"type\":\"PanTool\"},{\"attributes\":{\"source\":{\"id\":\"87125\",\"type\":\"ColumnDataSource\"}},\"id\":\"87164\",\"type\":\"CDSView\"},{\"attributes\":{\"range\":{\"id\":\"87127\",\"type\":\"FactorRange\"},\"value\":0.2},\"id\":\"87174\",\"type\":\"Dodge\"},{\"attributes\":{\"label\":{\"value\":\"Subscriber\"},\"renderers\":[{\"id\":\"87178\",\"type\":\"GlyphRenderer\"}]},\"id\":\"87189\",\"type\":\"LegendItem\"},{\"attributes\":{\"callback\":null,\"data\":{\"index\":[0,1,2,3,4,5,6],\"local_count\":{\"__ndarray__\":\"bpLrJC5bwT8gGWeDaQXGP3O1JkvsTrk/Os1mG05OuT+99TBK+zm+P5Ev5xhpg8g/rOhmZmSwxz8=\",\"dtype\":\"float64\",\"shape\":[7]},\"start_day\":[\"Friday\",\"Monday\",\"Saturday\",\"Sunday\",\"Thursday\",\"Tuesday\",\"Wednesday\"],\"tourist_count\":{\"__ndarray__\":\"pMl08hkIwj8TTZaOyFfAPywrdOhMfsg/+d7zfu+yxj+rSlmXDVS8P4TP9zMpTsA/ktTQL2Ltvz8=\",\"dtype\":\"float64\",\"shape\":[7]}},\"selected\":{\"id\":\"87187\",\"type\":\"Selection\"},\"selection_policy\":{\"id\":\"87186\",\"type\":\"UnionRenderers\"}},\"id\":\"87125\",\"type\":\"ColumnDataSource\"},{\"attributes\":{},\"id\":\"87133\",\"type\":\"LinearScale\"},{\"attributes\":{},\"id\":\"87187\",\"type\":\"Selection\"},{\"attributes\":{\"data_source\":{\"id\":\"87125\",\"type\":\"ColumnDataSource\"},\"glyph\":{\"id\":\"87161\",\"type\":\"VBar\"},\"hover_glyph\":null,\"muted_glyph\":null,\"nonselection_glyph\":{\"id\":\"87162\",\"type\":\"VBar\"},\"selection_glyph\":null,\"view\":{\"id\":\"87164\",\"type\":\"CDSView\"}},\"id\":\"87163\",\"type\":\"GlyphRenderer\"},{\"attributes\":{\"formatter\":{\"id\":\"87168\",\"type\":\"BasicTickFormatter\"},\"plot\":{\"id\":\"87126\",\"subtype\":\"Figure\",\"type\":\"Plot\"},\"ticker\":{\"id\":\"87140\",\"type\":\"BasicTicker\"}},\"id\":\"87139\",\"type\":\"LinearAxis\"},{\"attributes\":{},\"id\":\"87145\",\"type\":\"WheelZoomTool\"},{\"attributes\":{\"grid_line_color\":{\"value\":null},\"plot\":{\"id\":\"87126\",\"subtype\":\"Figure\",\"type\":\"Plot\"},\"ticker\":{\"id\":\"87136\",\"type\":\"CategoricalTicker\"}},\"id\":\"87138\",\"type\":\"Grid\"},{\"attributes\":{\"fill_alpha\":{\"value\":0.3},\"fill_color\":{\"value\":\"blue\"},\"line_alpha\":{\"value\":0.3},\"line_color\":{\"value\":\"blue\"},\"top\":{\"field\":\"tourist_count\"},\"width\":{\"value\":0.33},\"x\":{\"field\":\"start_day\",\"transform\":{\"id\":\"87159\",\"type\":\"Dodge\"}}},\"id\":\"87161\",\"type\":\"VBar\"},{\"attributes\":{\"dimension\":1,\"grid_line_color\":{\"value\":null},\"plot\":{\"id\":\"87126\",\"subtype\":\"Figure\",\"type\":\"Plot\"},\"ticker\":{\"id\":\"87140\",\"type\":\"BasicTicker\"}},\"id\":\"87143\",\"type\":\"Grid\"},{\"attributes\":{},\"id\":\"87148\",\"type\":\"ResetTool\"},{\"attributes\":{},\"id\":\"87136\",\"type\":\"CategoricalTicker\"},{\"attributes\":{},\"id\":\"87170\",\"type\":\"CategoricalTickFormatter\"},{\"attributes\":{\"label\":{\"value\":\"Customer\"},\"renderers\":[{\"id\":\"87163\",\"type\":\"GlyphRenderer\"}]},\"id\":\"87173\",\"type\":\"LegendItem\"}],\"root_ids\":[\"87126\"]},\"title\":\"Bokeh Application\",\"version\":\"1.0.2\"}};\n",
       "  var render_items = [{\"docid\":\"f21f4a7e-43fa-4fd0-893b-6b0d514bffe9\",\"roots\":{\"87126\":\"f548409d-6218-4202-bb01-7e3aa94009a2\"}}];\n",
       "  root.Bokeh.embed.embed_items_notebook(docs_json, render_items);\n",
       "\n",
       "  }\n",
       "  if (root.Bokeh !== undefined) {\n",
       "    embed_document(root);\n",
       "  } else {\n",
       "    var attempts = 0;\n",
       "    var timer = setInterval(function(root) {\n",
       "      if (root.Bokeh !== undefined) {\n",
       "        embed_document(root);\n",
       "        clearInterval(timer);\n",
       "      }\n",
       "      attempts++;\n",
       "      if (attempts > 100) {\n",
       "        console.log(\"Bokeh: ERROR: Unable to run BokehJS code because BokehJS library is missing\");\n",
       "        clearInterval(timer);\n",
       "      }\n",
       "    }, 10, root)\n",
       "  }\n",
       "})(window);"
      ],
      "application/vnd.bokehjs_exec.v0+json": ""
     },
     "metadata": {
      "application/vnd.bokehjs_exec.v0+json": {
       "id": "87126"
      }
     },
     "output_type": "display_data"
    }
   ],
   "source": [
    "source=ColumnDataSource(weekday_counts_user_df)\n",
    "\n",
    "p=figure(x_range=weekdays,y_range=(0,.3),plot_width=800,plot_height=400)\n",
    "\n",
    "p.vbar(x=dodge('start_day',-0.2,range=p.x_range),top='tourist_count',width=.33,source=source,color='blue',legend='Customer',\n",
    "       alpha=.3)\n",
    "p.vbar(x=dodge('start_day',0.2,range=p.x_range),top='local_count',width=.33,source=source,color='red',legend='Subscriber',\n",
    "       alpha=.3)\n",
    "p.legend.location = \"top_right\"\n",
    "p.xgrid.grid_line_color = None\n",
    "p.ygrid.grid_line_color = None\n",
    "p.x_range.range_padding = 0.02\n",
    "\n",
    "show(p)"
   ]
  },
  {
   "cell_type": "code",
   "execution_count": 299,
   "metadata": {},
   "outputs": [],
   "source": [
    "#create dataframe with trips taken each weekday by the three age groups i created\n",
    "df=bike_df.pivot_table(index='start_day',columns='age_group',values='bike',aggfunc=len)\n",
    "\n",
    "#normalize the data - instead of count i use percentage of total trips by respective age-group\n",
    "df['Middle-Aged']=df['Middle-Aged']/df['Middle-Aged'].sum()\n",
    "df['Young']=df['Young']/df['Young'].sum()\n",
    "df['Old']=df['Old']/df['Old'].sum()\n",
    "\n",
    "df.reset_index(inplace=True)\n",
    "del df.columns.name\n",
    "weekday_counts_age_group=df"
   ]
  },
  {
   "cell_type": "code",
   "execution_count": 300,
   "metadata": {},
   "outputs": [
    {
     "data": {
      "text/html": [
       "\n",
       "\n",
       "\n",
       "\n",
       "\n",
       "\n",
       "  <div class=\"bk-root\" id=\"e13d2c30-8213-44be-81f9-82917483b021\"></div>\n"
      ]
     },
     "metadata": {},
     "output_type": "display_data"
    },
    {
     "data": {
      "application/javascript": [
       "(function(root) {\n",
       "  function embed_document(root) {\n",
       "    \n",
       "  var docs_json = {\"27ed5f68-bfcb-48f5-806a-709c4004254f\":{\"roots\":{\"references\":[{\"attributes\":{\"below\":[{\"id\":\"56907\",\"type\":\"CategoricalAxis\"}],\"left\":[{\"id\":\"56911\",\"type\":\"LinearAxis\"}],\"plot_height\":400,\"plot_width\":800,\"renderers\":[{\"id\":\"56907\",\"type\":\"CategoricalAxis\"},{\"id\":\"56910\",\"type\":\"Grid\"},{\"id\":\"56911\",\"type\":\"LinearAxis\"},{\"id\":\"56915\",\"type\":\"Grid\"},{\"id\":\"56924\",\"type\":\"BoxAnnotation\"},{\"id\":\"56944\",\"type\":\"Legend\"},{\"id\":\"56935\",\"type\":\"GlyphRenderer\"},{\"id\":\"56950\",\"type\":\"GlyphRenderer\"},{\"id\":\"56966\",\"type\":\"GlyphRenderer\"}],\"title\":{\"id\":\"56937\",\"type\":\"Title\"},\"toolbar\":{\"id\":\"56922\",\"type\":\"Toolbar\"},\"x_range\":{\"id\":\"56899\",\"type\":\"FactorRange\"},\"x_scale\":{\"id\":\"56903\",\"type\":\"CategoricalScale\"},\"y_range\":{\"id\":\"56901\",\"type\":\"Range1d\"},\"y_scale\":{\"id\":\"56905\",\"type\":\"LinearScale\"}},\"id\":\"56898\",\"subtype\":\"Figure\",\"type\":\"Plot\"},{\"attributes\":{\"dimension\":1,\"grid_line_color\":{\"value\":null},\"plot\":{\"id\":\"56898\",\"subtype\":\"Figure\",\"type\":\"Plot\"},\"ticker\":{\"id\":\"56912\",\"type\":\"BasicTicker\"}},\"id\":\"56915\",\"type\":\"Grid\"},{\"attributes\":{},\"id\":\"56959\",\"type\":\"Selection\"},{\"attributes\":{\"label\":{\"value\":\"Middle Aged\"},\"renderers\":[{\"id\":\"56950\",\"type\":\"GlyphRenderer\"}]},\"id\":\"56961\",\"type\":\"LegendItem\"},{\"attributes\":{\"range\":{\"id\":\"56899\",\"type\":\"FactorRange\"},\"value\":-0.22},\"id\":\"56931\",\"type\":\"Dodge\"},{\"attributes\":{\"items\":[{\"id\":\"56945\",\"type\":\"LegendItem\"},{\"id\":\"56961\",\"type\":\"LegendItem\"},{\"id\":\"56977\",\"type\":\"LegendItem\"}],\"plot\":{\"id\":\"56898\",\"subtype\":\"Figure\",\"type\":\"Plot\"}},\"id\":\"56944\",\"type\":\"Legend\"},{\"attributes\":{},\"id\":\"56942\",\"type\":\"CategoricalTickFormatter\"},{\"attributes\":{\"source\":{\"id\":\"56897\",\"type\":\"ColumnDataSource\"}},\"id\":\"56936\",\"type\":\"CDSView\"},{\"attributes\":{\"fill_alpha\":{\"value\":0.3},\"fill_color\":{\"value\":\"blue\"},\"line_alpha\":{\"value\":0.3},\"line_color\":{\"value\":\"blue\"},\"top\":{\"field\":\"Young\"},\"width\":{\"value\":0.2},\"x\":{\"field\":\"start_day\",\"transform\":{\"id\":\"56931\",\"type\":\"Dodge\"}}},\"id\":\"56933\",\"type\":\"VBar\"},{\"attributes\":{\"callback\":null,\"data\":{\"Middle-Aged\":{\"__ndarray__\":\"xKOYbamnwT9DnahfCfDEP3yf6za11r0/uO2Jqqa7vD+QWp63bBC+P6L6f+Ma2MY/dNC0As4+xj8=\",\"dtype\":\"float64\",\"shape\":[7]},\"Old\":{\"__ndarray__\":\"UzhVxNphwT8MQkiANT7GP4juQI1W+bc/bpaYZMKItz/NDVf4l2q/P42qRV+N8Mg/s5EE5wn5xz8=\",\"dtype\":\"float64\",\"shape\":[7]},\"Young\":{\"__ndarray__\":\"eYCylL8owT/oDY+ilpjEP6Yt275Lcr8/SdCgVkSuvz+xHAI8HcO8P/WXp9P9mcY/WsxXTNWyxT8=\",\"dtype\":\"float64\",\"shape\":[7]},\"index\":[0,1,2,3,4,5,6],\"start_day\":[\"Friday\",\"Monday\",\"Saturday\",\"Sunday\",\"Thursday\",\"Tuesday\",\"Wednesday\"]},\"selected\":{\"id\":\"56959\",\"type\":\"Selection\"},\"selection_policy\":{\"id\":\"56958\",\"type\":\"UnionRenderers\"}},\"id\":\"56897\",\"type\":\"ColumnDataSource\"},{\"attributes\":{\"range\":{\"id\":\"56899\",\"type\":\"FactorRange\"},\"value\":0.22},\"id\":\"56962\",\"type\":\"Dodge\"},{\"attributes\":{},\"id\":\"56916\",\"type\":\"PanTool\"},{\"attributes\":{\"data_source\":{\"id\":\"56897\",\"type\":\"ColumnDataSource\"},\"glyph\":{\"id\":\"56933\",\"type\":\"VBar\"},\"hover_glyph\":null,\"muted_glyph\":null,\"nonselection_glyph\":{\"id\":\"56934\",\"type\":\"VBar\"},\"selection_glyph\":null,\"view\":{\"id\":\"56936\",\"type\":\"CDSView\"}},\"id\":\"56935\",\"type\":\"GlyphRenderer\"},{\"attributes\":{\"fill_alpha\":{\"value\":0.3},\"fill_color\":{\"value\":\"brown\"},\"line_alpha\":{\"value\":0.3},\"line_color\":{\"value\":\"brown\"},\"top\":{\"field\":\"Old\"},\"width\":{\"value\":0.2},\"x\":{\"field\":\"start_day\",\"transform\":{\"id\":\"56962\",\"type\":\"Dodge\"}}},\"id\":\"56964\",\"type\":\"VBar\"},{\"attributes\":{},\"id\":\"56917\",\"type\":\"WheelZoomTool\"},{\"attributes\":{},\"id\":\"56940\",\"type\":\"BasicTickFormatter\"},{\"attributes\":{\"callback\":null,\"end\":0.3},\"id\":\"56901\",\"type\":\"Range1d\"},{\"attributes\":{\"fill_alpha\":{\"value\":0.1},\"fill_color\":{\"value\":\"#1f77b4\"},\"line_alpha\":{\"value\":0.1},\"line_color\":{\"value\":\"#1f77b4\"},\"top\":{\"field\":\"Old\"},\"width\":{\"value\":0.2},\"x\":{\"field\":\"start_day\",\"transform\":{\"id\":\"56962\",\"type\":\"Dodge\"}}},\"id\":\"56965\",\"type\":\"VBar\"},{\"attributes\":{\"overlay\":{\"id\":\"56924\",\"type\":\"BoxAnnotation\"}},\"id\":\"56918\",\"type\":\"BoxZoomTool\"},{\"attributes\":{\"plot\":null,\"text\":\"\"},\"id\":\"56937\",\"type\":\"Title\"},{\"attributes\":{\"data_source\":{\"id\":\"56897\",\"type\":\"ColumnDataSource\"},\"glyph\":{\"id\":\"56964\",\"type\":\"VBar\"},\"hover_glyph\":null,\"muted_glyph\":null,\"nonselection_glyph\":{\"id\":\"56965\",\"type\":\"VBar\"},\"selection_glyph\":null,\"view\":{\"id\":\"56967\",\"type\":\"CDSView\"}},\"id\":\"56966\",\"type\":\"GlyphRenderer\"},{\"attributes\":{},\"id\":\"56919\",\"type\":\"SaveTool\"},{\"attributes\":{\"source\":{\"id\":\"56897\",\"type\":\"ColumnDataSource\"}},\"id\":\"56967\",\"type\":\"CDSView\"},{\"attributes\":{},\"id\":\"56920\",\"type\":\"ResetTool\"},{\"attributes\":{\"label\":{\"value\":\"Elderly\"},\"renderers\":[{\"id\":\"56966\",\"type\":\"GlyphRenderer\"}]},\"id\":\"56977\",\"type\":\"LegendItem\"},{\"attributes\":{},\"id\":\"56921\",\"type\":\"HelpTool\"},{\"attributes\":{\"callback\":null,\"factors\":[\"Monday\",\"Tuesday\",\"Wednesday\",\"Thursday\",\"Friday\",\"Saturday\",\"Sunday\"],\"range_padding\":0.02},\"id\":\"56899\",\"type\":\"FactorRange\"},{\"attributes\":{\"fill_alpha\":{\"value\":0.1},\"fill_color\":{\"value\":\"#1f77b4\"},\"line_alpha\":{\"value\":0.1},\"line_color\":{\"value\":\"#1f77b4\"},\"top\":{\"field\":\"Young\"},\"width\":{\"value\":0.2},\"x\":{\"field\":\"start_day\",\"transform\":{\"id\":\"56931\",\"type\":\"Dodge\"}}},\"id\":\"56934\",\"type\":\"VBar\"},{\"attributes\":{\"active_drag\":\"auto\",\"active_inspect\":\"auto\",\"active_multi\":null,\"active_scroll\":\"auto\",\"active_tap\":\"auto\",\"tools\":[{\"id\":\"56916\",\"type\":\"PanTool\"},{\"id\":\"56917\",\"type\":\"WheelZoomTool\"},{\"id\":\"56918\",\"type\":\"BoxZoomTool\"},{\"id\":\"56919\",\"type\":\"SaveTool\"},{\"id\":\"56920\",\"type\":\"ResetTool\"},{\"id\":\"56921\",\"type\":\"HelpTool\"}]},\"id\":\"56922\",\"type\":\"Toolbar\"},{\"attributes\":{\"label\":{\"value\":\"Youngsters\"},\"renderers\":[{\"id\":\"56935\",\"type\":\"GlyphRenderer\"}]},\"id\":\"56945\",\"type\":\"LegendItem\"},{\"attributes\":{\"bottom_units\":\"screen\",\"fill_alpha\":{\"value\":0.5},\"fill_color\":{\"value\":\"lightgrey\"},\"left_units\":\"screen\",\"level\":\"overlay\",\"line_alpha\":{\"value\":1.0},\"line_color\":{\"value\":\"black\"},\"line_dash\":[4,4],\"line_width\":{\"value\":2},\"plot\":null,\"render_mode\":\"css\",\"right_units\":\"screen\",\"top_units\":\"screen\"},\"id\":\"56924\",\"type\":\"BoxAnnotation\"},{\"attributes\":{},\"id\":\"56903\",\"type\":\"CategoricalScale\"},{\"attributes\":{},\"id\":\"56905\",\"type\":\"LinearScale\"},{\"attributes\":{\"range\":{\"id\":\"56899\",\"type\":\"FactorRange\"}},\"id\":\"56946\",\"type\":\"Dodge\"},{\"attributes\":{\"fill_alpha\":{\"value\":0.3},\"fill_color\":{\"value\":\"red\"},\"line_alpha\":{\"value\":0.3},\"line_color\":{\"value\":\"red\"},\"top\":{\"field\":\"Middle-Aged\"},\"width\":{\"value\":0.2},\"x\":{\"field\":\"start_day\",\"transform\":{\"id\":\"56946\",\"type\":\"Dodge\"}}},\"id\":\"56948\",\"type\":\"VBar\"},{\"attributes\":{\"formatter\":{\"id\":\"56942\",\"type\":\"CategoricalTickFormatter\"},\"plot\":{\"id\":\"56898\",\"subtype\":\"Figure\",\"type\":\"Plot\"},\"ticker\":{\"id\":\"56908\",\"type\":\"CategoricalTicker\"}},\"id\":\"56907\",\"type\":\"CategoricalAxis\"},{\"attributes\":{\"fill_alpha\":{\"value\":0.1},\"fill_color\":{\"value\":\"#1f77b4\"},\"line_alpha\":{\"value\":0.1},\"line_color\":{\"value\":\"#1f77b4\"},\"top\":{\"field\":\"Middle-Aged\"},\"width\":{\"value\":0.2},\"x\":{\"field\":\"start_day\",\"transform\":{\"id\":\"56946\",\"type\":\"Dodge\"}}},\"id\":\"56949\",\"type\":\"VBar\"},{\"attributes\":{},\"id\":\"56908\",\"type\":\"CategoricalTicker\"},{\"attributes\":{\"data_source\":{\"id\":\"56897\",\"type\":\"ColumnDataSource\"},\"glyph\":{\"id\":\"56948\",\"type\":\"VBar\"},\"hover_glyph\":null,\"muted_glyph\":null,\"nonselection_glyph\":{\"id\":\"56949\",\"type\":\"VBar\"},\"selection_glyph\":null,\"view\":{\"id\":\"56951\",\"type\":\"CDSView\"}},\"id\":\"56950\",\"type\":\"GlyphRenderer\"},{\"attributes\":{\"grid_line_color\":{\"value\":null},\"plot\":{\"id\":\"56898\",\"subtype\":\"Figure\",\"type\":\"Plot\"},\"ticker\":{\"id\":\"56908\",\"type\":\"CategoricalTicker\"}},\"id\":\"56910\",\"type\":\"Grid\"},{\"attributes\":{\"source\":{\"id\":\"56897\",\"type\":\"ColumnDataSource\"}},\"id\":\"56951\",\"type\":\"CDSView\"},{\"attributes\":{\"formatter\":{\"id\":\"56940\",\"type\":\"BasicTickFormatter\"},\"plot\":{\"id\":\"56898\",\"subtype\":\"Figure\",\"type\":\"Plot\"},\"ticker\":{\"id\":\"56912\",\"type\":\"BasicTicker\"}},\"id\":\"56911\",\"type\":\"LinearAxis\"},{\"attributes\":{},\"id\":\"56958\",\"type\":\"UnionRenderers\"},{\"attributes\":{},\"id\":\"56912\",\"type\":\"BasicTicker\"}],\"root_ids\":[\"56898\"]},\"title\":\"Bokeh Application\",\"version\":\"1.0.2\"}};\n",
       "  var render_items = [{\"docid\":\"27ed5f68-bfcb-48f5-806a-709c4004254f\",\"roots\":{\"56898\":\"e13d2c30-8213-44be-81f9-82917483b021\"}}];\n",
       "  root.Bokeh.embed.embed_items_notebook(docs_json, render_items);\n",
       "\n",
       "  }\n",
       "  if (root.Bokeh !== undefined) {\n",
       "    embed_document(root);\n",
       "  } else {\n",
       "    var attempts = 0;\n",
       "    var timer = setInterval(function(root) {\n",
       "      if (root.Bokeh !== undefined) {\n",
       "        embed_document(root);\n",
       "        clearInterval(timer);\n",
       "      }\n",
       "      attempts++;\n",
       "      if (attempts > 100) {\n",
       "        console.log(\"Bokeh: ERROR: Unable to run BokehJS code because BokehJS library is missing\");\n",
       "        clearInterval(timer);\n",
       "      }\n",
       "    }, 10, root)\n",
       "  }\n",
       "})(window);"
      ],
      "application/vnd.bokehjs_exec.v0+json": ""
     },
     "metadata": {
      "application/vnd.bokehjs_exec.v0+json": {
       "id": "56898"
      }
     },
     "output_type": "display_data"
    }
   ],
   "source": [
    "source=ColumnDataSource(weekday_counts_age_group)\n",
    "\n",
    "p=figure(x_range=weekdays,y_range=(0,.3),plot_width=800,plot_height=400)\n",
    "\n",
    "p.vbar(x=dodge('start_day',-0.22,range=p.x_range),top='Young',width=.2,source=source,color='blue',legend='Youngsters',alpha=.3)\n",
    "p.vbar(x=dodge('start_day',0,range=p.x_range),top='Middle-Aged',width=.2,source=source,color='red',legend='Middle Aged',alpha=.3)\n",
    "p.vbar(x=dodge('start_day',0.22,range=p.x_range),top='Old',width=.2,source=source,color='brown',legend='Elderly',alpha=.3)\n",
    "\n",
    "p.legend.location = \"top_right\"\n",
    "p.xgrid.grid_line_color = None\n",
    "p.ygrid.grid_line_color = None\n",
    "p.x_range.range_padding = 0.02\n",
    "\n",
    "show(p)"
   ]
  },
  {
   "cell_type": "code",
   "execution_count": 349,
   "metadata": {},
   "outputs": [],
   "source": [
    "df=bike_df.pivot_table(index='start_hour',columns='gender',values='bike',aggfunc=len)\n",
    "df.reset_index(inplace=True)\n",
    "del df.columns.name\n",
    "df.rename(columns={1:'male',2:'female'},inplace=True)\n",
    "df.drop(columns=0, inplace=True)\n",
    "df['start_hour']=df['start_hour'].apply(lambda x: str(x))"
   ]
  },
  {
   "cell_type": "code",
   "execution_count": 362,
   "metadata": {},
   "outputs": [],
   "source": [
    "df['male']=df['male']/df['male'].sum()\n",
    "df['female']=df['female']/df['female'].sum()"
   ]
  },
  {
   "cell_type": "code",
   "execution_count": 371,
   "metadata": {},
   "outputs": [
    {
     "data": {
      "text/html": [
       "\n",
       "\n",
       "\n",
       "\n",
       "\n",
       "\n",
       "  <div class=\"bk-root\" id=\"2d756d52-b754-4554-903a-ce44d9af583b\"></div>\n"
      ]
     },
     "metadata": {},
     "output_type": "display_data"
    },
    {
     "data": {
      "application/javascript": [
       "(function(root) {\n",
       "  function embed_document(root) {\n",
       "    \n",
       "  var docs_json = {\"717cdcdc-2287-4c3a-8c7b-855323ab305c\":{\"roots\":{\"references\":[{\"attributes\":{\"below\":[{\"id\":\"70574\",\"type\":\"CategoricalAxis\"}],\"left\":[{\"id\":\"70578\",\"type\":\"LinearAxis\"}],\"plot_height\":400,\"plot_width\":800,\"renderers\":[{\"id\":\"70574\",\"type\":\"CategoricalAxis\"},{\"id\":\"70577\",\"type\":\"Grid\"},{\"id\":\"70578\",\"type\":\"LinearAxis\"},{\"id\":\"70582\",\"type\":\"Grid\"},{\"id\":\"70591\",\"type\":\"BoxAnnotation\"},{\"id\":\"70610\",\"type\":\"Legend\"},{\"id\":\"70601\",\"type\":\"GlyphRenderer\"},{\"id\":\"70615\",\"type\":\"GlyphRenderer\"}],\"title\":{\"id\":\"70603\",\"type\":\"Title\"},\"toolbar\":{\"id\":\"70589\",\"type\":\"Toolbar\"},\"x_range\":{\"id\":\"70566\",\"type\":\"FactorRange\"},\"x_scale\":{\"id\":\"70570\",\"type\":\"CategoricalScale\"},\"y_range\":{\"id\":\"70568\",\"type\":\"DataRange1d\"},\"y_scale\":{\"id\":\"70572\",\"type\":\"LinearScale\"}},\"id\":\"70565\",\"subtype\":\"Figure\",\"type\":\"Plot\"},{\"attributes\":{\"callback\":null,\"data\":{\"female\":{\"__ndarray__\":\"LfPh2s3pgD9NCBUCwbVwP587o3EdrGA/SpYzvbpcVD/C7zWtu21YP44LdT7sWHk/oITYeQFIlD9DIqxNTTumP5YWF9ShRLQ/6PTNzGrFsD/k42Vtp7unP+EM1cgjIKg/fD06jEP0qj93rOUvCUisP5IObv6GBaw/AK1DxgmErD+U39TxRG+wP8iHLlYB67c/Bu5Jux6SuD86XfjzvMiyPyz60zP9MKs/SHOKK0wWoj/lG3D3baaaP1E53yY0448/\",\"dtype\":\"float64\",\"shape\":[24]},\"index\":[0,1,2,3,4,5,6,7,8,9,10,11,12,13,14,15,16,17,18,19,20,21,22,23],\"male\":{\"__ndarray__\":\"M2AC9mrehj8JWfHF3AR8P/v8aWrbgnE/o7bFRa8SZj95NjWgPjFmP6zqu4QvrX4/A1i4j5PrmD+pcwLSlDaoP1uz0s76o7M/YEk2UTWcrz8HndiHOlClP6/cUQyIj6U/gc+tlCpJqT/+rQD6el+qP/09560GYKo/C4c/1YeIqz/wOW81ANOwP/TzwbBa9rg/9NHD26h7uD+6ftyueyyyP0B2svy6L6o/+hWsU9K2oj+SN9vscRKdP8w/pyyIUpM/\",\"dtype\":\"float64\",\"shape\":[24]},\"start_hour\":[\"0\",\"1\",\"2\",\"3\",\"4\",\"5\",\"6\",\"7\",\"8\",\"9\",\"10\",\"11\",\"12\",\"13\",\"14\",\"15\",\"16\",\"17\",\"18\",\"19\",\"20\",\"21\",\"22\",\"23\"]},\"selected\":{\"id\":\"70624\",\"type\":\"Selection\"},\"selection_policy\":{\"id\":\"70623\",\"type\":\"UnionRenderers\"}},\"id\":\"70564\",\"type\":\"ColumnDataSource\"},{\"attributes\":{\"fill_alpha\":{\"value\":0.1},\"fill_color\":{\"value\":\"#1f77b4\"},\"line_alpha\":{\"value\":0.1},\"line_color\":{\"value\":\"#1f77b4\"},\"top\":{\"field\":\"female\"},\"width\":{\"value\":1},\"x\":{\"field\":\"start_hour\"}},\"id\":\"70614\",\"type\":\"VBar\"},{\"attributes\":{},\"id\":\"70624\",\"type\":\"Selection\"},{\"attributes\":{\"data_source\":{\"id\":\"70564\",\"type\":\"ColumnDataSource\"},\"glyph\":{\"id\":\"70613\",\"type\":\"VBar\"},\"hover_glyph\":null,\"muted_glyph\":null,\"nonselection_glyph\":{\"id\":\"70614\",\"type\":\"VBar\"},\"selection_glyph\":null,\"view\":{\"id\":\"70616\",\"type\":\"CDSView\"}},\"id\":\"70615\",\"type\":\"GlyphRenderer\"},{\"attributes\":{\"data_source\":{\"id\":\"70564\",\"type\":\"ColumnDataSource\"},\"glyph\":{\"id\":\"70599\",\"type\":\"VBar\"},\"hover_glyph\":null,\"muted_glyph\":null,\"nonselection_glyph\":{\"id\":\"70600\",\"type\":\"VBar\"},\"selection_glyph\":null,\"view\":{\"id\":\"70602\",\"type\":\"CDSView\"}},\"id\":\"70601\",\"type\":\"GlyphRenderer\"},{\"attributes\":{\"source\":{\"id\":\"70564\",\"type\":\"ColumnDataSource\"}},\"id\":\"70616\",\"type\":\"CDSView\"},{\"attributes\":{},\"id\":\"70583\",\"type\":\"PanTool\"},{\"attributes\":{},\"id\":\"70606\",\"type\":\"BasicTickFormatter\"},{\"attributes\":{\"callback\":null},\"id\":\"70568\",\"type\":\"DataRange1d\"},{\"attributes\":{\"fill_alpha\":{\"value\":0.3},\"fill_color\":{\"value\":\"blue\"},\"line_alpha\":{\"value\":0.3},\"line_color\":{\"value\":null},\"top\":{\"field\":\"male\"},\"width\":{\"value\":1},\"x\":{\"field\":\"start_hour\"}},\"id\":\"70599\",\"type\":\"VBar\"},{\"attributes\":{\"active_drag\":\"auto\",\"active_inspect\":\"auto\",\"active_multi\":null,\"active_scroll\":\"auto\",\"active_tap\":\"auto\",\"tools\":[{\"id\":\"70583\",\"type\":\"PanTool\"},{\"id\":\"70584\",\"type\":\"WheelZoomTool\"},{\"id\":\"70585\",\"type\":\"BoxZoomTool\"},{\"id\":\"70586\",\"type\":\"SaveTool\"},{\"id\":\"70587\",\"type\":\"ResetTool\"},{\"id\":\"70588\",\"type\":\"HelpTool\"}]},\"id\":\"70589\",\"type\":\"Toolbar\"},{\"attributes\":{},\"id\":\"70575\",\"type\":\"CategoricalTicker\"},{\"attributes\":{\"overlay\":{\"id\":\"70591\",\"type\":\"BoxAnnotation\"}},\"id\":\"70585\",\"type\":\"BoxZoomTool\"},{\"attributes\":{\"grid_line_color\":{\"value\":null},\"plot\":{\"id\":\"70565\",\"subtype\":\"Figure\",\"type\":\"Plot\"},\"ticker\":{\"id\":\"70575\",\"type\":\"CategoricalTicker\"}},\"id\":\"70577\",\"type\":\"Grid\"},{\"attributes\":{},\"id\":\"70586\",\"type\":\"SaveTool\"},{\"attributes\":{\"formatter\":{\"id\":\"70606\",\"type\":\"BasicTickFormatter\"},\"plot\":{\"id\":\"70565\",\"subtype\":\"Figure\",\"type\":\"Plot\"},\"ticker\":{\"id\":\"70579\",\"type\":\"BasicTicker\"}},\"id\":\"70578\",\"type\":\"LinearAxis\"},{\"attributes\":{},\"id\":\"70587\",\"type\":\"ResetTool\"},{\"attributes\":{\"bottom_units\":\"screen\",\"fill_alpha\":{\"value\":0.5},\"fill_color\":{\"value\":\"lightgrey\"},\"left_units\":\"screen\",\"level\":\"overlay\",\"line_alpha\":{\"value\":1.0},\"line_color\":{\"value\":\"black\"},\"line_dash\":[4,4],\"line_width\":{\"value\":2},\"plot\":null,\"render_mode\":\"css\",\"right_units\":\"screen\",\"top_units\":\"screen\"},\"id\":\"70591\",\"type\":\"BoxAnnotation\"},{\"attributes\":{},\"id\":\"70588\",\"type\":\"HelpTool\"},{\"attributes\":{},\"id\":\"70579\",\"type\":\"BasicTicker\"},{\"attributes\":{\"dimension\":1,\"grid_line_color\":{\"value\":null},\"plot\":{\"id\":\"70565\",\"subtype\":\"Figure\",\"type\":\"Plot\"},\"ticker\":{\"id\":\"70579\",\"type\":\"BasicTicker\"}},\"id\":\"70582\",\"type\":\"Grid\"},{\"attributes\":{},\"id\":\"70584\",\"type\":\"WheelZoomTool\"},{\"attributes\":{\"formatter\":{\"id\":\"70608\",\"type\":\"CategoricalTickFormatter\"},\"plot\":{\"id\":\"70565\",\"subtype\":\"Figure\",\"type\":\"Plot\"},\"ticker\":{\"id\":\"70575\",\"type\":\"CategoricalTicker\"}},\"id\":\"70574\",\"type\":\"CategoricalAxis\"},{\"attributes\":{\"source\":{\"id\":\"70564\",\"type\":\"ColumnDataSource\"}},\"id\":\"70602\",\"type\":\"CDSView\"},{\"attributes\":{},\"id\":\"70572\",\"type\":\"LinearScale\"},{\"attributes\":{\"plot\":null,\"text\":\"\"},\"id\":\"70603\",\"type\":\"Title\"},{\"attributes\":{},\"id\":\"70570\",\"type\":\"CategoricalScale\"},{\"attributes\":{},\"id\":\"70608\",\"type\":\"CategoricalTickFormatter\"},{\"attributes\":{\"fill_alpha\":{\"value\":0.1},\"fill_color\":{\"value\":\"#1f77b4\"},\"line_alpha\":{\"value\":0.1},\"line_color\":{\"value\":\"#1f77b4\"},\"top\":{\"field\":\"male\"},\"width\":{\"value\":1},\"x\":{\"field\":\"start_hour\"}},\"id\":\"70600\",\"type\":\"VBar\"},{\"attributes\":{\"items\":[{\"id\":\"70611\",\"type\":\"LegendItem\"},{\"id\":\"70626\",\"type\":\"LegendItem\"}],\"location\":\"top_left\",\"plot\":{\"id\":\"70565\",\"subtype\":\"Figure\",\"type\":\"Plot\"}},\"id\":\"70610\",\"type\":\"Legend\"},{\"attributes\":{\"callback\":null,\"factors\":[\"0\",\"1\",\"2\",\"3\",\"4\",\"5\",\"6\",\"7\",\"8\",\"9\",\"10\",\"11\",\"12\",\"13\",\"14\",\"15\",\"16\",\"17\",\"18\",\"19\",\"20\",\"21\",\"22\",\"23\"],\"range_padding\":0.04},\"id\":\"70566\",\"type\":\"FactorRange\"},{\"attributes\":{\"label\":{\"value\":\"Male\"},\"renderers\":[{\"id\":\"70601\",\"type\":\"GlyphRenderer\"}]},\"id\":\"70611\",\"type\":\"LegendItem\"},{\"attributes\":{\"fill_alpha\":{\"value\":0.3},\"fill_color\":{\"value\":\"orange\"},\"line_alpha\":{\"value\":0.3},\"line_color\":{\"value\":null},\"top\":{\"field\":\"female\"},\"width\":{\"value\":1},\"x\":{\"field\":\"start_hour\"}},\"id\":\"70613\",\"type\":\"VBar\"},{\"attributes\":{},\"id\":\"70623\",\"type\":\"UnionRenderers\"},{\"attributes\":{\"label\":{\"value\":\"Female\"},\"renderers\":[{\"id\":\"70615\",\"type\":\"GlyphRenderer\"}]},\"id\":\"70626\",\"type\":\"LegendItem\"}],\"root_ids\":[\"70565\"]},\"title\":\"Bokeh Application\",\"version\":\"1.0.2\"}};\n",
       "  var render_items = [{\"docid\":\"717cdcdc-2287-4c3a-8c7b-855323ab305c\",\"roots\":{\"70565\":\"2d756d52-b754-4554-903a-ce44d9af583b\"}}];\n",
       "  root.Bokeh.embed.embed_items_notebook(docs_json, render_items);\n",
       "\n",
       "  }\n",
       "  if (root.Bokeh !== undefined) {\n",
       "    embed_document(root);\n",
       "  } else {\n",
       "    var attempts = 0;\n",
       "    var timer = setInterval(function(root) {\n",
       "      if (root.Bokeh !== undefined) {\n",
       "        embed_document(root);\n",
       "        clearInterval(timer);\n",
       "      }\n",
       "      attempts++;\n",
       "      if (attempts > 100) {\n",
       "        console.log(\"Bokeh: ERROR: Unable to run BokehJS code because BokehJS library is missing\");\n",
       "        clearInterval(timer);\n",
       "      }\n",
       "    }, 10, root)\n",
       "  }\n",
       "})(window);"
      ],
      "application/vnd.bokehjs_exec.v0+json": ""
     },
     "metadata": {
      "application/vnd.bokehjs_exec.v0+json": {
       "id": "70565"
      }
     },
     "output_type": "display_data"
    }
   ],
   "source": [
    "source=ColumnDataSource(df)\n",
    "\n",
    "p=figure(x_range=df['start_hour'].tolist(),plot_width=800,plot_height=400)\n",
    "\n",
    "p.vbar(x='start_hour',top='male',width=1,source=source,color='blue',legend='Male',alpha=.3,line_color=None)\n",
    "p.vbar(x='start_hour',top='female',width=1,source=source,color='orange',legend='Female',alpha=.3,line_color=None)\n",
    "\n",
    "p.legend.location = \"top_left\"\n",
    "p.xgrid.grid_line_color = None\n",
    "p.ygrid.grid_line_color = None\n",
    "p.x_range.range_padding = 0.04\n",
    "\n",
    "show(p)"
   ]
  },
  {
   "cell_type": "markdown",
   "metadata": {},
   "source": [
    "As we can see, there is not much variation by gender in the time of day trips are started. I looks next at distribution of trips starts relative to user type."
   ]
  },
  {
   "cell_type": "code",
   "execution_count": 373,
   "metadata": {},
   "outputs": [],
   "source": [
    "df=bike_df.pivot_table(index='start_hour',columns='user',values='bike',aggfunc=len)\n",
    "df.reset_index(inplace=True)\n",
    "del df.columns.name\n",
    "df['start_hour']=df['start_hour'].apply(lambda x: str(x))\n",
    "\n",
    "df['Subscriber']=df['Subscriber']/df['Subscriber'].sum()\n",
    "df['Customer']=df['Customer']/df['Customer'].sum()"
   ]
  },
  {
   "cell_type": "code",
   "execution_count": 379,
   "metadata": {},
   "outputs": [
    {
     "data": {
      "text/html": [
       "\n",
       "\n",
       "\n",
       "\n",
       "\n",
       "\n",
       "  <div class=\"bk-root\" id=\"0868701c-a2b7-48be-a817-bf0b080d9282\"></div>\n"
      ]
     },
     "metadata": {},
     "output_type": "display_data"
    },
    {
     "data": {
      "application/javascript": [
       "(function(root) {\n",
       "  function embed_document(root) {\n",
       "    \n",
       "  var docs_json = {\"a7933d88-a02b-4037-bcce-af088f5ec0f0\":{\"roots\":{\"references\":[{\"attributes\":{\"below\":[{\"id\":\"75106\",\"type\":\"CategoricalAxis\"}],\"left\":[{\"id\":\"75110\",\"type\":\"LinearAxis\"}],\"plot_height\":400,\"plot_width\":800,\"renderers\":[{\"id\":\"75106\",\"type\":\"CategoricalAxis\"},{\"id\":\"75109\",\"type\":\"Grid\"},{\"id\":\"75110\",\"type\":\"LinearAxis\"},{\"id\":\"75114\",\"type\":\"Grid\"},{\"id\":\"75123\",\"type\":\"BoxAnnotation\"},{\"id\":\"75142\",\"type\":\"Legend\"},{\"id\":\"75133\",\"type\":\"GlyphRenderer\"},{\"id\":\"75147\",\"type\":\"GlyphRenderer\"}],\"title\":{\"id\":\"75135\",\"type\":\"Title\"},\"toolbar\":{\"id\":\"75121\",\"type\":\"Toolbar\"},\"x_range\":{\"id\":\"75098\",\"type\":\"FactorRange\"},\"x_scale\":{\"id\":\"75102\",\"type\":\"CategoricalScale\"},\"y_range\":{\"id\":\"75100\",\"type\":\"DataRange1d\"},\"y_scale\":{\"id\":\"75104\",\"type\":\"LinearScale\"}},\"id\":\"75097\",\"subtype\":\"Figure\",\"type\":\"Plot\"},{\"attributes\":{\"data_source\":{\"id\":\"75096\",\"type\":\"ColumnDataSource\"},\"glyph\":{\"id\":\"75145\",\"type\":\"VBar\"},\"hover_glyph\":null,\"muted_glyph\":null,\"nonselection_glyph\":{\"id\":\"75146\",\"type\":\"VBar\"},\"selection_glyph\":null,\"view\":{\"id\":\"75148\",\"type\":\"CDSView\"}},\"id\":\"75147\",\"type\":\"GlyphRenderer\"},{\"attributes\":{},\"id\":\"75111\",\"type\":\"BasicTicker\"},{\"attributes\":{\"source\":{\"id\":\"75096\",\"type\":\"ColumnDataSource\"}},\"id\":\"75148\",\"type\":\"CDSView\"},{\"attributes\":{\"dimension\":1,\"grid_line_color\":{\"value\":null},\"plot\":{\"id\":\"75097\",\"subtype\":\"Figure\",\"type\":\"Plot\"},\"ticker\":{\"id\":\"75111\",\"type\":\"BasicTicker\"}},\"id\":\"75114\",\"type\":\"Grid\"},{\"attributes\":{},\"id\":\"75156\",\"type\":\"Selection\"},{\"attributes\":{\"fill_alpha\":{\"value\":0.1},\"fill_color\":{\"value\":\"#1f77b4\"},\"line_alpha\":{\"value\":0.1},\"line_color\":{\"value\":\"#1f77b4\"},\"top\":{\"field\":\"Subscriber\"},\"width\":{\"value\":1},\"x\":{\"field\":\"start_hour\"}},\"id\":\"75132\",\"type\":\"VBar\"},{\"attributes\":{\"label\":{\"value\":\"Customers\"},\"renderers\":[{\"id\":\"75147\",\"type\":\"GlyphRenderer\"}]},\"id\":\"75158\",\"type\":\"LegendItem\"},{\"attributes\":{\"fill_alpha\":{\"value\":0.3},\"fill_color\":{\"value\":\"blue\"},\"line_alpha\":{\"value\":0.3},\"line_color\":{\"value\":null},\"top\":{\"field\":\"Subscriber\"},\"width\":{\"value\":1},\"x\":{\"field\":\"start_hour\"}},\"id\":\"75131\",\"type\":\"VBar\"},{\"attributes\":{\"data_source\":{\"id\":\"75096\",\"type\":\"ColumnDataSource\"},\"glyph\":{\"id\":\"75131\",\"type\":\"VBar\"},\"hover_glyph\":null,\"muted_glyph\":null,\"nonselection_glyph\":{\"id\":\"75132\",\"type\":\"VBar\"},\"selection_glyph\":null,\"view\":{\"id\":\"75134\",\"type\":\"CDSView\"}},\"id\":\"75133\",\"type\":\"GlyphRenderer\"},{\"attributes\":{\"formatter\":{\"id\":\"75140\",\"type\":\"CategoricalTickFormatter\"},\"plot\":{\"id\":\"75097\",\"subtype\":\"Figure\",\"type\":\"Plot\"},\"ticker\":{\"id\":\"75107\",\"type\":\"CategoricalTicker\"}},\"id\":\"75106\",\"type\":\"CategoricalAxis\"},{\"attributes\":{\"formatter\":{\"id\":\"75138\",\"type\":\"BasicTickFormatter\"},\"plot\":{\"id\":\"75097\",\"subtype\":\"Figure\",\"type\":\"Plot\"},\"ticker\":{\"id\":\"75111\",\"type\":\"BasicTicker\"}},\"id\":\"75110\",\"type\":\"LinearAxis\"},{\"attributes\":{},\"id\":\"75115\",\"type\":\"PanTool\"},{\"attributes\":{\"callback\":null,\"factors\":[\"0\",\"1\",\"2\",\"3\",\"4\",\"5\",\"6\",\"7\",\"8\",\"9\",\"10\",\"11\",\"12\",\"13\",\"14\",\"15\",\"16\",\"17\",\"18\",\"19\",\"20\",\"21\",\"22\",\"23\"],\"range_padding\":0.04},\"id\":\"75098\",\"type\":\"FactorRange\"},{\"attributes\":{\"fill_alpha\":{\"value\":0.1},\"fill_color\":{\"value\":\"#1f77b4\"},\"line_alpha\":{\"value\":0.1},\"line_color\":{\"value\":\"#1f77b4\"},\"top\":{\"field\":\"Customer\"},\"width\":{\"value\":1},\"x\":{\"field\":\"start_hour\"}},\"id\":\"75146\",\"type\":\"VBar\"},{\"attributes\":{},\"id\":\"75116\",\"type\":\"WheelZoomTool\"},{\"attributes\":{},\"id\":\"75155\",\"type\":\"UnionRenderers\"},{\"attributes\":{\"overlay\":{\"id\":\"75123\",\"type\":\"BoxAnnotation\"}},\"id\":\"75117\",\"type\":\"BoxZoomTool\"},{\"attributes\":{},\"id\":\"75118\",\"type\":\"SaveTool\"},{\"attributes\":{},\"id\":\"75119\",\"type\":\"ResetTool\"},{\"attributes\":{},\"id\":\"75120\",\"type\":\"HelpTool\"},{\"attributes\":{\"active_drag\":\"auto\",\"active_inspect\":\"auto\",\"active_multi\":null,\"active_scroll\":\"auto\",\"active_tap\":\"auto\",\"tools\":[{\"id\":\"75115\",\"type\":\"PanTool\"},{\"id\":\"75116\",\"type\":\"WheelZoomTool\"},{\"id\":\"75117\",\"type\":\"BoxZoomTool\"},{\"id\":\"75118\",\"type\":\"SaveTool\"},{\"id\":\"75119\",\"type\":\"ResetTool\"},{\"id\":\"75120\",\"type\":\"HelpTool\"}]},\"id\":\"75121\",\"type\":\"Toolbar\"},{\"attributes\":{},\"id\":\"75107\",\"type\":\"CategoricalTicker\"},{\"attributes\":{\"items\":[{\"id\":\"75143\",\"type\":\"LegendItem\"},{\"id\":\"75158\",\"type\":\"LegendItem\"}],\"location\":\"top_left\",\"plot\":{\"id\":\"75097\",\"subtype\":\"Figure\",\"type\":\"Plot\"}},\"id\":\"75142\",\"type\":\"Legend\"},{\"attributes\":{\"fill_alpha\":{\"value\":0.3},\"fill_color\":{\"value\":\"orange\"},\"line_alpha\":{\"value\":0.3},\"line_color\":{\"value\":null},\"top\":{\"field\":\"Customer\"},\"width\":{\"value\":1},\"x\":{\"field\":\"start_hour\"}},\"id\":\"75145\",\"type\":\"VBar\"},{\"attributes\":{},\"id\":\"75104\",\"type\":\"LinearScale\"},{\"attributes\":{\"bottom_units\":\"screen\",\"fill_alpha\":{\"value\":0.5},\"fill_color\":{\"value\":\"lightgrey\"},\"left_units\":\"screen\",\"level\":\"overlay\",\"line_alpha\":{\"value\":1.0},\"line_color\":{\"value\":\"black\"},\"line_dash\":[4,4],\"line_width\":{\"value\":2},\"plot\":null,\"render_mode\":\"css\",\"right_units\":\"screen\",\"top_units\":\"screen\"},\"id\":\"75123\",\"type\":\"BoxAnnotation\"},{\"attributes\":{},\"id\":\"75102\",\"type\":\"CategoricalScale\"},{\"attributes\":{\"source\":{\"id\":\"75096\",\"type\":\"ColumnDataSource\"}},\"id\":\"75134\",\"type\":\"CDSView\"},{\"attributes\":{\"callback\":null,\"data\":{\"Customer\":{\"__ndarray__\":\"DB96/CG4jj+inV8uzXaCP2JRWAb/n3Y/1abPNuqQaz85b4oknGBiPwmaHyHCjWg/o55XpdAafT/LM+TFYoiNP1MVV31DIZs/Ffkn8FrhoT9TEtX7mfSmP4NL5uPceq0/56wr3SxKsT8iy29eg42yP+rkRPe7orM/YxEm9a7qsz9WxQhRAai0PyaS+2sRe7Y/Nao7k2TbtT8pvwT3/cSyP4inNXYMd60//ZQ/O5LDpD9X3C8ZIS+hPx8kkZ0RrZc/\",\"dtype\":\"float64\",\"shape\":[24]},\"Subscriber\":{\"__ndarray__\":\"xnwcIrwxhD+a6rHKAp93P9RnGGWRO2w/ZeiapLARYj83ptojP7NjP6u8y72PHX8/N5nItAxUmT+1+B76cGapP5FXvuaBN7U/9Zfh0djesD8XI4Zwn/KlP5EoICIRkaU/GeFtTPHWqD/Y8VOmNsypP/AZ/T+8h6k/bdpKVXp/qj9WksmaVE6wP9mQXNbc5rg/VzqIFsq/uD/aDyD6LjSyP2ItDWr8CKo/eSkmjn5Yoj9anHqyJNGbP8sqH7yw6JE/\",\"dtype\":\"float64\",\"shape\":[24]},\"index\":[0,1,2,3,4,5,6,7,8,9,10,11,12,13,14,15,16,17,18,19,20,21,22,23],\"start_hour\":[\"0\",\"1\",\"2\",\"3\",\"4\",\"5\",\"6\",\"7\",\"8\",\"9\",\"10\",\"11\",\"12\",\"13\",\"14\",\"15\",\"16\",\"17\",\"18\",\"19\",\"20\",\"21\",\"22\",\"23\"]},\"selected\":{\"id\":\"75156\",\"type\":\"Selection\"},\"selection_policy\":{\"id\":\"75155\",\"type\":\"UnionRenderers\"}},\"id\":\"75096\",\"type\":\"ColumnDataSource\"},{\"attributes\":{\"grid_line_color\":{\"value\":null},\"plot\":{\"id\":\"75097\",\"subtype\":\"Figure\",\"type\":\"Plot\"},\"ticker\":{\"id\":\"75107\",\"type\":\"CategoricalTicker\"}},\"id\":\"75109\",\"type\":\"Grid\"},{\"attributes\":{\"plot\":null,\"text\":\"\"},\"id\":\"75135\",\"type\":\"Title\"},{\"attributes\":{\"label\":{\"value\":\"Subscribers\"},\"renderers\":[{\"id\":\"75133\",\"type\":\"GlyphRenderer\"}]},\"id\":\"75143\",\"type\":\"LegendItem\"},{\"attributes\":{},\"id\":\"75138\",\"type\":\"BasicTickFormatter\"},{\"attributes\":{\"callback\":null},\"id\":\"75100\",\"type\":\"DataRange1d\"},{\"attributes\":{},\"id\":\"75140\",\"type\":\"CategoricalTickFormatter\"}],\"root_ids\":[\"75097\"]},\"title\":\"Bokeh Application\",\"version\":\"1.0.2\"}};\n",
       "  var render_items = [{\"docid\":\"a7933d88-a02b-4037-bcce-af088f5ec0f0\",\"roots\":{\"75097\":\"0868701c-a2b7-48be-a817-bf0b080d9282\"}}];\n",
       "  root.Bokeh.embed.embed_items_notebook(docs_json, render_items);\n",
       "\n",
       "  }\n",
       "  if (root.Bokeh !== undefined) {\n",
       "    embed_document(root);\n",
       "  } else {\n",
       "    var attempts = 0;\n",
       "    var timer = setInterval(function(root) {\n",
       "      if (root.Bokeh !== undefined) {\n",
       "        embed_document(root);\n",
       "        clearInterval(timer);\n",
       "      }\n",
       "      attempts++;\n",
       "      if (attempts > 100) {\n",
       "        console.log(\"Bokeh: ERROR: Unable to run BokehJS code because BokehJS library is missing\");\n",
       "        clearInterval(timer);\n",
       "      }\n",
       "    }, 10, root)\n",
       "  }\n",
       "})(window);"
      ],
      "application/vnd.bokehjs_exec.v0+json": ""
     },
     "metadata": {
      "application/vnd.bokehjs_exec.v0+json": {
       "id": "75097"
      }
     },
     "output_type": "display_data"
    }
   ],
   "source": [
    "source=ColumnDataSource(df)\n",
    "\n",
    "p=figure(x_range=df['start_hour'].tolist(),plot_width=800,plot_height=400)\n",
    "\n",
    "p.vbar(x='start_hour',top='Subscriber',width=1,source=source,color='blue',legend='Subscribers',alpha=.3,line_color=None)\n",
    "p.vbar(x='start_hour',top='Customer',width=1,source=source,color='orange',legend='Customers',alpha=.3,line_color=None)\n",
    "\n",
    "p.legend.location = \"top_left\"\n",
    "p.xgrid.grid_line_color = None\n",
    "p.ygrid.grid_line_color = None\n",
    "p.x_range.range_padding = 0.04\n",
    "\n",
    "show(p)"
   ]
  },
  {
   "cell_type": "markdown",
   "metadata": {},
   "source": [
    "This is a much more revealing chart. It looks like subscribers use the bikes more for commuting (hence spikes in the morning and early evening) while customers (which, again, are probably mostly tourists but also some occasional New York users) use the bikes more during late mornings and in the afternoons. Customers also use the bikes more during late night, but here the difference from subscribers is not very pronounced. \n",
    "\n",
    "Next I draw the same chart using group ages:"
   ]
  },
  {
   "cell_type": "code",
   "execution_count": 382,
   "metadata": {},
   "outputs": [],
   "source": [
    "df=bike_df.pivot_table(index='start_hour',columns='age_group',values='bike',aggfunc=len)\n",
    "df.reset_index(inplace=True)\n",
    "del df.columns.name\n",
    "df['start_hour']=df['start_hour'].apply(lambda x: str(x))\n",
    "\n",
    "df['Middle-Aged']=df['Middle-Aged']/df['Middle-Aged'].sum()\n",
    "df['Old']=df['Old']/df['Old'].sum()\n",
    "df['Young']=df['Young']/df['Young'].sum()\n"
   ]
  },
  {
   "cell_type": "code",
   "execution_count": 389,
   "metadata": {},
   "outputs": [
    {
     "data": {
      "text/html": [
       "\n",
       "\n",
       "\n",
       "\n",
       "\n",
       "\n",
       "  <div class=\"bk-root\" id=\"d9db4031-7253-4df5-9f95-8b464a6124c5\"></div>\n"
      ]
     },
     "metadata": {},
     "output_type": "display_data"
    },
    {
     "data": {
      "application/javascript": [
       "(function(root) {\n",
       "  function embed_document(root) {\n",
       "    \n",
       "  var docs_json = {\"1a50f8be-35de-41fe-a83d-a4d4bcfeec7a\":{\"roots\":{\"references\":[{\"attributes\":{\"below\":[{\"id\":\"80994\",\"type\":\"CategoricalAxis\"}],\"left\":[{\"id\":\"80998\",\"type\":\"LinearAxis\"}],\"plot_height\":400,\"plot_width\":800,\"renderers\":[{\"id\":\"80994\",\"type\":\"CategoricalAxis\"},{\"id\":\"80997\",\"type\":\"Grid\"},{\"id\":\"80998\",\"type\":\"LinearAxis\"},{\"id\":\"81002\",\"type\":\"Grid\"},{\"id\":\"81011\",\"type\":\"BoxAnnotation\"},{\"id\":\"81031\",\"type\":\"Legend\"},{\"id\":\"81022\",\"type\":\"GlyphRenderer\"},{\"id\":\"81037\",\"type\":\"GlyphRenderer\"},{\"id\":\"81053\",\"type\":\"GlyphRenderer\"}],\"title\":{\"id\":\"81024\",\"type\":\"Title\"},\"toolbar\":{\"id\":\"81009\",\"type\":\"Toolbar\"},\"x_range\":{\"id\":\"80986\",\"type\":\"FactorRange\"},\"x_scale\":{\"id\":\"80990\",\"type\":\"CategoricalScale\"},\"y_range\":{\"id\":\"80988\",\"type\":\"DataRange1d\"},\"y_scale\":{\"id\":\"80992\",\"type\":\"LinearScale\"}},\"id\":\"80985\",\"subtype\":\"Figure\",\"type\":\"Plot\"},{\"attributes\":{},\"id\":\"80992\",\"type\":\"LinearScale\"},{\"attributes\":{\"label\":{\"value\":\"Elderly\"},\"renderers\":[{\"id\":\"81053\",\"type\":\"GlyphRenderer\"}]},\"id\":\"81064\",\"type\":\"LegendItem\"},{\"attributes\":{\"data_source\":{\"id\":\"80984\",\"type\":\"ColumnDataSource\"},\"glyph\":{\"id\":\"81020\",\"type\":\"VBar\"},\"hover_glyph\":null,\"muted_glyph\":null,\"nonselection_glyph\":{\"id\":\"81021\",\"type\":\"VBar\"},\"selection_glyph\":null,\"view\":{\"id\":\"81023\",\"type\":\"CDSView\"}},\"id\":\"81022\",\"type\":\"GlyphRenderer\"},{\"attributes\":{},\"id\":\"80990\",\"type\":\"CategoricalScale\"},{\"attributes\":{\"formatter\":{\"id\":\"81029\",\"type\":\"CategoricalTickFormatter\"},\"plot\":{\"id\":\"80985\",\"subtype\":\"Figure\",\"type\":\"Plot\"},\"ticker\":{\"id\":\"80995\",\"type\":\"CategoricalTicker\"}},\"id\":\"80994\",\"type\":\"CategoricalAxis\"},{\"attributes\":{\"label\":{\"value\":\"Youngsters\"},\"renderers\":[{\"id\":\"81022\",\"type\":\"GlyphRenderer\"}]},\"id\":\"81032\",\"type\":\"LegendItem\"},{\"attributes\":{\"source\":{\"id\":\"80984\",\"type\":\"ColumnDataSource\"}},\"id\":\"81023\",\"type\":\"CDSView\"},{\"attributes\":{},\"id\":\"80995\",\"type\":\"CategoricalTicker\"},{\"attributes\":{\"plot\":null,\"text\":\"\"},\"id\":\"81024\",\"type\":\"Title\"},{\"attributes\":{\"range\":{\"id\":\"80986\",\"type\":\"FactorRange\"},\"value\":0.22},\"id\":\"81049\",\"type\":\"Dodge\"},{\"attributes\":{\"grid_line_color\":{\"value\":null},\"plot\":{\"id\":\"80985\",\"subtype\":\"Figure\",\"type\":\"Plot\"},\"ticker\":{\"id\":\"80995\",\"type\":\"CategoricalTicker\"}},\"id\":\"80997\",\"type\":\"Grid\"},{\"attributes\":{},\"id\":\"81027\",\"type\":\"BasicTickFormatter\"},{\"attributes\":{\"formatter\":{\"id\":\"81027\",\"type\":\"BasicTickFormatter\"},\"plot\":{\"id\":\"80985\",\"subtype\":\"Figure\",\"type\":\"Plot\"},\"ticker\":{\"id\":\"80999\",\"type\":\"BasicTicker\"}},\"id\":\"80998\",\"type\":\"LinearAxis\"},{\"attributes\":{},\"id\":\"81029\",\"type\":\"CategoricalTickFormatter\"},{\"attributes\":{},\"id\":\"80999\",\"type\":\"BasicTicker\"},{\"attributes\":{\"fill_alpha\":{\"value\":0.3},\"fill_color\":{\"value\":\"orange\"},\"line_alpha\":{\"value\":0.3},\"line_color\":{\"value\":null},\"top\":{\"field\":\"Middle-Aged\"},\"width\":{\"value\":0.2},\"x\":{\"field\":\"start_hour\",\"transform\":{\"id\":\"81033\",\"type\":\"Dodge\"}}},\"id\":\"81035\",\"type\":\"VBar\"},{\"attributes\":{\"dimension\":1,\"grid_line_color\":{\"value\":null},\"plot\":{\"id\":\"80985\",\"subtype\":\"Figure\",\"type\":\"Plot\"},\"ticker\":{\"id\":\"80999\",\"type\":\"BasicTicker\"}},\"id\":\"81002\",\"type\":\"Grid\"},{\"attributes\":{\"data_source\":{\"id\":\"80984\",\"type\":\"ColumnDataSource\"},\"glyph\":{\"id\":\"81035\",\"type\":\"VBar\"},\"hover_glyph\":null,\"muted_glyph\":null,\"nonselection_glyph\":{\"id\":\"81036\",\"type\":\"VBar\"},\"selection_glyph\":null,\"view\":{\"id\":\"81038\",\"type\":\"CDSView\"}},\"id\":\"81037\",\"type\":\"GlyphRenderer\"},{\"attributes\":{\"fill_alpha\":{\"value\":0.3},\"fill_color\":{\"value\":\"blue\"},\"line_alpha\":{\"value\":0.3},\"line_color\":{\"value\":null},\"top\":{\"field\":\"Young\"},\"width\":{\"value\":0.2},\"x\":{\"field\":\"start_hour\",\"transform\":{\"id\":\"81018\",\"type\":\"Dodge\"}}},\"id\":\"81020\",\"type\":\"VBar\"},{\"attributes\":{\"source\":{\"id\":\"80984\",\"type\":\"ColumnDataSource\"}},\"id\":\"81038\",\"type\":\"CDSView\"},{\"attributes\":{\"fill_alpha\":{\"value\":0.1},\"fill_color\":{\"value\":\"#1f77b4\"},\"line_alpha\":{\"value\":0.1},\"line_color\":{\"value\":\"#1f77b4\"},\"top\":{\"field\":\"Middle-Aged\"},\"width\":{\"value\":0.2},\"x\":{\"field\":\"start_hour\",\"transform\":{\"id\":\"81033\",\"type\":\"Dodge\"}}},\"id\":\"81036\",\"type\":\"VBar\"},{\"attributes\":{},\"id\":\"81045\",\"type\":\"UnionRenderers\"},{\"attributes\":{\"fill_alpha\":{\"value\":0.1},\"fill_color\":{\"value\":\"#1f77b4\"},\"line_alpha\":{\"value\":0.1},\"line_color\":{\"value\":\"#1f77b4\"},\"top\":{\"field\":\"Young\"},\"width\":{\"value\":0.2},\"x\":{\"field\":\"start_hour\",\"transform\":{\"id\":\"81018\",\"type\":\"Dodge\"}}},\"id\":\"81021\",\"type\":\"VBar\"},{\"attributes\":{},\"id\":\"81003\",\"type\":\"PanTool\"},{\"attributes\":{},\"id\":\"81046\",\"type\":\"Selection\"},{\"attributes\":{\"range\":{\"id\":\"80986\",\"type\":\"FactorRange\"}},\"id\":\"81033\",\"type\":\"Dodge\"},{\"attributes\":{},\"id\":\"81004\",\"type\":\"WheelZoomTool\"},{\"attributes\":{\"label\":{\"value\":\"Middle Aged\"},\"renderers\":[{\"id\":\"81037\",\"type\":\"GlyphRenderer\"}]},\"id\":\"81048\",\"type\":\"LegendItem\"},{\"attributes\":{\"overlay\":{\"id\":\"81011\",\"type\":\"BoxAnnotation\"}},\"id\":\"81005\",\"type\":\"BoxZoomTool\"},{\"attributes\":{\"items\":[{\"id\":\"81032\",\"type\":\"LegendItem\"},{\"id\":\"81048\",\"type\":\"LegendItem\"},{\"id\":\"81064\",\"type\":\"LegendItem\"}],\"location\":\"top_left\",\"plot\":{\"id\":\"80985\",\"subtype\":\"Figure\",\"type\":\"Plot\"}},\"id\":\"81031\",\"type\":\"Legend\"},{\"attributes\":{},\"id\":\"81006\",\"type\":\"SaveTool\"},{\"attributes\":{\"callback\":null,\"factors\":[\"0\",\"1\",\"2\",\"3\",\"4\",\"5\",\"6\",\"7\",\"8\",\"9\",\"10\",\"11\",\"12\",\"13\",\"14\",\"15\",\"16\",\"17\",\"18\",\"19\",\"20\",\"21\",\"22\",\"23\"],\"range_padding\":0.04},\"id\":\"80986\",\"type\":\"FactorRange\"},{\"attributes\":{},\"id\":\"81007\",\"type\":\"ResetTool\"},{\"attributes\":{\"fill_alpha\":{\"value\":0.3},\"fill_color\":{\"value\":\"green\"},\"line_alpha\":{\"value\":0.3},\"line_color\":{\"value\":null},\"top\":{\"field\":\"Old\"},\"width\":{\"value\":0.2},\"x\":{\"field\":\"start_hour\",\"transform\":{\"id\":\"81049\",\"type\":\"Dodge\"}}},\"id\":\"81051\",\"type\":\"VBar\"},{\"attributes\":{},\"id\":\"81008\",\"type\":\"HelpTool\"},{\"attributes\":{\"fill_alpha\":{\"value\":0.1},\"fill_color\":{\"value\":\"#1f77b4\"},\"line_alpha\":{\"value\":0.1},\"line_color\":{\"value\":\"#1f77b4\"},\"top\":{\"field\":\"Old\"},\"width\":{\"value\":0.2},\"x\":{\"field\":\"start_hour\",\"transform\":{\"id\":\"81049\",\"type\":\"Dodge\"}}},\"id\":\"81052\",\"type\":\"VBar\"},{\"attributes\":{\"callback\":null},\"id\":\"80988\",\"type\":\"DataRange1d\"},{\"attributes\":{\"active_drag\":\"auto\",\"active_inspect\":\"auto\",\"active_multi\":null,\"active_scroll\":\"auto\",\"active_tap\":\"auto\",\"tools\":[{\"id\":\"81003\",\"type\":\"PanTool\"},{\"id\":\"81004\",\"type\":\"WheelZoomTool\"},{\"id\":\"81005\",\"type\":\"BoxZoomTool\"},{\"id\":\"81006\",\"type\":\"SaveTool\"},{\"id\":\"81007\",\"type\":\"ResetTool\"},{\"id\":\"81008\",\"type\":\"HelpTool\"}]},\"id\":\"81009\",\"type\":\"Toolbar\"},{\"attributes\":{\"data_source\":{\"id\":\"80984\",\"type\":\"ColumnDataSource\"},\"glyph\":{\"id\":\"81051\",\"type\":\"VBar\"},\"hover_glyph\":null,\"muted_glyph\":null,\"nonselection_glyph\":{\"id\":\"81052\",\"type\":\"VBar\"},\"selection_glyph\":null,\"view\":{\"id\":\"81054\",\"type\":\"CDSView\"}},\"id\":\"81053\",\"type\":\"GlyphRenderer\"},{\"attributes\":{\"range\":{\"id\":\"80986\",\"type\":\"FactorRange\"},\"value\":-0.22},\"id\":\"81018\",\"type\":\"Dodge\"},{\"attributes\":{\"callback\":null,\"data\":{\"Middle-Aged\":{\"__ndarray__\":\"expbAlJ3hT9KPfgwyct4P+dXHVCYTmw/4SMVL8Q/Yj9MwxHR4WxhP5e+lfwadHo/UkjDGNiylT9IBu4ulIylPwUre9Se3rI/7KeaRa4BsD9lKjgIpNOmPytZpT2Ttqc/7v9eSisjqz+Seio0oxysP3TqZzRtfqw/+nOgd/8wrT+wpeh7rGexP/DwBbk/xbg/RHJFQif9tz9IAAMsUMqxP+T76BKIq6k/VpTQ1VrkoT/SyoNDZr2bP00CvschhpI/\",\"dtype\":\"float64\",\"shape\":[24]},\"Old\":{\"__ndarray__\":\"XcGS8jByez8ugtU30vZuP5QFI0OqIWY//izmV0mkXT/m8QhMpVlpP6dmD/aS8IE/5PiGdE6dmz9rDDKx0l6tP2uXexUYFrQ/IMuYYqOesD/hgvVCQ4KqPwfYDyjzVao/7LXHfzb+rD8Jw3rf2n+uP5/7+wcANq4/HPsfsugvrz+CzL2paKqyPzIqx87lDbg/2yH5WVA9tT/UkByZvIqtP1rbJdaK/aM/QZSxN9+umz8ANH9PD/OUP7+shRTMpog/\",\"dtype\":\"float64\",\"shape\":[24]},\"Young\":{\"__ndarray__\":\"hwTo0F+Diz87sDbXYNuAP0orZNeH2XQ/aLaXMNY5aT+c5OEcOW1kP5LmqTtMYHo/C1wrqdZTlD8h7hLtB/ijP2//EzljrrE/U+XUe/PEqz9ruNtOeWWiP7vra2xqmKM/66imiQcCqD/OuD6xc5mpPwng1LLziKk/dd5v9trJqj+OhNEDfQuvPy7YvzebIrg/96z3xYlbuj9OQdZY5TC1P1Ubh7BPB7A//1QMjEwcpz9MB0/nls2hP44bohRqKZc/\",\"dtype\":\"float64\",\"shape\":[24]},\"index\":[0,1,2,3,4,5,6,7,8,9,10,11,12,13,14,15,16,17,18,19,20,21,22,23],\"start_hour\":[\"0\",\"1\",\"2\",\"3\",\"4\",\"5\",\"6\",\"7\",\"8\",\"9\",\"10\",\"11\",\"12\",\"13\",\"14\",\"15\",\"16\",\"17\",\"18\",\"19\",\"20\",\"21\",\"22\",\"23\"]},\"selected\":{\"id\":\"81046\",\"type\":\"Selection\"},\"selection_policy\":{\"id\":\"81045\",\"type\":\"UnionRenderers\"}},\"id\":\"80984\",\"type\":\"ColumnDataSource\"},{\"attributes\":{\"source\":{\"id\":\"80984\",\"type\":\"ColumnDataSource\"}},\"id\":\"81054\",\"type\":\"CDSView\"},{\"attributes\":{\"bottom_units\":\"screen\",\"fill_alpha\":{\"value\":0.5},\"fill_color\":{\"value\":\"lightgrey\"},\"left_units\":\"screen\",\"level\":\"overlay\",\"line_alpha\":{\"value\":1.0},\"line_color\":{\"value\":\"black\"},\"line_dash\":[4,4],\"line_width\":{\"value\":2},\"plot\":null,\"render_mode\":\"css\",\"right_units\":\"screen\",\"top_units\":\"screen\"},\"id\":\"81011\",\"type\":\"BoxAnnotation\"}],\"root_ids\":[\"80985\"]},\"title\":\"Bokeh Application\",\"version\":\"1.0.2\"}};\n",
       "  var render_items = [{\"docid\":\"1a50f8be-35de-41fe-a83d-a4d4bcfeec7a\",\"roots\":{\"80985\":\"d9db4031-7253-4df5-9f95-8b464a6124c5\"}}];\n",
       "  root.Bokeh.embed.embed_items_notebook(docs_json, render_items);\n",
       "\n",
       "  }\n",
       "  if (root.Bokeh !== undefined) {\n",
       "    embed_document(root);\n",
       "  } else {\n",
       "    var attempts = 0;\n",
       "    var timer = setInterval(function(root) {\n",
       "      if (root.Bokeh !== undefined) {\n",
       "        embed_document(root);\n",
       "        clearInterval(timer);\n",
       "      }\n",
       "      attempts++;\n",
       "      if (attempts > 100) {\n",
       "        console.log(\"Bokeh: ERROR: Unable to run BokehJS code because BokehJS library is missing\");\n",
       "        clearInterval(timer);\n",
       "      }\n",
       "    }, 10, root)\n",
       "  }\n",
       "})(window);"
      ],
      "application/vnd.bokehjs_exec.v0+json": ""
     },
     "metadata": {
      "application/vnd.bokehjs_exec.v0+json": {
       "id": "80985"
      }
     },
     "output_type": "display_data"
    }
   ],
   "source": [
    "source=ColumnDataSource(df)\n",
    "\n",
    "p=figure(x_range=df['start_hour'].tolist(),plot_width=800,plot_height=400)\n",
    "\n",
    "p.vbar(x=dodge('start_hour',-0.22,range=p.x_range),top='Young',width=.2,source=source,color='blue',legend='Youngsters',alpha=.3,line_color=None)\n",
    "p.vbar(x=dodge('start_hour',0,range=p.x_range),top='Middle-Aged',width=.2,source=source,color='orange',legend='Middle Aged',alpha=.3,line_color=None)\n",
    "p.vbar(x=dodge('start_hour',0.22,range=p.x_range),top='Old',width=.2,source=source,color='green',legend='Elderly',alpha=.3,line_color=None)\n",
    "\n",
    "p.legend.location = \"top_left\"\n",
    "p.xgrid.grid_line_color = None\n",
    "p.ygrid.grid_line_color = None\n",
    "p.x_range.range_padding = 0.04\n",
    "\n",
    "show(p)"
   ]
  },
  {
   "cell_type": "code",
   "execution_count": null,
   "metadata": {},
   "outputs": [],
   "source": []
  }
 ],
 "metadata": {
  "kernelspec": {
   "display_name": "Python 3",
   "language": "python",
   "name": "python3"
  },
  "language_info": {
   "codemirror_mode": {
    "name": "ipython",
    "version": 3
   },
   "file_extension": ".py",
   "mimetype": "text/x-python",
   "name": "python",
   "nbconvert_exporter": "python",
   "pygments_lexer": "ipython3",
   "version": "3.7.1"
  }
 },
 "nbformat": 4,
 "nbformat_minor": 2
}
